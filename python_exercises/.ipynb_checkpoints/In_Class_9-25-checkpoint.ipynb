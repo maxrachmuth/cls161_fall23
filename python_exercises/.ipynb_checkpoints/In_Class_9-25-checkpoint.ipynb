{
 "cells": [
  {
   "cell_type": "code",
   "execution_count": 1,
   "id": "0a4f3aa1",
   "metadata": {},
   "outputs": [
    {
     "data": {
      "text/plain": [
       "2"
      ]
     },
     "execution_count": 1,
     "metadata": {},
     "output_type": "execute_result"
    }
   ],
   "source": [
    "lists_within_lists = [['blue', 'green', 'red'], ['a', 'b', 'c']]\n",
    "len(lists_within_lists)"
   ]
  },
  {
   "cell_type": "code",
   "execution_count": 2,
   "id": "77c50f56",
   "metadata": {},
   "outputs": [
    {
     "name": "stdout",
     "output_type": "stream",
     "text": [
      "['blue', 'green', 'red']\n"
     ]
    }
   ],
   "source": [
    "print(lists_within_lists[0])"
   ]
  },
  {
   "cell_type": "code",
   "execution_count": 5,
   "id": "02244eb0",
   "metadata": {},
   "outputs": [
    {
     "name": "stdout",
     "output_type": "stream",
     "text": [
      "b\n"
     ]
    }
   ],
   "source": [
    "print(lists_within_lists[1][1])"
   ]
  },
  {
   "cell_type": "markdown",
   "id": "d13f3b66",
   "metadata": {},
   "source": [
    "Booleans (true or false)"
   ]
  },
  {
   "cell_type": "code",
   "execution_count": 6,
   "id": "d585f33d",
   "metadata": {},
   "outputs": [],
   "source": [
    "a = True\n",
    "b = False"
   ]
  },
  {
   "cell_type": "code",
   "execution_count": 11,
   "id": "d32ea5f1",
   "metadata": {},
   "outputs": [
    {
     "name": "stdout",
     "output_type": "stream",
     "text": [
      "<class 'bool'>\n",
      "<class 'bool'>\n"
     ]
    }
   ],
   "source": [
    "print(type(a))\n",
    "print(type(b))"
   ]
  },
  {
   "cell_type": "code",
   "execution_count": 16,
   "id": "73980ee7",
   "metadata": {},
   "outputs": [
    {
     "name": "stdout",
     "output_type": "stream",
     "text": [
      "True\n",
      "True\n",
      "True\n",
      "True\n"
     ]
    }
   ],
   "source": [
    "print(1==1)\n",
    "print(1!=2)\n",
    "print(1>.5)\n",
    "print(1<2)"
   ]
  },
  {
   "cell_type": "code",
   "execution_count": 19,
   "id": "172e24aa",
   "metadata": {},
   "outputs": [
    {
     "name": "stdout",
     "output_type": "stream",
     "text": [
      "False\n",
      "False\n"
     ]
    }
   ],
   "source": [
    "print(7==10)\n",
    "print(7>10)"
   ]
  },
  {
   "cell_type": "code",
   "execution_count": 20,
   "id": "51f20237",
   "metadata": {},
   "outputs": [
    {
     "data": {
      "text/plain": [
       "True"
      ]
     },
     "execution_count": 20,
     "metadata": {},
     "output_type": "execute_result"
    }
   ],
   "source": [
    "a =10\n",
    "a==10"
   ]
  },
  {
   "cell_type": "markdown",
   "id": "4478a7b2",
   "metadata": {},
   "source": [
    "can do the same thing with strings"
   ]
  },
  {
   "cell_type": "code",
   "execution_count": 21,
   "id": "85c047c8",
   "metadata": {},
   "outputs": [
    {
     "name": "stdout",
     "output_type": "stream",
     "text": [
      "True\n"
     ]
    }
   ],
   "source": [
    "print(\"blah\" == \"blah\")"
   ]
  },
  {
   "cell_type": "code",
   "execution_count": 22,
   "id": "5f821edf",
   "metadata": {},
   "outputs": [
    {
     "name": "stdout",
     "output_type": "stream",
     "text": [
      "False\n"
     ]
    }
   ],
   "source": [
    "print(\"Blah\" == \"blah\")"
   ]
  },
  {
   "cell_type": "code",
   "execution_count": 23,
   "id": "8598786d",
   "metadata": {},
   "outputs": [],
   "source": [
    "historians = ['gibbon', 'eusebius', 'lepore']"
   ]
  },
  {
   "cell_type": "code",
   "execution_count": 25,
   "id": "708b834f",
   "metadata": {
    "scrolled": true
   },
   "outputs": [
    {
     "name": "stdout",
     "output_type": "stream",
     "text": [
      "True\n"
     ]
    }
   ],
   "source": [
    "# way to check if something is in a list\n",
    "print('gibbon' in historians)"
   ]
  },
  {
   "cell_type": "code",
   "execution_count": 42,
   "id": "f6cf7fa3",
   "metadata": {
    "scrolled": true
   },
   "outputs": [
    {
     "data": {
      "text/plain": [
       "True"
      ]
     },
     "execution_count": 42,
     "metadata": {},
     "output_type": "execute_result"
    }
   ],
   "source": [
    "('gibbon' in historians) or ('Gibbon' in historians)"
   ]
  },
  {
   "cell_type": "code",
   "execution_count": 43,
   "id": "aa58a3ea",
   "metadata": {},
   "outputs": [
    {
     "name": "stdout",
     "output_type": "stream",
     "text": [
      "Gibbon is in the list\n",
      "Gibbon is not in the list\n",
      "Gibbon is not in the list\n"
     ]
    }
   ],
   "source": [
    "for historian in historians:\n",
    "    if historian == \"Gibbon\" or historian == 'gibbon':\n",
    "        print(\"Gibbon is in the list\")\n",
    "    else:\n",
    "        print (\"Gibbon is not in the list\")"
   ]
  },
  {
   "cell_type": "markdown",
   "id": "567a38c2",
   "metadata": {},
   "source": [
    "## Conditionals"
   ]
  },
  {
   "cell_type": "code",
   "execution_count": 26,
   "id": "13b3342b",
   "metadata": {},
   "outputs": [],
   "source": [
    "age = 18"
   ]
  },
  {
   "cell_type": "code",
   "execution_count": 27,
   "id": "5edbdb92",
   "metadata": {},
   "outputs": [
    {
     "name": "stdout",
     "output_type": "stream",
     "text": [
      "you can vote!\n"
     ]
    }
   ],
   "source": [
    "if age >= 18:\n",
    "    print(\"you can vote!\")"
   ]
  },
  {
   "cell_type": "code",
   "execution_count": 31,
   "id": "8fa8945d",
   "metadata": {},
   "outputs": [
    {
     "name": "stdout",
     "output_type": "stream",
     "text": [
      "you cannot vote!\n"
     ]
    }
   ],
   "source": [
    "age = 16\n",
    "if age >= 18:\n",
    "    print(\"you can vote!\")\n",
    "else:\n",
    "    print(\"you cannot vote!\")"
   ]
  },
  {
   "cell_type": "code",
   "execution_count": 34,
   "id": "e44e82f6",
   "metadata": {
    "scrolled": true
   },
   "outputs": [
    {
     "name": "stdout",
     "output_type": "stream",
     "text": [
      "you are just barely able to vote!\n"
     ]
    }
   ],
   "source": [
    "age = 18\n",
    "if age > 18:\n",
    "    print(\"you can vote!\")\n",
    "elif age == 18:\n",
    "    print(\"you are just barely able to vote!\")\n",
    "else:\n",
    "    print(\"you cannot vote!\")\n",
    "    \n",
    "# order should be \"if\", then \"elif\", and then \"else\" at the end if you want"
   ]
  },
  {
   "cell_type": "markdown",
   "id": "bb04c4a5",
   "metadata": {},
   "source": [
    "## Boolean Operators"
   ]
  },
  {
   "cell_type": "code",
   "execution_count": 35,
   "id": "d4539410",
   "metadata": {},
   "outputs": [
    {
     "data": {
      "text/plain": [
       "True"
      ]
     },
     "execution_count": 35,
     "metadata": {},
     "output_type": "execute_result"
    }
   ],
   "source": [
    "(7 != 10)"
   ]
  },
  {
   "cell_type": "code",
   "execution_count": 36,
   "id": "72f65903",
   "metadata": {},
   "outputs": [
    {
     "data": {
      "text/plain": [
       "False"
      ]
     },
     "execution_count": 36,
     "metadata": {},
     "output_type": "execute_result"
    }
   ],
   "source": [
    "(7 != 10) and (7 > 10)"
   ]
  },
  {
   "cell_type": "code",
   "execution_count": 37,
   "id": "642b3d28",
   "metadata": {},
   "outputs": [
    {
     "data": {
      "text/plain": [
       "True"
      ]
     },
     "execution_count": 37,
     "metadata": {},
     "output_type": "execute_result"
    }
   ],
   "source": [
    "(7 != 10) and (7 < 10)"
   ]
  },
  {
   "cell_type": "code",
   "execution_count": 38,
   "id": "3ab89259",
   "metadata": {},
   "outputs": [
    {
     "data": {
      "text/plain": [
       "True"
      ]
     },
     "execution_count": 38,
     "metadata": {},
     "output_type": "execute_result"
    }
   ],
   "source": [
    "(7 != 10) or (7 < 10)\n",
    "# true or a false is still true"
   ]
  },
  {
   "cell_type": "code",
   "execution_count": 39,
   "id": "c54744ce",
   "metadata": {},
   "outputs": [
    {
     "data": {
      "text/plain": [
       "True"
      ]
     },
     "execution_count": 39,
     "metadata": {},
     "output_type": "execute_result"
    }
   ],
   "source": [
    "(7 != 10) or (7 > 10)"
   ]
  },
  {
   "cell_type": "code",
   "execution_count": null,
   "id": "b70a8b7b",
   "metadata": {},
   "outputs": [],
   "source": []
  }
 ],
 "metadata": {
  "kernelspec": {
   "display_name": "Python 3 (ipykernel)",
   "language": "python",
   "name": "python3"
  },
  "language_info": {
   "codemirror_mode": {
    "name": "ipython",
    "version": 3
   },
   "file_extension": ".py",
   "mimetype": "text/x-python",
   "name": "python",
   "nbconvert_exporter": "python",
   "pygments_lexer": "ipython3",
   "version": "3.11.4"
  }
 },
 "nbformat": 4,
 "nbformat_minor": 5
}

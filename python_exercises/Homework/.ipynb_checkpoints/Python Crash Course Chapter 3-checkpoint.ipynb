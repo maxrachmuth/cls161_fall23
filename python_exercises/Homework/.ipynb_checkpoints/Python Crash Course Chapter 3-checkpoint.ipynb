{
 "cells": [
  {
   "cell_type": "markdown",
   "id": "7d32be3f",
   "metadata": {},
   "source": [
    "## Chapter 3, 3-1 - 3-8"
   ]
  },
  {
   "cell_type": "markdown",
   "id": "2c154da1",
   "metadata": {},
   "source": [
    "3-1"
   ]
  },
  {
   "cell_type": "code",
   "execution_count": 2,
   "id": "08db1a98",
   "metadata": {},
   "outputs": [
    {
     "name": "stdout",
     "output_type": "stream",
     "text": [
      "natalie\n",
      "clara\n",
      "maddy\n",
      "noa\n"
     ]
    }
   ],
   "source": [
    "friends = ['natalie', 'clara', 'maddy', 'noa']\n",
    "print(friends[0])\n",
    "print(friends[1])\n",
    "print(friends[2])\n",
    "print(friends[3])"
   ]
  },
  {
   "cell_type": "markdown",
   "id": "6481eaf8",
   "metadata": {},
   "source": [
    "3-2"
   ]
  },
  {
   "cell_type": "code",
   "execution_count": 10,
   "id": "1a4d19ce",
   "metadata": {},
   "outputs": [
    {
     "name": "stdout",
     "output_type": "stream",
     "text": [
      "hi natalie its your friend max\n",
      "hi clara its your friend max\n",
      "hi maddy its your friend max\n",
      "hi noa its your friend max\n"
     ]
    }
   ],
   "source": [
    "print(\"hi \" + friends[0] + \" its your friend max\")\n",
    "print(\"hi \" + friends[1] + \" its your friend max\")\n",
    "print(\"hi \" + friends[2] + \" its your friend max\")\n",
    "print(\"hi \" + friends[3] + \" its your friend max\")"
   ]
  },
  {
   "cell_type": "markdown",
   "id": "ef75506c",
   "metadata": {},
   "source": [
    "3-3"
   ]
  },
  {
   "cell_type": "code",
   "execution_count": 12,
   "id": "d1116d55",
   "metadata": {
    "scrolled": true
   },
   "outputs": [
    {
     "name": "stdout",
     "output_type": "stream",
     "text": [
      "every city should have a good subway system.\n",
      "walking is great when you want to get a bit of exercise.\n",
      "even though it is not good for the environment, car rides with friends are so much fun!\n"
     ]
    }
   ],
   "source": [
    "transportation = ['subway', 'walking', 'car']\n",
    "print('every city should have a good ' +transportation[0]+ ' system.')\n",
    "print(transportation[1] + ' is great when you want to get a bit of exercise.')\n",
    "print('even though it is not good for the environment, ' +transportation[2]+ ' rides with friends are so much fun!')"
   ]
  },
  {
   "cell_type": "markdown",
   "id": "4ea91600",
   "metadata": {},
   "source": [
    "3-4"
   ]
  },
  {
   "cell_type": "code",
   "execution_count": 14,
   "id": "dbb06e16",
   "metadata": {},
   "outputs": [
    {
     "name": "stdout",
     "output_type": "stream",
     "text": [
      "Hi Hunter Schafer, would you like to come to dinner?\n",
      "Hi Tim Robinson, would you like to come to dinner?\n",
      "Hi Chrysippus, would you like to come to dinner?\n"
     ]
    }
   ],
   "source": [
    "guests = [\"Hunter Schafer\", \"Tim Robinson\", \"Chrysippus\"]\n",
    "print('Hi ' +guests[0]+ ', would you like to come to dinner?' )\n",
    "print('Hi ' +guests[1]+ ', would you like to come to dinner?' )\n",
    "print('Hi ' +guests[2]+ ', would you like to come to dinner?' )"
   ]
  },
  {
   "cell_type": "markdown",
   "id": "5fa27fa3",
   "metadata": {},
   "source": [
    "3-5"
   ]
  },
  {
   "cell_type": "code",
   "execution_count": 19,
   "id": "5666a9e2",
   "metadata": {},
   "outputs": [
    {
     "name": "stdout",
     "output_type": "stream",
     "text": [
      "Hi Hunter Schafer, would you like to come to dinner?\n",
      "Hi Tim Robinson, would you like to come to dinner?\n",
      "Hi Chrysippus, would you like to come to dinner?\n",
      "Hunter Schafer\n",
      "Hi Zendaya, would you like to come to dinner?\n",
      "Hi Tim Robinson, would you like to come to dinner?\n",
      "Hi Chrysippus, would you like to come to dinner?\n"
     ]
    }
   ],
   "source": [
    "guests = [\"Hunter Schafer\", \"Tim Robinson\", \"Chrysippus\"]\n",
    "print('Hi ' +guests[0]+ ', would you like to come to dinner?' )\n",
    "print('Hi ' +guests[1]+ ', would you like to come to dinner?' )\n",
    "print('Hi ' +guests[2]+ ', would you like to come to dinner?' )\n",
    "print(guests[0])\n",
    "guests.remove(\"Hunter Schafer\")\n",
    "guests.insert(0, \"Zendaya\")\n",
    "print('Hi ' +guests[0]+ ', would you like to come to dinner?' )\n",
    "print('Hi ' +guests[1]+ ', would you like to come to dinner?' )\n",
    "print('Hi ' +guests[2]+ ', would you like to come to dinner?' )"
   ]
  },
  {
   "cell_type": "markdown",
   "id": "71965153",
   "metadata": {},
   "source": [
    "3-6"
   ]
  },
  {
   "cell_type": "code",
   "execution_count": 22,
   "id": "7053354d",
   "metadata": {},
   "outputs": [
    {
     "name": "stdout",
     "output_type": "stream",
     "text": [
      "Hi Hunter Schafer, would you like to come to dinner?\n",
      "Hi Tim Robinson, would you like to come to dinner?\n",
      "Hi Chrysippus, would you like to come to dinner?\n",
      "\n",
      "I have found a bigger table, so more people can come to dinner!\n",
      "\n",
      "Hi Kate McKinnon, would you like to come to dinner?\n",
      "Hi Sandra Oh, would you like to come to dinner?\n",
      "Hi Bill Whitaker, would you like to come to dinner?\n"
     ]
    }
   ],
   "source": [
    "guests = [\"Hunter Schafer\", \"Tim Robinson\", \"Chrysippus\"]\n",
    "guests.append('Bill Whitaker')\n",
    "guests.insert(0,'Kate McKinnon')\n",
    "guests.insert(2, 'Sandra Oh')\n",
    "print('Hi ' +guests[1]+ ', would you like to come to dinner?' )\n",
    "print('Hi ' +guests[3]+ ', would you like to come to dinner?' )\n",
    "print('Hi ' +guests[4]+ ', would you like to come to dinner?' )\n",
    "print('\\nI have found a bigger table, so more people can come to dinner!')\n",
    "print('\\nHi ' +guests[0]+ ', would you like to come to dinner?' )\n",
    "print('Hi ' +guests[2]+ ', would you like to come to dinner?' )\n",
    "print('Hi ' +guests[5]+ ', would you like to come to dinner?' )"
   ]
  },
  {
   "cell_type": "markdown",
   "id": "01bf3341",
   "metadata": {},
   "source": [
    "3-7"
   ]
  },
  {
   "cell_type": "code",
   "execution_count": 36,
   "id": "6a73f64b",
   "metadata": {},
   "outputs": [
    {
     "name": "stdout",
     "output_type": "stream",
     "text": [
      "Hi Hunter Schafer, would you like to come to dinner?\n",
      "Hi Tim Robinson, would you like to come to dinner?\n",
      "Hi Chrysippus, would you like to come to dinner?\n",
      "\n",
      "I have found a bigger table, so more people can come to dinner!\n",
      "\n",
      "Hi Kate McKinnon, would you like to come to dinner?\n",
      "Hi Sandra Oh, would you like to come to dinner?\n",
      "Hi Bill Whitaker, would you like to come to dinner?\n",
      "\n",
      "Oops! My new table will not get here until next week, so I can only invite 2 people!\n",
      "\n",
      "Hi Chrysippus, I am very sorry, but I can no longer have you over for dinner.\n",
      "Hi Tim Robinson, I am very sorry, but I can no longer have you over for dinner.\n",
      "Hi Bill Whitaker, I am very sorry, but I can no longer have you over for dinner.\n",
      "Hi Sandra Oh, I am very sorry, but I can no longer have you over for dinner.\n",
      "[]\n"
     ]
    }
   ],
   "source": [
    "guests = [\"Hunter Schafer\", \"Tim Robinson\", \"Chrysippus\"]\n",
    "guests.append('Bill Whitaker')\n",
    "guests.insert(0,'Kate McKinnon')\n",
    "guests.insert(2, 'Sandra Oh')\n",
    "print('Hi ' +guests[1]+ ', would you like to come to dinner?' )\n",
    "print('Hi ' +guests[3]+ ', would you like to come to dinner?' )\n",
    "print('Hi ' +guests[4]+ ', would you like to come to dinner?' )\n",
    "print('\\nI have found a bigger table, so more people can come to dinner!')\n",
    "print('\\nHi ' +guests[0]+ ', would you like to come to dinner?' )\n",
    "print('Hi ' +guests[2]+ ', would you like to come to dinner?' )\n",
    "print('Hi ' +guests[5]+ ', would you like to come to dinner?' )\n",
    "print('\\nOops! My new table will not get here until next week, so I can only invite 2 people!')\n",
    "popped_guests = guests.pop(4)\n",
    "print('\\nHi ' +popped_guests+ ', I am very sorry, but I can no longer have you over for dinner.')\n",
    "popped_guests = guests.pop(3)\n",
    "print('Hi ' +popped_guests+ ', I am very sorry, but I can no longer have you over for dinner.')\n",
    "popped_guests = guests.pop(3)\n",
    "print('Hi ' +popped_guests+ ', I am very sorry, but I can no longer have you over for dinner.')\n",
    "popped_guests = guests.pop(2)\n",
    "print('Hi ' +popped_guests+ ', I am very sorry, but I can no longer have you over for dinner.')\n",
    "del guests[0]\n",
    "del guests[0]\n",
    "print(guests)"
   ]
  },
  {
   "cell_type": "markdown",
   "id": "7eeb1987",
   "metadata": {},
   "source": [
    "3-8"
   ]
  },
  {
   "cell_type": "code",
   "execution_count": 40,
   "id": "876f8de6",
   "metadata": {},
   "outputs": [
    {
     "name": "stdout",
     "output_type": "stream",
     "text": [
      "['Japan', 'Cambodia', 'Argentina', 'Spain', 'Egypt']\n",
      "['Argentina', 'Cambodia', 'Egypt', 'Japan', 'Spain']\n",
      "['Japan', 'Cambodia', 'Argentina', 'Spain', 'Egypt']\n",
      "['Spain', 'Japan', 'Egypt', 'Cambodia', 'Argentina']\n",
      "['Japan', 'Cambodia', 'Argentina', 'Spain', 'Egypt']\n",
      "['Egypt', 'Spain', 'Argentina', 'Cambodia', 'Japan']\n",
      "['Japan', 'Cambodia', 'Argentina', 'Spain', 'Egypt']\n",
      "['Argentina', 'Cambodia', 'Egypt', 'Japan', 'Spain']\n",
      "['Spain', 'Japan', 'Egypt', 'Cambodia', 'Argentina']\n"
     ]
    }
   ],
   "source": [
    "places = ['Japan', 'Cambodia', 'Argentina', 'Spain', 'Egypt']\n",
    "print(places)\n",
    "print(sorted(places))\n",
    "print(places)\n",
    "\n",
    "print(sorted(places, reverse = True))\n",
    "print(places)\n",
    "\n",
    "places.reverse()\n",
    "print(places)\n",
    "places.reverse()\n",
    "print(places)\n",
    "\n",
    "places.sort()\n",
    "print(places)\n",
    "places.sort(reverse=True)\n",
    "print(places)"
   ]
  }
 ],
 "metadata": {
  "kernelspec": {
   "display_name": "Python 3 (ipykernel)",
   "language": "python",
   "name": "python3"
  },
  "language_info": {
   "codemirror_mode": {
    "name": "ipython",
    "version": 3
   },
   "file_extension": ".py",
   "mimetype": "text/x-python",
   "name": "python",
   "nbconvert_exporter": "python",
   "pygments_lexer": "ipython3",
   "version": "3.11.4"
  }
 },
 "nbformat": 4,
 "nbformat_minor": 5
}

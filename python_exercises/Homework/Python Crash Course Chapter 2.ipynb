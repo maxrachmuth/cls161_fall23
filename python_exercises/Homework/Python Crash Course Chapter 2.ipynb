{
 "cells": [
  {
   "cell_type": "markdown",
   "id": "0816168a",
   "metadata": {},
   "source": [
    "## Chapter 2: 2-1 - 2-7, 2-10"
   ]
  },
  {
   "cell_type": "markdown",
   "id": "c3339ca3",
   "metadata": {},
   "source": [
    "2-1"
   ]
  },
  {
   "cell_type": "code",
   "execution_count": 1,
   "id": "12ba9502",
   "metadata": {},
   "outputs": [
    {
     "name": "stdout",
     "output_type": "stream",
     "text": [
      "this is my message for this question\n"
     ]
    }
   ],
   "source": [
    "message = \"this is my message for this question\"\n",
    "print(message)"
   ]
  },
  {
   "cell_type": "markdown",
   "id": "d1a5b5bd",
   "metadata": {},
   "source": [
    "2-2"
   ]
  },
  {
   "cell_type": "code",
   "execution_count": 2,
   "id": "f156923a",
   "metadata": {},
   "outputs": [
    {
     "name": "stdout",
     "output_type": "stream",
     "text": [
      "this is now my message for this new question\n"
     ]
    }
   ],
   "source": [
    "message = 'this is now my message for this new question'\n",
    "print(message)"
   ]
  },
  {
   "cell_type": "markdown",
   "id": "2a5b8715",
   "metadata": {},
   "source": [
    "2-3"
   ]
  },
  {
   "cell_type": "code",
   "execution_count": 10,
   "id": "88d98bf2",
   "metadata": {},
   "outputs": [
    {
     "name": "stdout",
     "output_type": "stream",
     "text": [
      "Oh, youre name is Albert ? That is my grandfathers name\n"
     ]
    }
   ],
   "source": [
    "name = 'Albert'\n",
    "print('Oh, youre name is',name,'? That is my grandfathers name')"
   ]
  },
  {
   "cell_type": "markdown",
   "id": "ab0b90d0",
   "metadata": {},
   "source": [
    "2-4"
   ]
  },
  {
   "cell_type": "code",
   "execution_count": 13,
   "id": "4d2422ae",
   "metadata": {},
   "outputs": [
    {
     "name": "stdout",
     "output_type": "stream",
     "text": [
      "ayo edebiri\n",
      "AYO EDEBIRI\n",
      "Ayo Edebiri\n"
     ]
    }
   ],
   "source": [
    "name = 'Ayo Edebiri'\n",
    "print(name.lower())\n",
    "print(name.upper())\n",
    "print(name.title())"
   ]
  },
  {
   "cell_type": "markdown",
   "id": "7a953633",
   "metadata": {},
   "source": [
    "2-5"
   ]
  },
  {
   "cell_type": "code",
   "execution_count": 12,
   "id": "6b702f39",
   "metadata": {},
   "outputs": [
    {
     "name": "stdout",
     "output_type": "stream",
     "text": [
      "In 'Best in Show', Jennifer Coolidge once said, 'We have so much in common, we both love soup and snow peas, we love the outdoors, and talking and not talking. We could not talk or talk forever and still find things to not talk about.'\n"
     ]
    }
   ],
   "source": [
    "print(\"In 'Best in Show', Jennifer Coolidge once said, 'We have so much in common, we both love soup and snow peas, we love the outdoors, and talking and not talking. We could not talk or talk forever and still find things to not talk about.'\")"
   ]
  },
  {
   "cell_type": "markdown",
   "id": "6b1b94c8",
   "metadata": {},
   "source": [
    "2-6"
   ]
  },
  {
   "cell_type": "code",
   "execution_count": 19,
   "id": "6c1630dd",
   "metadata": {},
   "outputs": [
    {
     "name": "stdout",
     "output_type": "stream",
     "text": [
      "(\"In 'Best in Show',\", 'Jennifer Coolidge', \"once said, 'We have so much in common, we both love soup and snow peas, we love the outdoors, and talking and not talking. We could not talk or talk forever and still find things to not talk about.'\")\n"
     ]
    }
   ],
   "source": [
    "famous_person = 'Jennifer Coolidge'\n",
    "message = \"In 'Best in Show',\", famous_person, \"once said, 'We have so much in common, we both love soup and snow peas, we love the outdoors, and talking and not talking. We could not talk or talk forever and still find things to not talk about.'\"\n",
    "print(message)"
   ]
  },
  {
   "cell_type": "markdown",
   "id": "75cf2d2c",
   "metadata": {},
   "source": [
    "2-7"
   ]
  },
  {
   "cell_type": "code",
   "execution_count": 23,
   "id": "ece02bab",
   "metadata": {},
   "outputs": [
    {
     "name": "stdout",
     "output_type": "stream",
     "text": [
      "   Danny DeVito   \n",
      "Danny DeVito   \n",
      "   Danny DeVito\n",
      "Danny DeVito\n"
     ]
    }
   ],
   "source": [
    "name = \"   Danny DeVito   \"\n",
    "print(name)\n",
    "print(name.lstrip())\n",
    "print(name.rstrip())\n",
    "print(name.strip())"
   ]
  },
  {
   "cell_type": "markdown",
   "id": "95a9bbe8",
   "metadata": {},
   "source": [
    "2-10"
   ]
  },
  {
   "cell_type": "code",
   "execution_count": 24,
   "id": "1128ba46",
   "metadata": {},
   "outputs": [
    {
     "name": "stdout",
     "output_type": "stream",
     "text": [
      "(\"In 'Best in Show',\", 'Jennifer Coolidge', \"once said, 'We have so much in common, we both love soup and snow peas, we love the outdoors, and talking and not talking. We could not talk or talk forever and still find things to not talk about.'\")\n"
     ]
    }
   ],
   "source": [
    "# This is code to print a Jennifer Coolidge quote that I found very funny\n",
    "famous_person = 'Jennifer Coolidge'\n",
    "message = \"In 'Best in Show',\", famous_person, \"once said, 'We have so much in common, we both love soup and snow peas, we love the outdoors, and talking and not talking. We could not talk or talk forever and still find things to not talk about.'\"\n",
    "print(message)"
   ]
  },
  {
   "cell_type": "code",
   "execution_count": 26,
   "id": "5893ddbe",
   "metadata": {},
   "outputs": [
    {
     "name": "stdout",
     "output_type": "stream",
     "text": [
      "ayo edebiri\n",
      "AYO EDEBIRI\n",
      "Ayo Edebiri\n"
     ]
    }
   ],
   "source": [
    "# practice printing strings with different type fonts\n",
    "name = 'Ayo Edebiri'\n",
    "print(name.lower())\n",
    "print(name.upper())\n",
    "print(name.title())"
   ]
  },
  {
   "cell_type": "code",
   "execution_count": null,
   "id": "2630c654",
   "metadata": {},
   "outputs": [],
   "source": []
  }
 ],
 "metadata": {
  "kernelspec": {
   "display_name": "Python 3 (ipykernel)",
   "language": "python",
   "name": "python3"
  },
  "language_info": {
   "codemirror_mode": {
    "name": "ipython",
    "version": 3
   },
   "file_extension": ".py",
   "mimetype": "text/x-python",
   "name": "python",
   "nbconvert_exporter": "python",
   "pygments_lexer": "ipython3",
   "version": "3.11.4"
  }
 },
 "nbformat": 4,
 "nbformat_minor": 5
}

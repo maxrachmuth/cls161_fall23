{
 "cells": [
  {
   "cell_type": "markdown",
   "id": "d0f53338",
   "metadata": {},
   "source": [
    "## Chapter 4, 4-1 - 4-3, 4-6, 4-10, 4-11"
   ]
  },
  {
   "cell_type": "markdown",
   "id": "b0176484",
   "metadata": {},
   "source": [
    "4-1"
   ]
  },
  {
   "cell_type": "code",
   "execution_count": 18,
   "id": "db4b7e10",
   "metadata": {},
   "outputs": [
    {
     "name": "stdout",
     "output_type": "stream",
     "text": [
      "I like veggie pizza.\n",
      "I like sausage pizza.\n",
      "I like cheese pizza.\n",
      "I like pepperoni pizza.\n",
      "I like mushroom pizza.\n",
      "\n",
      "I think pizza is pretty great!\n"
     ]
    }
   ],
   "source": [
    "pizzas = ['veggie', 'sausage', 'cheese', 'pepperoni', 'mushroom']\n",
    "for pizza in pizzas:\n",
    "    print('I like '+ pizza + ' pizza.')\n",
    "print('\\nI think pizza is pretty great!')"
   ]
  },
  {
   "cell_type": "markdown",
   "id": "ac87539d",
   "metadata": {},
   "source": [
    "4-2"
   ]
  },
  {
   "cell_type": "code",
   "execution_count": 8,
   "id": "424e2241",
   "metadata": {},
   "outputs": [
    {
     "name": "stdout",
     "output_type": "stream",
     "text": [
      "A parrot is a type of bird\n",
      "A flamingo is a type of bird\n",
      "A pigeon is a type of bird\n",
      "\n",
      "All of these animals are types of birds!\n"
     ]
    }
   ],
   "source": [
    "birds = ['parrot', 'flamingo', 'pigeon']\n",
    "for bird in birds:\n",
    "    print('A ' +bird+ ' is a type of bird')\n",
    "print('\\nAll of these animals are types of birds!')"
   ]
  },
  {
   "cell_type": "markdown",
   "id": "cf602f05",
   "metadata": {},
   "source": [
    "4-3"
   ]
  },
  {
   "cell_type": "code",
   "execution_count": 14,
   "id": "c120a9ae",
   "metadata": {},
   "outputs": [
    {
     "name": "stdout",
     "output_type": "stream",
     "text": [
      "1\n",
      "2\n",
      "3\n",
      "4\n",
      "5\n",
      "6\n",
      "7\n",
      "8\n",
      "9\n",
      "10\n",
      "11\n",
      "12\n",
      "13\n",
      "14\n",
      "15\n",
      "16\n",
      "17\n",
      "18\n",
      "19\n",
      "20\n"
     ]
    }
   ],
   "source": [
    "for numbers in range (1,21):\n",
    "    print(numbers)"
   ]
  },
  {
   "cell_type": "markdown",
   "id": "cb09a6d3",
   "metadata": {},
   "source": [
    "4-6"
   ]
  },
  {
   "cell_type": "code",
   "execution_count": 17,
   "id": "1fb907c7",
   "metadata": {},
   "outputs": [
    {
     "name": "stdout",
     "output_type": "stream",
     "text": [
      "1\n",
      "3\n",
      "5\n",
      "7\n",
      "9\n",
      "11\n",
      "13\n",
      "15\n",
      "17\n",
      "19\n"
     ]
    }
   ],
   "source": [
    "for numbers in range(1,21,2):\n",
    "    print (numbers)"
   ]
  },
  {
   "cell_type": "markdown",
   "id": "d1c0f069",
   "metadata": {},
   "source": [
    "4-10"
   ]
  },
  {
   "cell_type": "code",
   "execution_count": 33,
   "id": "f64d91f9",
   "metadata": {},
   "outputs": [
    {
     "name": "stdout",
     "output_type": "stream",
     "text": [
      "I like veggie pizza.\n",
      "I like sausage pizza.\n",
      "I like cheese pizza.\n",
      "I like pepperoni pizza.\n",
      "I like mushroom pizza.\n",
      "\n",
      "I think pizza is pretty great!\n",
      "\n",
      "The first 3 items in the list are:\n",
      "['veggie', 'sausage', 'cheese']\n",
      "\n",
      "3 items from the middle fo the list are:\n",
      "['sausage', 'cheese', 'pepperoni']\n",
      "\n",
      "The last 3 items in the list are:\n",
      "['cheese', 'pepperoni', 'mushroom']\n"
     ]
    }
   ],
   "source": [
    "pizzas = ['veggie', 'sausage', 'cheese', 'pepperoni', 'mushroom']\n",
    "for pizza in pizzas:\n",
    "    print('I like '+ pizza + ' pizza.')\n",
    "print('\\nI think pizza is pretty great!')\n",
    "\n",
    "print('\\nThe first 3 items in the list are:')\n",
    "print(pizzas[:3])\n",
    "\n",
    "print('\\n3 items from the middle fo the list are:')\n",
    "print(pizzas[1:4])\n",
    "\n",
    "print('\\nThe last 3 items in the list are:')\n",
    "print(pizzas[2:5])"
   ]
  },
  {
   "cell_type": "markdown",
   "id": "14fc2c12",
   "metadata": {},
   "source": [
    "4-11"
   ]
  },
  {
   "cell_type": "code",
   "execution_count": 37,
   "id": "60255bb4",
   "metadata": {},
   "outputs": [
    {
     "name": "stdout",
     "output_type": "stream",
     "text": [
      "My favorite pizzas are:\n",
      "veggie\n",
      "sausage\n",
      "cheese\n",
      "pepperoni\n",
      "mushroom\n",
      "Hawaiian\n",
      "\n",
      "My friend's favorite pizzas are:\n",
      "veggie\n",
      "sausage\n",
      "cheese\n",
      "pepperoni\n",
      "mushroom\n",
      "Chicago-style\n"
     ]
    }
   ],
   "source": [
    "pizzas = ['veggie', 'sausage', 'cheese', 'pepperoni', 'mushroom']\n",
    "friend_pizzas = pizzas[:]\n",
    "friend_pizzas.append('Chicago-style')\n",
    "pizzas.append('Hawaiian')\n",
    "print('My favorite pizzas are:')\n",
    "for pizza in pizzas:\n",
    "    print(pizza)\n",
    "\n",
    "print(\"\\nMy friend's favorite pizzas are:\")\n",
    "for friend_pizza in friend_pizzas:\n",
    "    print(friend_pizza)"
   ]
  },
  {
   "cell_type": "code",
   "execution_count": null,
   "id": "3db98658",
   "metadata": {},
   "outputs": [],
   "source": []
  }
 ],
 "metadata": {
  "kernelspec": {
   "display_name": "Python 3 (ipykernel)",
   "language": "python",
   "name": "python3"
  },
  "language_info": {
   "codemirror_mode": {
    "name": "ipython",
    "version": 3
   },
   "file_extension": ".py",
   "mimetype": "text/x-python",
   "name": "python",
   "nbconvert_exporter": "python",
   "pygments_lexer": "ipython3",
   "version": "3.11.4"
  }
 },
 "nbformat": 4,
 "nbformat_minor": 5
}

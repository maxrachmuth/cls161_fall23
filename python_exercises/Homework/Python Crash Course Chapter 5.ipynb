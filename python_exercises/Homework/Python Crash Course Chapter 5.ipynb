{
 "cells": [
  {
   "cell_type": "markdown",
   "id": "3a0eee38",
   "metadata": {},
   "source": [
    "## Chapter 5, 5-1, 5-2, 5-6 - 5-10"
   ]
  },
  {
   "cell_type": "markdown",
   "id": "5cf0a8f5",
   "metadata": {},
   "source": [
    "5-1"
   ]
  },
  {
   "cell_type": "code",
   "execution_count": 18,
   "id": "3e6b7c33",
   "metadata": {},
   "outputs": [
    {
     "name": "stdout",
     "output_type": "stream",
     "text": [
      "Is 86 > 94? I predict False\n",
      "False\n",
      "Is 86 <= 94? I predict True\n",
      "True\n",
      "\n",
      "Is 8976 >= 8975? I predict True\n",
      "True\n",
      "Is 8976 <= 8975? I predict False\n",
      "False\n",
      "\n",
      "Is 5*3 == 3*5? I predict True\n",
      "True\n",
      "Is 5**3 == 3**5? I predict False\n",
      "False\n",
      "\n",
      "Is Instrument == 'piano? I predict False'\n",
      "False\n",
      "Is Instrument == 'guitar? I predict True'\n",
      "True\n",
      "\n",
      "Is 42 == The_Meaning_of_Life? I predict False\n",
      "False\n",
      "Is '42' == The_Meaning_of_Life? I predict True\n",
      "True\n"
     ]
    }
   ],
   "source": [
    "print('Is 86 > 94? I predict False')\n",
    "print(86>94)\n",
    "print('Is 86 <= 94? I predict True')\n",
    "print(86<=94)\n",
    "print('\\nIs 8976 >= 8975? I predict True')\n",
    "print(8976 >= 8975)\n",
    "print('Is 8976 <= 8975? I predict False')\n",
    "print(8976 <= 8975)\n",
    "print('\\nIs 5*3 == 3*5? I predict True')\n",
    "print(5*3 == 3*5)\n",
    "print('Is 5**3 == 3**5? I predict False')\n",
    "print(5**3 == 3**5)\n",
    "Instrument = 'guitar'\n",
    "print(\"\\nIs Instrument == 'piano? I predict False'\")\n",
    "print( Instrument == 'piano')\n",
    "print(\"Is Instrument == 'guitar? I predict True'\")\n",
    "print( Instrument == 'guitar')\n",
    "The_Meaning_of_Life = '42'\n",
    "print(\"\\nIs 42 == The_Meaning_of_Life? I predict False\" )\n",
    "print(42 == The_Meaning_of_Life)\n",
    "print(\"Is '42' == The_Meaning_of_Life? I predict True\" )\n",
    "print('42' == The_Meaning_of_Life)"
   ]
  },
  {
   "cell_type": "markdown",
   "id": "19612ceb",
   "metadata": {},
   "source": [
    "5-2"
   ]
  },
  {
   "cell_type": "code",
   "execution_count": 42,
   "id": "4e40f917",
   "metadata": {},
   "outputs": [
    {
     "name": "stdout",
     "output_type": "stream",
     "text": [
      "False\n",
      "True\n",
      "False\n",
      "True\n",
      "True\n",
      "False\n",
      "False\n",
      "True\n",
      "True\n",
      "False\n",
      "True\n",
      "False\n",
      "True\n",
      "False\n"
     ]
    }
   ],
   "source": [
    "print('Walt Whitman' == 'walt whitman')\n",
    "waltwhitman = 'Walt Whitman'\n",
    "print(waltwhitman == 'Walt Whitman')\n",
    "name = 'Kevin Bacon'\n",
    "print('Kevin Bacon' == 'kevin bacon')\n",
    "print(name.lower() == 'kevin bacon' )\n",
    "print(14==14)\n",
    "print(14!=14)\n",
    "print(76>=85)\n",
    "print(76<=85)\n",
    "print(15+15 > 14+15)\n",
    "print(15+15 < 14+15)\n",
    "price_1 = 50\n",
    "price_2 = 35\n",
    "print(price_1 > 45 and price_2 <= 35)\n",
    "print(price_1 == 49 or price_2 >40)\n",
    "coffee_types = ['drip', 'latte', 'mocha', 'espresso']\n",
    "print('mocha' in coffee_types)\n",
    "print('cappuccino' in coffee_types)"
   ]
  },
  {
   "cell_type": "markdown",
   "id": "7f6ff8e1",
   "metadata": {},
   "source": [
    "5-6"
   ]
  },
  {
   "cell_type": "code",
   "execution_count": 43,
   "id": "d72d0139",
   "metadata": {},
   "outputs": [
    {
     "name": "stdout",
     "output_type": "stream",
     "text": [
      "you are an adult!\n"
     ]
    }
   ],
   "source": [
    "age = 29\n",
    "if age < 2:\n",
    "    print('you are a baby!')\n",
    "elif age >= 2 and age < 4:\n",
    "    print('you are a toddler!')\n",
    "elif age >= 4 and age < 13:\n",
    "    print('you are a kid!')\n",
    "elif age >= 13 and age < 20:\n",
    "    print('you are a teenager!')\n",
    "elif age >= 20 and age < 65:\n",
    "    print('you are an adult!')\n",
    "else:\n",
    "    print('you are an older adult!')\n"
   ]
  },
  {
   "cell_type": "markdown",
   "id": "45c996dc",
   "metadata": {},
   "source": [
    "5-7"
   ]
  },
  {
   "cell_type": "code",
   "execution_count": 45,
   "id": "a3f9b245",
   "metadata": {},
   "outputs": [
    {
     "name": "stdout",
     "output_type": "stream",
     "text": [
      "you really like apples!\n",
      "you really like peaches!\n",
      "you really like grapes!\n"
     ]
    }
   ],
   "source": [
    "favorite_fruits = ['apples', 'grapes', 'peaches']\n",
    "if 'apples' in favorite_fruits:\n",
    "    print('you really like apples!')\n",
    "if 'bananas' in favorite_fruits:\n",
    "    print('you really like bananas!')\n",
    "if 'peaches' in favorite_fruits:\n",
    "    print('you really like peaches!')\n",
    "if 'grape' in favorite_fruits:\n",
    "    print('you really like grapes!')\n",
    "if 'grapes' in favorite_fruits:\n",
    "    print('you really like grapes!')"
   ]
  },
  {
   "cell_type": "markdown",
   "id": "9cc1f5c2",
   "metadata": {},
   "source": [
    "5-8"
   ]
  },
  {
   "cell_type": "code",
   "execution_count": 61,
   "id": "fecf45af",
   "metadata": {},
   "outputs": [
    {
     "name": "stdout",
     "output_type": "stream",
     "text": [
      "Hello mgreens1856, thank you for logging in again.\n",
      "Hello grandma64, thank you for logging in again.\n",
      "Hello molassasdisaster81, thank you for logging in again.\n",
      "Hello carboncreature, thank you for logging in again.\n",
      "Hello shrugfaceemoji, thank you for logging in again.\n",
      "Hello admin, would you like to see a status report?\n"
     ]
    }
   ],
   "source": [
    "usernames = ['mgreens1856', 'grandma64', 'molassasdisaster81', 'carboncreature', 'shrugfaceemoji', 'admin']\n",
    "for username in usernames:\n",
    "    if username != 'admin':\n",
    "        print (\"Hello \" + username +\", thank you for logging in again.\")\n",
    "    else:\n",
    "        print('Hello admin, would you like to see a status report?')"
   ]
  },
  {
   "cell_type": "markdown",
   "id": "41597937",
   "metadata": {},
   "source": [
    "5-9"
   ]
  },
  {
   "cell_type": "code",
   "execution_count": 62,
   "id": "42e934c2",
   "metadata": {},
   "outputs": [
    {
     "name": "stdout",
     "output_type": "stream",
     "text": [
      "We need to find some users!\n"
     ]
    }
   ],
   "source": [
    "usernames = []\n",
    "if usernames:\n",
    "    for username in usernames:\n",
    "        if username != 'admin':\n",
    "            print (\"Hello \" + username +\", thank you for logging in again.\")\n",
    "        else:\n",
    "            print('Hello admin, would you like to see a status report?')\n",
    "else:\n",
    "    print('We need to find some users!')"
   ]
  },
  {
   "cell_type": "code",
   "execution_count": 66,
   "id": "c65a5430",
   "metadata": {},
   "outputs": [
    {
     "name": "stdout",
     "output_type": "stream",
     "text": [
      "bananabreath is avaliable! Great job for being creative!\n",
      "Sorry, that username is already taken. Geez try to be original for once!\n",
      "jennifercoolidgefan88 is avaliable! Great job for being creative!\n",
      "Sorry, that username is already taken. Geez try to be original for once!\n",
      "toolittlesleepnotenoughtime65 is avaliable! Great job for being creative!\n"
     ]
    }
   ],
   "source": [
    "current_users = ['mgreens1856', 'grandma64', 'molassasdisaster81', 'carboncreature', 'shrugfaceemoji']\n",
    "new_users = ['bananabreath', 'grandma64', 'jennifercoolidgefan88','carboncreature', 'toolittlesleepnotenoughtime65']\n",
    "for new_user in new_users:\n",
    "    if new_user in current_users:\n",
    "        print('Sorry, that username is already taken. Geez try to be original for once!')\n",
    "    else:\n",
    "        print(new_user+ ' is avaliable! Great job for being creative!')"
   ]
  }
 ],
 "metadata": {
  "kernelspec": {
   "display_name": "Python 3 (ipykernel)",
   "language": "python",
   "name": "python3"
  },
  "language_info": {
   "codemirror_mode": {
    "name": "ipython",
    "version": 3
   },
   "file_extension": ".py",
   "mimetype": "text/x-python",
   "name": "python",
   "nbconvert_exporter": "python",
   "pygments_lexer": "ipython3",
   "version": "3.11.4"
  }
 },
 "nbformat": 4,
 "nbformat_minor": 5
}

{
 "cells": [
  {
   "cell_type": "markdown",
   "id": "64426a5f",
   "metadata": {},
   "source": [
    "# Chapter 6, 6-1 - 6-5, 6-7 - 6-9, 6-11"
   ]
  },
  {
   "cell_type": "markdown",
   "id": "385789f6",
   "metadata": {},
   "source": [
    "6-1"
   ]
  },
  {
   "cell_type": "code",
   "execution_count": 2,
   "id": "8b5b92e8",
   "metadata": {},
   "outputs": [],
   "source": [
    "person = {'first_name' : 'Cinya', 'last_name' : 'Kahn', 'age' : 22, 'city' : 'Boston'}"
   ]
  },
  {
   "cell_type": "code",
   "execution_count": 5,
   "id": "6dd58842",
   "metadata": {},
   "outputs": [
    {
     "name": "stdout",
     "output_type": "stream",
     "text": [
      "Cinya\n",
      "Kahn\n",
      "22\n",
      "Boston\n"
     ]
    }
   ],
   "source": [
    "print(person['first_name'])\n",
    "print(person['last_name'])\n",
    "print(person['age'])\n",
    "print(person['city'])"
   ]
  },
  {
   "cell_type": "markdown",
   "id": "ba901141",
   "metadata": {},
   "source": [
    "6-2"
   ]
  },
  {
   "cell_type": "code",
   "execution_count": 15,
   "id": "a4b6977f",
   "metadata": {},
   "outputs": [],
   "source": [
    "favorite_numbers = {'Samantha': '29', 'Lisa':'18', 'Carl':'42', 'Mira' : '22', 'Naomi':'26' }"
   ]
  },
  {
   "cell_type": "code",
   "execution_count": 17,
   "id": "78614803",
   "metadata": {},
   "outputs": [
    {
     "name": "stdout",
     "output_type": "stream",
     "text": [
      "Samantha, 29\n",
      "Lisa, 18\n",
      "Carl, 42\n",
      "Mira, 22\n",
      "Naomi, 26\n"
     ]
    }
   ],
   "source": [
    "print('Samantha, ' + favorite_numbers['Samantha'] )\n",
    "print('Lisa, ' + favorite_numbers['Lisa'] )\n",
    "print('Carl, ' + favorite_numbers['Carl'] )\n",
    "print('Mira, ' + favorite_numbers['Mira'] )\n",
    "print('Naomi, ' + favorite_numbers['Naomi'] )"
   ]
  },
  {
   "cell_type": "markdown",
   "id": "62b1ebf3",
   "metadata": {},
   "source": [
    "6-3"
   ]
  },
  {
   "cell_type": "code",
   "execution_count": 20,
   "id": "083c3015",
   "metadata": {},
   "outputs": [],
   "source": [
    "glossary = {'index':'position in a list', 'string':'collection of characters', 'integer': 'whole numner', 'list':'series of information separated by commas', 'variable' : 'name that stores some amount of information to be manipulated'}"
   ]
  },
  {
   "cell_type": "code",
   "execution_count": 21,
   "id": "f95adea4",
   "metadata": {},
   "outputs": [
    {
     "name": "stdout",
     "output_type": "stream",
     "text": [
      "index : position in a list\n",
      "\n",
      "string : collection of characters\n",
      "\n",
      "integer : whole numner\n",
      "\n",
      "list : series of information separated by commas\n",
      "\n",
      "variable : name that stores some amount of information to be manipulated\n"
     ]
    }
   ],
   "source": [
    "print('index : '+glossary['index'])\n",
    "print('\\nstring : ' +glossary['string'])\n",
    "print('\\ninteger : ' +glossary['integer'])\n",
    "print('\\nlist : ' +glossary['list'])\n",
    "print('\\nvariable : ' +glossary['variable'])"
   ]
  },
  {
   "cell_type": "markdown",
   "id": "369fc1e6",
   "metadata": {},
   "source": [
    "6-4"
   ]
  },
  {
   "cell_type": "code",
   "execution_count": 31,
   "id": "3f0f686f",
   "metadata": {},
   "outputs": [],
   "source": [
    "glossary = {'index':'position in a list', 'string':'collection of characters', 'integer': 'whole numner', 'list':'series of information separated by commas', 'variable' : 'name that stores some amount of information to be manipulated', 'float' : 'decimal number', 'dictionary' : 'collection of keys and values', 'for loop' : 'command that runs through each item in a list individually', }"
   ]
  },
  {
   "cell_type": "code",
   "execution_count": 55,
   "id": "2ec5e1d6",
   "metadata": {},
   "outputs": [
    {
     "name": "stdout",
     "output_type": "stream",
     "text": [
      "Index: position in a list\n",
      "String: collection of characters\n",
      "Integer: whole numner\n",
      "List: series of information separated by commas\n",
      "Variable: name that stores some amount of information to be manipulated\n",
      "Float: decimal number\n",
      "Dictionary: collection of keys and values\n",
      "For Loop: command that runs through each item in a list individually\n"
     ]
    }
   ],
   "source": [
    "for words in glossary.keys():\n",
    "    print(words.title() + ': '+ glossary[words])"
   ]
  },
  {
   "cell_type": "markdown",
   "id": "10bba41d",
   "metadata": {},
   "source": [
    "6-5"
   ]
  },
  {
   "cell_type": "code",
   "execution_count": 50,
   "id": "ef87752d",
   "metadata": {},
   "outputs": [
    {
     "name": "stdout",
     "output_type": "stream",
     "text": [
      "The Nile runs through Egypt.\n",
      "The Mississippi runs through The United States.\n",
      "The Rio Grande runs through Mexico.\n"
     ]
    }
   ],
   "source": [
    "rivers = {'nile' : 'egypt', 'mississippi' : 'the united states', 'rio grande' : 'mexico'}\n",
    "for river in rivers.keys():\n",
    "    print('The '+ river.title() + ' runs through ' + rivers[river].title() + '.')"
   ]
  },
  {
   "cell_type": "code",
   "execution_count": 51,
   "id": "c62a4213",
   "metadata": {},
   "outputs": [
    {
     "name": "stdout",
     "output_type": "stream",
     "text": [
      "Nile\n",
      "Mississippi\n",
      "Rio Grande\n"
     ]
    }
   ],
   "source": [
    "for river in rivers.keys():\n",
    "    print(river.title())"
   ]
  },
  {
   "cell_type": "code",
   "execution_count": 52,
   "id": "28feeb28",
   "metadata": {},
   "outputs": [
    {
     "name": "stdout",
     "output_type": "stream",
     "text": [
      "Egypt\n",
      "The United States\n",
      "Mexico\n"
     ]
    }
   ],
   "source": [
    "for river in rivers.values():\n",
    "    print(river.title())"
   ]
  },
  {
   "cell_type": "markdown",
   "id": "ecaea0c1",
   "metadata": {},
   "source": [
    "6-7"
   ]
  },
  {
   "cell_type": "code",
   "execution_count": 60,
   "id": "5c16559f",
   "metadata": {},
   "outputs": [],
   "source": [
    "person_1 = {'first_name' : 'Cinya', 'last_name' : 'Kahn', 'age' : 22, 'city' : 'Boston'}\n",
    "person_2 = {'first_name' : 'Maddy', 'last_name' : 'Greens', 'age' : 19, 'city' : 'DC'}\n",
    "person_3 = {'first_name' : 'Noa', 'last_name' : 'Cut', 'age' : 20, 'city' : 'Philadelphia'}\n",
    "people = [person_1, person_2, person_3]\n"
   ]
  },
  {
   "cell_type": "code",
   "execution_count": 61,
   "id": "09f690df",
   "metadata": {},
   "outputs": [
    {
     "name": "stdout",
     "output_type": "stream",
     "text": [
      "{'first_name': 'Cinya', 'last_name': 'Kahn', 'age': 22, 'city': 'Boston'}\n",
      "{'first_name': 'Maddy', 'last_name': 'Greens', 'age': 19, 'city': 'DC'}\n",
      "{'first_name': 'Noa', 'last_name': 'Cut', 'age': 20, 'city': 'Philadelphia'}\n"
     ]
    }
   ],
   "source": [
    "for person in people:\n",
    "    print(person)"
   ]
  },
  {
   "cell_type": "markdown",
   "id": "7a734b71",
   "metadata": {},
   "source": [
    "6-8"
   ]
  },
  {
   "cell_type": "code",
   "execution_count": 62,
   "id": "eecfe1d7",
   "metadata": {},
   "outputs": [
    {
     "name": "stdout",
     "output_type": "stream",
     "text": [
      "{'animal_type': 'dog', 'owner': 'Maddy'}\n",
      "{'animal_type': 'cat', 'owner': 'Noa'}\n"
     ]
    }
   ],
   "source": [
    "jasper = {'animal_type' : 'dog', 'owner' : 'Maddy'}\n",
    "oz = {'animal_type' : 'cat', 'owner' : 'Noa'}\n",
    "pets = [jasper, oz]\n",
    "for pet in pets:\n",
    "    print(pet)"
   ]
  },
  {
   "cell_type": "markdown",
   "id": "9bdf602b",
   "metadata": {},
   "source": [
    "6-9"
   ]
  },
  {
   "cell_type": "code",
   "execution_count": 66,
   "id": "da866261",
   "metadata": {},
   "outputs": [
    {
     "name": "stdout",
     "output_type": "stream",
     "text": [
      "Nikita's favorite place is their bed.\n",
      "Owen's favorite place is San Diego, California.\n",
      "Michelle's favorite place is her own mind.\n"
     ]
    }
   ],
   "source": [
    "favorite_places = {'Nikita':'their bed', 'Owen':'San Diego, California', 'Michelle':'her own mind'}\n",
    "for favorite_place in favorite_places.keys():\n",
    "    print(favorite_place + \"'s favorite place is \"+ favorite_places[favorite_place]+'.')"
   ]
  },
  {
   "cell_type": "markdown",
   "id": "462e7a4f",
   "metadata": {},
   "source": [
    "6-11"
   ]
  },
  {
   "cell_type": "code",
   "execution_count": 75,
   "id": "5bcb5772",
   "metadata": {},
   "outputs": [
    {
     "name": "stdout",
     "output_type": "stream",
     "text": [
      "New York\n",
      "Country: USA, population: 8.5 million, fact: New York is the largest city in the US\n",
      "Cairo\n",
      "Country: Egypt, population: 9.5 million, fact: Cairo is the largest city in Africa\n",
      "Kyoto\n",
      "Country: Japan, population: 1.5 million, fact: Kyoto used to be the capital of Japan\n"
     ]
    }
   ],
   "source": [
    "cities = {'New York': {'country' : 'USA', 'population':'8.5 million', 'fact':'New York is the largest city in the US'}, 'Cairo': {'country' : 'Egypt', 'population':'9.5 million', 'fact':'Cairo is the largest city in Africa'}, 'Kyoto' : {'country' : 'Japan', 'population':'1.5 million', 'fact':'Kyoto used to be the capital of Japan'}}\n",
    "for city, city_info in cities.items():\n",
    "    print(city)\n",
    "    country = city_info['country']\n",
    "    population = city_info['population']\n",
    "    fact = city_info['fact']\n",
    "    print('Country: ' + country + ', population: ' + population+ ', fact: ' +fact)\n",
    "    \n",
    "\n",
    "\n",
    "\n"
   ]
  }
 ],
 "metadata": {
  "kernelspec": {
   "display_name": "Python 3 (ipykernel)",
   "language": "python",
   "name": "python3"
  },
  "language_info": {
   "codemirror_mode": {
    "name": "ipython",
    "version": 3
   },
   "file_extension": ".py",
   "mimetype": "text/x-python",
   "name": "python",
   "nbconvert_exporter": "python",
   "pygments_lexer": "ipython3",
   "version": "3.11.4"
  }
 },
 "nbformat": 4,
 "nbformat_minor": 5
}

{
 "cells": [
  {
   "cell_type": "markdown",
   "id": "8c0411bc",
   "metadata": {},
   "source": [
    "## Chapter 8: 8-1 - 8-3, 8-5 - 8-6"
   ]
  },
  {
   "cell_type": "markdown",
   "id": "cfee40e9",
   "metadata": {},
   "source": [
    "8-1"
   ]
  },
  {
   "cell_type": "code",
   "execution_count": 12,
   "id": "f35ae952",
   "metadata": {},
   "outputs": [
    {
     "name": "stdout",
     "output_type": "stream",
     "text": [
      "In this chapter, I learned how to create and manipulate functions\n"
     ]
    }
   ],
   "source": [
    "def display_message():\n",
    "    \"\"\"prints a message about this chapter\"\"\"\n",
    "    print('In this chapter, I learned how to create and manipulate functions')\n",
    "display_message()"
   ]
  },
  {
   "cell_type": "markdown",
   "id": "68e956ed",
   "metadata": {},
   "source": [
    "8-2"
   ]
  },
  {
   "cell_type": "code",
   "execution_count": 9,
   "id": "f1859ac0",
   "metadata": {},
   "outputs": [
    {
     "name": "stdout",
     "output_type": "stream",
     "text": [
      "My favorite book is Ender's Game\n"
     ]
    }
   ],
   "source": [
    "def favorite_book(book):\n",
    "    \"\"\"prints a statement about favorite books\"\"\"\n",
    "    print(f'My favorite book is {book}')\n",
    "\n",
    "favorite_book(\"Ender's Game\")"
   ]
  },
  {
   "cell_type": "markdown",
   "id": "b0f3c960",
   "metadata": {},
   "source": [
    "8-3"
   ]
  },
  {
   "cell_type": "code",
   "execution_count": 15,
   "id": "3ff33b61",
   "metadata": {},
   "outputs": [
    {
     "name": "stdout",
     "output_type": "stream",
     "text": [
      "This shirt will be a size Medium, and it will say \"Best dad by par!\".\n",
      "This shirt will be a size Medium, and it will say \"Best dad by par!\".\n"
     ]
    }
   ],
   "source": [
    "def make_shirt(size, text):\n",
    "    print(f'This shirt will be a size {size.title()}, and it will say \"{text}\".')\n",
    "make_shirt('medium', 'Best dad by par!')  \n",
    "make_shirt(text = 'Best dad by par!', size = 'medium')  "
   ]
  },
  {
   "cell_type": "markdown",
   "id": "24fce3ba",
   "metadata": {},
   "source": [
    "8-5"
   ]
  },
  {
   "cell_type": "code",
   "execution_count": 17,
   "id": "6e2d6552",
   "metadata": {},
   "outputs": [
    {
     "name": "stdout",
     "output_type": "stream",
     "text": [
      "Melbourne is in Australia\n",
      "Canberra is in Australia\n",
      "Tokyo is in Japan\n"
     ]
    }
   ],
   "source": [
    "def describe_city(city, country = 'Australia'):\n",
    "    print(f'{city.title()} is in {country.title()}')\n",
    "    \n",
    "describe_city(city = 'melbourne')\n",
    "describe_city(city = 'canberra')\n",
    "describe_city(city = 'tokyo', country = 'japan')"
   ]
  },
  {
   "cell_type": "markdown",
   "id": "1d4c4f5b",
   "metadata": {},
   "source": [
    "8-6"
   ]
  },
  {
   "cell_type": "code",
   "execution_count": 28,
   "id": "6db66d8b",
   "metadata": {},
   "outputs": [
    {
     "ename": "TypeError",
     "evalue": "'function' object is not iterable",
     "output_type": "error",
     "traceback": [
      "\u001b[0;31m---------------------------------------------------------------------------\u001b[0m",
      "\u001b[0;31mTypeError\u001b[0m                                 Traceback (most recent call last)",
      "Cell \u001b[0;32mIn[28], line 8\u001b[0m\n\u001b[1;32m      5\u001b[0m         city_countries(cities\u001b[38;5;241m.\u001b[39mkeys(), cities\u001b[38;5;241m.\u001b[39mvalues())\n\u001b[1;32m      6\u001b[0m     \u001b[38;5;28;01mreturn\u001b[39;00m city_countries\n\u001b[0;32m----> 8\u001b[0m city_countries(cities\u001b[38;5;241m.\u001b[39mkeys(), cities\u001b[38;5;241m.\u001b[39mvalues())\n",
      "Cell \u001b[0;32mIn[28], line 4\u001b[0m, in \u001b[0;36mcity_countries\u001b[0;34m(city, country)\u001b[0m\n\u001b[1;32m      2\u001b[0m \u001b[38;5;28;01mdef\u001b[39;00m \u001b[38;5;21mcity_countries\u001b[39m(city, country):\n\u001b[1;32m      3\u001b[0m \u001b[38;5;250m    \u001b[39m\u001b[38;5;124;03m\"\"\"prints city name and counrty pairs\"\"\"\u001b[39;00m\n\u001b[0;32m----> 4\u001b[0m     \u001b[38;5;28;01mfor\u001b[39;00m city_country \u001b[38;5;129;01min\u001b[39;00m city_countries:\n\u001b[1;32m      5\u001b[0m         city_countries(cities\u001b[38;5;241m.\u001b[39mkeys(), cities\u001b[38;5;241m.\u001b[39mvalues())\n\u001b[1;32m      6\u001b[0m     \u001b[38;5;28;01mreturn\u001b[39;00m city_countries\n",
      "\u001b[0;31mTypeError\u001b[0m: 'function' object is not iterable"
     ]
    }
   ],
   "source": [
    "cities = {'Quito' : 'Ecuador', 'New Delhi' : 'India', 'Lima' : 'Peru'}\n",
    "def city_countries(city, country):\n",
    "    \"\"\"prints city name and counrty pairs\"\"\"\n",
    "    for city_country in city_countries:\n",
    "        city_countries(cities.keys(), cities.values())\n",
    "    return city_countries\n",
    "    \n",
    "city_countries(cities.keys(), cities.values())\n",
    "\n",
    "## I seem to be stuck with this one"
   ]
  },
  {
   "cell_type": "code",
   "execution_count": null,
   "id": "b818c06c",
   "metadata": {},
   "outputs": [],
   "source": []
  }
 ],
 "metadata": {
  "kernelspec": {
   "display_name": "Python 3 (ipykernel)",
   "language": "python",
   "name": "python3"
  },
  "language_info": {
   "codemirror_mode": {
    "name": "ipython",
    "version": 3
   },
   "file_extension": ".py",
   "mimetype": "text/x-python",
   "name": "python",
   "nbconvert_exporter": "python",
   "pygments_lexer": "ipython3",
   "version": "3.11.4"
  }
 },
 "nbformat": 4,
 "nbformat_minor": 5
}

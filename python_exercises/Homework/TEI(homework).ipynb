{
 "cells": [
  {
   "cell_type": "markdown",
   "metadata": {
    "id": "VbIn_1X8qeYs"
   },
   "source": [
    "# Parsing a TEI Document - Homework"
   ]
  },
  {
   "cell_type": "markdown",
   "metadata": {
    "id": "nY5ryOZ4qxFv"
   },
   "source": [
    "## Directions\n",
    "\n",
    "Parse the tei of Gibbon's _Decline and Fall_ to extract all the **marginal notes**. (XML file provided)\n",
    "1. Extract all marginal notes\n",
    "2. Remove extraneous whitespace\n",
    "3. Place marginal notes in a dataframe\n",
    "4. Save teh dataframe as a csv file\n"
   ]
  },
  {
   "cell_type": "markdown",
   "metadata": {
    "id": "NbEOJNWP09gl"
   },
   "source": [
    "## Hint\n",
    "\n",
    "Here is a snippet of what a marginal note in the xml document looks like:\n",
    "\n",
    "`<note place=\"margin\">A. D. 268. March 20. Death of Gallienus.</note>`\n",
    "\n",
    "These are different from the footnotes that we saw in class in that (a) they do not have numbers and (b) the white space is different. You are free to accomodate for that however you would like."
   ]
  },
  {
   "cell_type": "markdown",
   "metadata": {
    "id": "ZqVqsq7Tv0ck"
   },
   "source": [
    "### Set up"
   ]
  },
  {
   "cell_type": "code",
   "execution_count": null,
   "metadata": {
    "id": "ax5j3yg4rUfB"
   },
   "outputs": [],
   "source": [
    "# ! pip install beatifulsoup4"
   ]
  },
  {
   "cell_type": "code",
   "execution_count": 1,
   "metadata": {
    "id": "B2P2mAYSqRbQ"
   },
   "outputs": [],
   "source": [
    "from bs4 import BeautifulSoup\n",
    "import requests\n",
    "import pandas as pd"
   ]
  },
  {
   "cell_type": "code",
   "execution_count": 3,
   "metadata": {
    "id": "pVItKZ2GrBur"
   },
   "outputs": [],
   "source": [
    "# load xml file\n",
    "url = \"https://raw.githubusercontent.com/msaxton/nlp-data/main/gibbon.xml\"\n",
    "response = requests.get(url)\n",
    "xml_str = response.text\n"
   ]
  },
  {
   "cell_type": "markdown",
   "metadata": {
    "id": "hVe0pze-v36X"
   },
   "source": [
    "### Parse TEI"
   ]
  },
  {
   "cell_type": "code",
   "execution_count": 4,
   "metadata": {
    "id": "UzS5qa_Y96h2"
   },
   "outputs": [],
   "source": [
    "# use BeautifulSoup to creat an xml object\n",
    "xml = BeautifulSoup(xml_str)"
   ]
  },
  {
   "cell_type": "code",
   "execution_count": 8,
   "metadata": {
    "id": "R6EMEBs5-dUn"
   },
   "outputs": [
    {
     "data": {
      "text/plain": [
       "<note place=\"margin\">\n",
       "                        Aureolus invades Italy, is defeated and be\n",
       "                        <g ref=\"char:EOLhyphen\"></g>\n",
       "                        ſieged at Milan.\n",
       "                    </note>"
      ]
     },
     "execution_count": 8,
     "metadata": {},
     "output_type": "execute_result"
    }
   ],
   "source": [
    "# find all marginal notes\n",
    "marginal_notes = xml.find_all('note', attrs={'place': 'margin'})\n",
    "marginal_notes[0]"
   ]
  },
  {
   "cell_type": "code",
   "execution_count": 9,
   "metadata": {
    "id": "eMr8NOYtrADL"
   },
   "outputs": [],
   "source": [
    "# remove extra space (if needed)\n",
    "def remove_extra_space(text):\n",
    "  text = text.replace('\\n', '')\n",
    "  text = text.replace('  ', '')\n",
    "  return text"
   ]
  },
  {
   "cell_type": "code",
   "execution_count": 11,
   "metadata": {
    "id": "wK7f7hBmsZdl"
   },
   "outputs": [],
   "source": [
    "# prepare data for dataframe\n",
    "processed_marginal_notes = []\n",
    "i = 1\n",
    "for marginal_note in marginal_notes:\n",
    "  d = {}\n",
    "  marginal_note_num = f'marginal note {str(i)}'\n",
    "  marginal_note_text = remove_extra_space(marginal_note.text)\n",
    "  d[\"number\"] = marginal_note_num\n",
    "  d[\"text\"] = marginal_note_text\n",
    "  processed_marginal_notes.append(d)\n",
    "  i += 1"
   ]
  },
  {
   "cell_type": "code",
   "execution_count": 12,
   "metadata": {},
   "outputs": [
    {
     "data": {
      "text/plain": [
       "{'number': 'marginal note 1',\n",
       " 'text': 'Aureolus invades Italy, is defeated and beſieged at Milan.'}"
      ]
     },
     "execution_count": 12,
     "metadata": {},
     "output_type": "execute_result"
    }
   ],
   "source": [
    "processed_marginal_notes[0]"
   ]
  },
  {
   "cell_type": "code",
   "execution_count": 14,
   "metadata": {
    "id": "OM4Ds7xluW4v"
   },
   "outputs": [],
   "source": [
    "# convert to dataframe\n",
    "df = pd.DataFrame.from_dict(processed_marginal_notes)"
   ]
  },
  {
   "cell_type": "code",
   "execution_count": 15,
   "metadata": {
    "id": "FSI4PUQzujoQ"
   },
   "outputs": [],
   "source": [
    "# save dataframe as csv\n",
    "file_name = 'gibbon_marginal_notes_HW.csv'\n",
    "df.to_csv(file_name, index=False)"
   ]
  }
 ],
 "metadata": {
  "colab": {
   "provenance": []
  },
  "kernelspec": {
   "display_name": "Python 3 (ipykernel)",
   "language": "python",
   "name": "python3"
  },
  "language_info": {
   "codemirror_mode": {
    "name": "ipython",
    "version": 3
   },
   "file_extension": ".py",
   "mimetype": "text/x-python",
   "name": "python",
   "nbconvert_exporter": "python",
   "pygments_lexer": "ipython3",
   "version": "3.11.4"
  }
 },
 "nbformat": 4,
 "nbformat_minor": 1
}

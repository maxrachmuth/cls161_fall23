{
 "cells": [
  {
   "cell_type": "markdown",
   "metadata": {
    "id": "36uPeEC46t-G"
   },
   "source": [
    "# Topic Modeling with Gensim"
   ]
  },
  {
   "cell_type": "markdown",
   "metadata": {
    "id": "XLAAMwLa6qz6"
   },
   "source": [
    "A **topic model** is an abstraction of the major topics contained in a corpus of texts. \"Topic\" in this context simply means a pattern of co-occurring words. The assumption is that if there are clearly identified patterns of co-occurring words, those patterns of co-occurring words reveal a latent structure in the corpus of texts. In short, a topic model is a representation of the major themes or structures of a corpus of texts."
   ]
  },
  {
   "cell_type": "markdown",
   "metadata": {
    "id": "gBWY9l3p8Dx4"
   },
   "source": [
    "`Gensim` is a popular Python library for building topic models. In this notebook we will use `Gensim` to build a topic model of Gibbon's _Decline and Fall of the Roman Empire_. After building a topic model, we will then use `pyLDAvis` to visualize the model so we can evaluate its usefulness.\n",
    "\n",
    "I highly recommend that you read through `Gensim`'s [documentation](https://radimrehurek.com/gensim/auto_examples/index.html#core-tutorials-new-users-start-here). Much of the code below is adapted from that source."
   ]
  },
  {
   "cell_type": "markdown",
   "metadata": {
    "id": "Fyz1mFAg9OKl"
   },
   "source": [
    "## Set up"
   ]
  },
  {
   "cell_type": "markdown",
   "metadata": {
    "id": "SRAwTXB2s2Ig"
   },
   "source": [
    "**NOTE**: one of the Python libraries we are using (`pyLDAvis`) can cause problems. Be sure to do the installations in the order that you see them below."
   ]
  },
  {
   "cell_type": "code",
   "execution_count": 1,
   "metadata": {
    "id": "USMtp3eZwP2_"
   },
   "outputs": [
    {
     "name": "stdout",
     "output_type": "stream",
     "text": [
      "Collecting funcy\n",
      "  Downloading funcy-2.0-py2.py3-none-any.whl (30 kB)\n",
      "Installing collected packages: funcy\n",
      "Successfully installed funcy-2.0\n"
     ]
    }
   ],
   "source": [
    "! pip install funcy"
   ]
  },
  {
   "cell_type": "code",
   "execution_count": 2,
   "metadata": {
    "id": "W9t9851RwbBf"
   },
   "outputs": [
    {
     "name": "stdout",
     "output_type": "stream",
     "text": [
      "Requirement already satisfied: tzdata in /Users/Max/miniconda3/lib/python3.11/site-packages (2023.3)\r\n"
     ]
    }
   ],
   "source": [
    "! pip install tzdata"
   ]
  },
  {
   "cell_type": "code",
   "execution_count": 3,
   "metadata": {
    "id": "3ioG-DxNtFrm"
   },
   "outputs": [
    {
     "name": "stdout",
     "output_type": "stream",
     "text": [
      "Collecting pyLDAvis\n",
      "  Downloading pyLDAvis-3.4.1-py3-none-any.whl (2.6 MB)\n",
      "\u001b[2K     \u001b[90m━━━━━━━━━━━━━━━━━━━━━━━━━━━━━━━━━━━━━━━━\u001b[0m \u001b[32m2.6/2.6 MB\u001b[0m \u001b[31m24.4 MB/s\u001b[0m eta \u001b[36m0:00:00\u001b[0ma \u001b[36m0:00:01\u001b[0m\n",
      "\u001b[?25hInstalling collected packages: pyLDAvis\n",
      "Successfully installed pyLDAvis-3.4.1\n"
     ]
    }
   ],
   "source": [
    "! pip install --no-dependencies pyLDAvis"
   ]
  },
  {
   "cell_type": "code",
   "execution_count": 4,
   "metadata": {
    "id": "koKBBWZDvQfu"
   },
   "outputs": [
    {
     "name": "stdout",
     "output_type": "stream",
     "text": [
      "Requirement already satisfied: wget in /Users/Max/miniconda3/lib/python3.11/site-packages (3.2)\r\n"
     ]
    }
   ],
   "source": [
    "! pip install wget"
   ]
  },
  {
   "cell_type": "code",
   "execution_count": 6,
   "metadata": {},
   "outputs": [
    {
     "name": "stdout",
     "output_type": "stream",
     "text": [
      "Collecting gensim\n",
      "  Downloading gensim-4.3.2-cp311-cp311-macosx_11_0_arm64.whl (24.0 MB)\n",
      "\u001b[2K     \u001b[90m━━━━━━━━━━━━━━━━━━━━━━━━━━━━━━━━━━━━━━━━\u001b[0m \u001b[32m24.0/24.0 MB\u001b[0m \u001b[31m37.9 MB/s\u001b[0m eta \u001b[36m0:00:00\u001b[0m00:01\u001b[0m00:01\u001b[0m\n",
      "\u001b[?25hRequirement already satisfied: numpy>=1.18.5 in /Users/Max/miniconda3/lib/python3.11/site-packages (from gensim) (1.26.1)\n",
      "Requirement already satisfied: scipy>=1.7.0 in /Users/Max/miniconda3/lib/python3.11/site-packages (from gensim) (1.11.3)\n",
      "Requirement already satisfied: smart-open>=1.8.1 in /Users/Max/miniconda3/lib/python3.11/site-packages (from gensim) (6.4.0)\n",
      "Installing collected packages: gensim\n",
      "\u001b[31mERROR: pip's dependency resolver does not currently take into account all the packages that are installed. This behaviour is the source of the following dependency conflicts.\n",
      "pyldavis 3.4.1 requires numexpr, which is not installed.\u001b[0m\u001b[31m\n",
      "\u001b[0mSuccessfully installed gensim-4.3.2\n"
     ]
    }
   ],
   "source": [
    "! pip install gensim"
   ]
  },
  {
   "cell_type": "code",
   "execution_count": 2,
   "metadata": {
    "id": "R3pSFNjPoIDG"
   },
   "outputs": [],
   "source": [
    "from collections import defaultdict\n",
    "import wget\n",
    "from gensim import corpora, models\n",
    " # <-- only necessary if you are using Colab\n",
    "import pandas as pd\n",
    "import pyLDAvis.gensim\n",
    "import warnings\n",
    "warnings.filterwarnings(\"ignore\", category=DeprecationWarning)"
   ]
  },
  {
   "cell_type": "markdown",
   "metadata": {
    "id": "-8L8vc5ovd5B"
   },
   "source": [
    "## Upload data"
   ]
  },
  {
   "cell_type": "markdown",
   "metadata": {
    "id": "wyizRg-GxDKj"
   },
   "source": [
    "### Class example"
   ]
  },
  {
   "cell_type": "code",
   "execution_count": 7,
   "metadata": {
    "id": "9XRBOmFxvhv7"
   },
   "outputs": [
    {
     "name": "stdout",
     "output_type": "stream",
     "text": [
      "\r",
      "-1 / unknown\r",
      "-1 / unknown\r",
      "-1 / unknown\r",
      "-1 / unknown\r",
      "-1 / unknown\r",
      "-1 / unknown\r",
      "-1 / unknown\r",
      "-1 / unknown\r",
      "-1 / unknown\r",
      "-1 / unknown\r",
      "-1 / unknown\r",
      "-1 / unknown\r",
      "-1 / unknown\r",
      "-1 / unknown\r",
      "-1 / unknown\r",
      "-1 / unknown\r",
      "-1 / unknown\r",
      "-1 / unknown\r",
      "-1 / unknown\r",
      "-1 / unknown\r",
      "-1 / unknown\r",
      "-1 / unknown\r",
      "-1 / unknown"
     ]
    },
    {
     "data": {
      "text/html": [
       "<div>\n",
       "<style scoped>\n",
       "    .dataframe tbody tr th:only-of-type {\n",
       "        vertical-align: middle;\n",
       "    }\n",
       "\n",
       "    .dataframe tbody tr th {\n",
       "        vertical-align: top;\n",
       "    }\n",
       "\n",
       "    .dataframe thead th {\n",
       "        text-align: right;\n",
       "    }\n",
       "</style>\n",
       "<table border=\"1\" class=\"dataframe\">\n",
       "  <thead>\n",
       "    <tr style=\"text-align: right;\">\n",
       "      <th></th>\n",
       "      <th>{\"totalItems\": 26456</th>\n",
       "      <th>\"endIndex\": 20</th>\n",
       "      <th>\"startIndex\": 1</th>\n",
       "      <th>\"itemsPerPage\": 20</th>\n",
       "      <th>\"items\": [{\"sequence\": 99</th>\n",
       "      <th>\"county\": [null]</th>\n",
       "      <th>\"edition\": null</th>\n",
       "      <th>\"frequency\": \"Daily\"</th>\n",
       "      <th>\"id\": \"/lccn/sn83045462/1950-04-16/ed-1/seq-99/\"</th>\n",
       "      <th>\"subject\": [\"Washington (D.C.)--fast--(OCoLC)fst01204505\"</th>\n",
       "      <th>...</th>\n",
       "      <th>1\\ny J W6L\\u2014Comeras</th>\n",
       "      <th>Ist Floor \\u2022\\nII ... also Chevy Chase</th>\n",
       "      <th>7 Corners and Alexandria\\nV L \\u2713\\nSHOP EARLY. SHOP LATE THURSDAYS AT W&amp;L ash inf ton Store</th>\n",
       "      <th>open Thurt&gt;day\\u00a7. 9;3ft \\u25a0jh to 9 pm. . . . Chen Uhiae. 7 Corner* and Alexandria</th>\n",
       "      <th>9 39 h.m. to 9:39 pa.\\nI\\n* \\u00ab\"</th>\n",
       "      <th>\"batch\": \"dlc_salome_ver01\"</th>\n",
       "      <th>\"title_normal\": \"evening star.\".13</th>\n",
       "      <th>\"url\": \"https://chroniclingamerica.loc.gov/lccn/sn83045462/1959-02-04/ed-1/seq-20.json\"</th>\n",
       "      <th>\"place\": [\"District of Columbia--Washington\"].13</th>\n",
       "      <th>\"page\": \"A-20\"}]}</th>\n",
       "    </tr>\n",
       "  </thead>\n",
       "  <tbody>\n",
       "  </tbody>\n",
       "</table>\n",
       "<p>0 rows × 1903 columns</p>\n",
       "</div>"
      ],
      "text/plain": [
       "Empty DataFrame\n",
       "Columns: [{\"totalItems\": 26456,  \"endIndex\": 20,  \"startIndex\": 1,  \"itemsPerPage\": 20,  \"items\": [{\"sequence\": 99,  \"county\": [null],  \"edition\": null,  \"frequency\": \"Daily\",  \"id\": \"/lccn/sn83045462/1950-04-16/ed-1/seq-99/\",  \"subject\": [\"Washington (D.C.)--fast--(OCoLC)fst01204505\",  \"Washington (D.C.)--Newspapers.\"],  \"city\": [\"Washington\"],  \"date\": \"19500416\",  \"title\": \"Evening star. [volume]\",  \"end_year\": 1972,  \"note\": [\"\\\"From April 25 through May 24,  1861 one sheet issues were published intermittently owing to scarcity of paper.\\\" Cf. Library of Congress,  Photoduplication Service.\",  \"Also issued on microfilm from Microfilming Corp. of America and the Library of Congress,  Photoduplication Service.\".1,  \"Archived issues are available in digital format as part of the Library of Congress Chronicling America online collection.\",  \"Publisher varies: Noyes,  Baker & Co.,  <1867>; Evening Star Newspaper Co.,  <1868->\",  \"Suspended Jan. 1-6,  1971 because of a machinists' strike.\"],  \"state\": [\"District of Columbia\"],  \"section_label\": \"\",  \"type\": \"page\",  \"place_of_publication\": \"Washington,  D.C.\",  \"start_year\": 1854,  \"edition_label\": \"\",  \"publisher\": \"W.D. Wallach & Hope\",  \"language\": [\"English\"],  \"alt_title\": [\"Star\",  \"Sunday star\"],  \"lccn\": \"sn83045462\",  \"country\": \"District of Columbia\",  \"ocr_eng\": \"EM I .\\u25a0 \\\"v it \\u25a0 - -\\nDR. JOHN R. STEELMAN\\nHOW STRONG IS\\nTHE U.S.A.?\\nADMIRAL MLLENKOETTER\\nHOW STRONG IS\\nTHE ENEMY?\\nHUM NCI\\nCOSTS OF\\nTOE COLD WAR\\nDEAN ACHESON\\nat Scatter St*\\nheater*\\nDIPLOMATIC\\nWEAPONS\\nMARRY TRUMAN\\nras Pmhfrwt be beads the\\nNatieul Security Cond-tbis is\\nTHE COLD WAR\\nHIGH COMMAND\\nNATIONAL KCHHrr-'%\\nC88\\\"t, L .\\nWHY YOU SHOULD KNOW THESE NAMES \\u25a0\\u25a0\\u25a0H\\nThe 10 faces above should be familiar to every B\\nAmerican. Unfortunately,  most of them are not. Hr *\\u25a0 B\\nIf you are average,  five or six of the 10 faces are ^BL. IK;\\nunknown to you. This is not surprising; eight of J\\nthe 10 top cold-war jobs didn't even exist until H\\nthree years ago,  and there have been many\\nchanges in personnel. But the main paint is that 10 men run America\\u2019s\\nnew invisible cold-war government. They are charged with the safety\\nof the United States; preventing war if they possibly can,  making\\nsure we are in a position to win if war does come. .\\nThe work of the 10 should be watched,  their actions judged by all of\\nus. They should be supported or criticised,  as necessary. For the way\\nthey do their job will determine the safety and freedom of all of us.\\n- Lowell Thomas\\nTEN MEN\\nHere\\u2019s the inside story of Harry Truman\\u2019s\\ninvisible government. Its job is to guide\\nus through the cold war,  protect us if the\\nwar gets hot. How well is it working? For\\nyour own safety,  you should know the answer\\nby Proctor Mellqnist\",  \"batch\": \"dlc_2kandinsky_ver01\",  \"title_normal\": \"evening star.\",  \"url\": \"https://chroniclingamerica.loc.gov/lccn/sn83045462/1950-04-16/ed-1/seq-99.json\",  \"place\": [\"District of Columbia--Washington\"],  \"page\": \"4\"},  {\"sequence\": 122,  \"county\": [null].1,  \"edition\": null.1,  \"frequency\": \"Daily\".1,  \"id\": \"/lccn/sn83045462/1962-08-12/ed-1/seq-122/\",  \"subject\": [\"Washington (D.C.)--fast--(OCoLC)fst01204505\".1,  \"Washington (D.C.)--Newspapers.\"].1,  \"city\": [\"Washington\"].1,  \"date\": \"19620812\",  \"title\": \"Evening star. [volume]\".1,  \"end_year\": 1972.1,  \"note\": [\"\\\"From April 25 through May 24.1,  1861 one sheet issues were published intermittently owing to scarcity of paper.\\\" Cf. Library of Congress.1,  Photoduplication Service.\".2,  \"Also issued on microfilm from Microfilming Corp. of America and the Library of Congress.1,  Photoduplication Service.\".3,  \"Archived issues are available in digital format as part of the Library of Congress Chronicling America online collection.\".1,  \"Publisher varies: Noyes.1,  Baker & Co..1,  <1867>; Evening Star Newspaper Co..1,  <1868->\".1,  \"Suspended Jan. 1-6.1,  1971 because of a machinists' strike.\"].1,  \"state\": [\"District of Columbia\"].1,  \"section_label\": \"\".1,  \"type\": \"page\".1,  \"place_of_publication\": \"Washington.1,  D.C.\".1,  \"start_year\": 1854.1,  \"edition_label\": \"\".1,  \"publisher\": \"W.D. Wallach & Hope\".1,  \"language\": [\"English\"].1,  \"alt_title\": [\"Star\".1,  \"Sunday star\"].1,  \"lccn\": \"sn83045462\".1,  \"country\": \"District of Columbia\".1,  \"ocr_eng\": \"M 1\\n: ;\\n*4\\nijs3r*s#\\u00ab\\u00ab\\nAuthentic costumes combined with traditional music bring foreign cultures to life during the annual Folk Festival at Roosevelt High School.\\nFolk Dancing Makes For\\nFriendliness\\nAnd Fun\\n26\\nText and Photos by HAROLD J. FLECKNOE\\nSUNDAY. THS STAR MAOAXINB. WASHINGTON. D. C. AUGUST IS. IW2\\nAS LONG AS nations talk to one another,  one\\n./*. hears,  the cold war isn't likely to turn into\\na hot one. Members of the Washington Folk Dance\\nGroup have a refinement of this: Dance together\\nand learn the cultures of other nations and a cold\\nwar will be impossible,  for you can\\u2019t be* \\u2018\\u2018chilly\\u201d\\nto other national groups in an atmosphere of hot\\nfeet. In addition to joining the Folk Festival held\\nhere each May,  the group meets every Wednesday\\nevening in Roosevelt High School to practice the\\ntraditional folk dances of their own ancestors and\\nthe dances of other lands. One of the largest organi\\nsations in the group is the German \\u201cSchuhplattler\\nund Gebirgstraehten Verein Washingtonia, \\u201d or\\n\\u201cShoe Slapping and Mountain Costume Associa\\ntion of Washington\\u201d (see photo at right). If you\\nwant to see this energetic outfit in action,  visit the\\nSylvan Theater this Friday evening.\",  \"batch\": \"dlc_hawks_ver01\",  \"title_normal\": \"evening star.\".1, ...]\n",
       "Index: []\n",
       "\n",
       "[0 rows x 1903 columns]"
      ]
     },
     "execution_count": 7,
     "metadata": {},
     "output_type": "execute_result"
    }
   ],
   "source": [
    "url = 'https://chroniclingamerica.loc.gov/search/pages/results/?state=&date1=1770&date2=1963&proxtext=Cold+War&x=0&y=0&dateFilterType=yearRange&rows=20&searchType=basic&format=json'\n",
    "file_name = wget.download(url)\n",
    "df = pd.read_csv(file_name)\n",
    "df.head()"
   ]
  },
  {
   "cell_type": "markdown",
   "metadata": {
    "id": "BVlNNJl_t9Xp"
   },
   "source": [
    "### Upload your own data sets"
   ]
  },
  {
   "cell_type": "markdown",
   "metadata": {
    "id": "lYZxrFG2uGmJ"
   },
   "source": [
    "If you are using Google Colab:"
   ]
  },
  {
   "cell_type": "code",
   "execution_count": null,
   "metadata": {
    "id": "EjoritRgo-Z9"
   },
   "outputs": [],
   "source": [
    "# uploaded = files.upload()"
   ]
  },
  {
   "cell_type": "code",
   "execution_count": null,
   "metadata": {
    "id": "SrLoR8bWpQyz"
   },
   "outputs": [],
   "source": [
    "#file_name = 'result.csv'# <-- for example: 'data.csv'\n",
    "#df = pd.read_csv(io.BytesIO(uploaded[file_name]))"
   ]
  },
  {
   "cell_type": "markdown",
   "metadata": {
    "id": "4IQj-k3luhXO"
   },
   "source": [
    "If you are using Jupyter Notebooks:"
   ]
  },
  {
   "cell_type": "code",
   "execution_count": 13,
   "metadata": {
    "id": "kRS5rQnburJj"
   },
   "outputs": [],
   "source": [
    "path = '/result.csv' # <-- for example: 'path/to/file/'\n",
    "file_name = 'World_War_II_1918-1963.csv' # <-- for example: 'data.csv'\n",
    "df = pd.read_csv(file_name)"
   ]
  },
  {
   "cell_type": "markdown",
   "metadata": {
    "id": "0YRAGS1-xPv_"
   },
   "source": [
    "## Prepare data for topic model\n",
    "The Python library we are going to use to make our topic model requires the data to be in a form of a list. Within that list, each \"document\" is also a list. So it looks something like this:\n",
    "\n",
    "`[\n",
    "  ['This is document 1'],\n",
    "  ['This is document 2'],\n",
    "  ['This is document 3']\n",
    "]`"
   ]
  },
  {
   "cell_type": "code",
   "execution_count": 14,
   "metadata": {
    "id": "6ktGhQ_Hp30T"
   },
   "outputs": [
    {
     "name": "stdout",
     "output_type": "stream",
     "text": [
      "['classification baseball non essential industry work fight order bring sharp protest tener sun monday june baseball essential war period k n morale public sa toner protests jen crow tier order ft learnt hkaoh maji june john tenor president na tional lonirue lernoon announce lie iii protest propose flsiflcatloit ot baseball industry oen crovvdcr nerk light order trround h necessity nation ueepinir period world war nddltlon v protest tho crpund baseball million dol rs invest action tend away rational pamlme work havoc lnestnient involve tener assert oen crow professional base mil n non essential industry unjii t discrimination inrnltist pinlzatlon dolus pre text ii s pt pit public tlirlnr tvso trj iiik lime national jame clean branch athletic considerable burden nf public llshter well fit topic war duty appear statement follow e time will thlrc possible win war arc mr eed point believe rlsln proper baseball player hould iepond call come treni class selective rt aft place local board cn paircd business profe hut professional baseball se delcuate nmonir non essen industrie pspentlal morale people younsr man ond recreation keep fit come iciulre ability think quickly agility player particularly hose giants farm portion time devoted tacball producer durlnc tftnporary absence ball field p op rrowinr competent u po vllon otber player occupa ois attention month year feel government de ride professional baseball shall man creat busl treat justu e w iii great american come d u secure place heart people intor mts thout and americans navy n tiiat foreign papera larrvlnc bo score league game benclit square deal want asked quit game bull plater drrril olitaln joli june sioom oriole cami wnen news cjinu military r lir tu maril mm ih onrs old obtain ru mm ricu ini child ami wnue mis piarou hm deferred rliikstllcatlon card military service draft ii internrete order rrovo t mahal general mean uubo immediately job instance r ofesslonal baseball plaer o dere throw tho ball glove nd enter tome essential industry faruham intends appeal rt unot board status ball player work fight order jpflnltely decide browns series win llrndrr tlkrrs li nnd suirr star june american vj s eene scrie detroit lmth game double header day itngge stippoit give covelesklo innings nf tho second give visitor lead detroit overcome slslet hit game base run feature ecorc nnst gajie st louis detroit ah r h o e ab r h o e rf n f hurti nnlb ft vitt sb jo ffl r mmitt rf s s b c younr sb m hnrotin n t o oo tolau harper p v ii totnls rnttim holimd eixhth innniy lyuls ilrnit tin hit johnson tiire base hit stolen basis slider demmitt vim hit demmltt sacrifice fly mnn double plar oede sis w heilmann boland spencer leave not ojii delroit klrst b rrror uetmit ilasea balla oft bolinil sothoron hlla boianu innlnts covfleskls s lnnintr hit nltchar r doland hfndryti struck uy sothoron roland coveleikle losinir pitcher second game detroit ab r h o ab r h o n e ef s coiduah m olvht sb lb bi ramltt rf soo tedeonth smim t fhoikrrp lorllarper tntuli total bat younr ninth tnnln ixims v l dftioit base hit veach base hit stolen baao amll sacrifice fly double playa tobln staler jtnltiann vim leave baaea si loula detroit baae error st iul balla coveletkle davenport hlta ob davenport nmnza shocker innlnta struck mi hy darentiort shocker ball scvereld nf pitcher davenport chvu hikk regular sunday bike tha walk fa america hold yeaterday take pdi tha htaten laland ferry lieuie new dorp midland tlaarh urn tho complete tha tilic kjuard kent j dolan ibonltz ghamray radey j zlffer arnold roaanberc s amlung j vogel j juugbluth illckty meeting nf club hold morrow n filing mornlngsldo weat street matter importance b dlacutaed llatebajl today mr v yankees v hoaton polo ir high lights shadows sphere sport v tir ijamki favorable ndverse decision president wilson work fight order concern professional baseball player u intense international situation internal financial major league certain finish pennant rnce speak national league day john heydlcr say nrm uoterrnlnntloii tho club owner carry thpy recruit semi professional nmuteur player fill force tho event professional ball player draft beln force ro employment july thun third major league ronnei lose youngster tho sand lot bo take fill place boy likely provide major league type baseball bn owner eount indulcenco fan emergency overlook shortcoming long pime perpetuutcd continuity competition maintain let bo say owner fan fear nny contingency president likely force tho ball player employment nftcr season expect world aerie play year outlook baesball h hopeful hun large fear national game president wilson glvo league respite year draft law change include man bo practically impossible conduct league kind material ii tit confidence rule supi light uhcad benny kauff joes kterjbody best wishes kauff go camn potent popular player knuff experienco national league remind uoldsmlth churchgoer come scoff remain pray man come major difficult condition kauff see iii fate federal league subject general derision greet ku tiff acquisition tho giants ot joke good regard doubtful experiment kauff batting hero federals n glint come bat nnd feue oblige second guester howler treat ns pariah kauff mind keep quiet listen advice try hard minute game good go national league record proud batting average reputation n long distance thrower second nono fielder par good come kauff bit weak ground ball mcuruw tutelage ho overcome handicap kauff timo time write boastful confident unabashed individual reality george burns ovcr confldent ross young ono whit modest walter holke benny regular feller go good wish everybody clubs follow lead giants u tho new york national league see tho light j issue order admit man go oft repeat demand well think club strong financial reason nnd order prevent possible confusion want saturdays holldiys free list new york club take initiative behoove major league follow suit dodge example free gate service nt giants game come partly harry hempstead convinced service merit consideration nnd partly cftort war department commission training camp activities nil club lift service rest commlsson little mis sionary work government reason world tho man service saddle war tax little recrea tion ho canada thing war tax man uniform let commission anj amendment law tesrean eer wtlve ont confidence failure regain old form tesreau hns go giants bethlehem club steel league tiub official say tesreau action admis sion major leaguer intimate mcgrnw consider ask waiver big right hander go excuse cast aspersion club major seize not tho chance continue success giants nnd n cbance scene n star witness icase itube marquard giants head moii hit triuninh uu j viii nun f u ulonan arc circular letter appeullng prevent louis national league club revert owner helen hritton hns ixen send nil stockholder tho cardinals branch illckey president dub letter state raise day n note duo ijrlttou july debt amount pay week illckey say tho club purchase hritton year ago unpaid resale club col hedges lirown ana associates holy cross college captain lvlect join giants wn hear eraninna howen captain elect holy cross college baseball team join giants howen decline big league offer play sunday ball colonials new haven chief mender pitch turf professional diamond make periodical l t cnti r ti pnrlrllnv xtnntinui nrirl neltihelnp j m color noin nun iuiuri iu j mcdaniel act trainer grant hugh brown douglas hit win game minnie mends rons llenla lo chicago june national liill douglas win game day crucke sinsle seventh send runner plate beat cardinals nml mitchell order game protest umpire stnrnn scoto nmiivi chicago n si t ai rf oo uainub irberrf oo cruise io iir ii ft lift oo v iw zelder sb ii o gonzaiea ft mo oo total netzel sb t packard jurock vi v v total hatted fur llalrd eighth inning trtntte plstell tha ninth inning tdatted betiel ihe ninth innlni u loooooftol s r baa hit halrd ba hit llornaby baaea ji llol loebe fiarrlflce hlt dlatell naaea loula jschlcbgo ftrat baa t iaiulb ch csgo hlaj ii boatc doajf inning inne sherdell inning strike doisglaa s doak pawed ball oonalea lose pitcher doak dundee boxes night meet donley not armory jersey city johnny dundee mickey donley box round armory jersey city night drove interesting contest mickey donley new jersey favor ite lightweight u desirous make showing italian atamp eligible admission upper strata lightweight soci ety far aa dundee concern depend round lively maiitv chonfl ix draw datton ohio june marty crow new york nryan downey columbus ohio welterweight fight frfteen round draw lait night lvtwnev force fighting croan oaa way u iiln flr round cros ha storm giants lose f servlco free day tho week flio unit nrliutva vlolorip huperbas nnd achieve victory ginnts ot lat friday fan nnd financial acuities wckey letter state outlook shaw fans athletics senator beat markmra score nf june american senators bunch hit perry innings day defeat philadelphia tn game tho series shaw relieve avers fourth inning strike iutlt tllao ttta hfcf m mniinn nniiiiii n icuivvwiv t w t irt u s brh o ae t avw v v soo oojfoater jb t ft ft j u q t oo c innil rf nt morsan ib l aran c k ono ayera mchtilte oo shaw oo totalu ii totals mian plclnlch aaventb liuilne wait fourth innlne ft n ni washington x n baaa hlta judge walker baaa hit hurna steal baaea judge ttit nrtei iuee una uiurinr uugan hac rlhce fly shannon doubln playa judge foster shannon dugan jlurns leave baaea philadelphia washing ion flrat baaa errora philadelphia washington baaa balla parrs shaw lilt ayers inninga shaw innlnat hit pitcher ayera isugani f truck ayera bv perry bv hhavv balk shaw pass ball win pitcher shaw cune stops fitzoerald soldier ilartfleld urntr d croaa bonla nbw haven june sol dier bartfleld new york frank cnrbono nrooklyn y fight round draw night boxing match benefit ahlng fourth july fund amer ican foldlera tn overseas service patsy cllne new york stop kittgerald hartford round chick drown new haven harry pierce brooklyn y award draw tho end round jack sharkey new york frankle burn jersey city fight round draw burn ft box champlojf frankle burns day yearn age la hare crack bantam title wednesday far champion pete man round bout toe jersey city basball club ground yanks red sox fight lead american league lcnilinjr contenders important series harlem day n nmikhicit near thing crucial wrle yankees year j car open polo croundh j day wheal light boston bed sox tho temporary session place american league bed sox start series panic yankees win nlrahjlit game order emerge scrlen place tho yankees win game boston prior lloston look run club arc oven bed sox win gamo tho polo grounds seanon miller lkisglns tho yankco leader highly eule tho fai l lie lose ground leader plsyjng athletics tho man go badly western trip little expect vv av stoop sox especially crimson bote plaer good way park athletics hold bos ton nn oven break yankees get series ington form walter son present club bo jtct break vvlth senators iloth yanks lie sox prime series game ensue indiana rtilillnk honors cleveland make effort american ljeaguo raco nnd indians aro welcome join pennant scramble doc johnston bring tho american asso elation play bao cleveland far meet success ho tho fourth man manager fohl cm ploye corner season tho kavanaugh williams miller joe icvans hack base having give indefinite furlough army complcto medical education vacation trtmiti ihnnvh tlm man dub yeais get smart ball player hit thev beat white sot f jr fourth place clarence rowland struggle bald bis world champion ing loss jackson tack pitchers fa lie r williams defence surprise liluuta hant cot slirnrlse nf lle hrooklvti lat l u rn n week drop gime lo team peote mop llttlo trouble trouble brooklyn oc attribute pitching shortage causey win game shut demaree mit earn run thirteen innings run sallce error dny ilanls isoston club lose game seaaon thev arc llkclv lo find present hraves llttlo tough nut crack team kick little exertion spring add dick rudolph dana kllliuglm ibe pitch staff help lilant visit hub inter este tho cubs becan wabble hit week get ion team football kast lucky beat cooper hit club attack begin slow bit baseball race break hen cionder tho national league race reole interesting free chi cago new york anil lloston lead contender dodgers plnsliisr fine ilfill work rrooklyn club serve high praise despite fact club educe fourteen man depend nn pitch staff man pave baseball experience club play fine ball handicap poor start team wonderful work ivnlgers pitch prime cincinnati club continue chute chute mystery lot sox drop cleveland mnkea nf n wlnnlna tn cmctno june american cleveland ii ot chicago day win listless game paghy invincible un til close innings tho score cleveland al chicaho v r n o e ah r h n n o u n till l m m nik fhm ft ft oft ft oft f n ft ft ii ft c c totala s tot bat panforlh elchlh innlnr kieveland t t ft n ft tw bate hit m hit speaker double tilay john ston imt nn case untcaio cleveland flrat baae error chiratro ilasea balla fjanfnrth ft llenr ilasby hiti s nlnaa struck hy ilanforlh liy wild plteh danforlh loalnr pltcher oanforth siisx xbw imtciikii hrooklyn itoyal ilanta realrrdav alpneil tib john llftnaldaon llonaltlsnn la lepnteij lie hlelieat halarle eoloie ountry american national league records result yesterday games kit laiilti wnahlngton m philadelphia chlengo ti ht lie eland nt chicago cincinnati giinir st llelrolt game tne innatl tad game hi louis t lirtrolt u game stand won oat played notion en new york m tei eland ill cblragn avaihliuion lis il kl rk detroit flit tj philadelphia m game schedule day uotlnn la new york philadelphia uatmnclnn chicago lirlrolt cleveland la hi loula s dave robertson play giants siiteinl lirspatch st n vn june dave bobcrtson year star game tho new york giants win piay hla oil position bobcrtson n nn manager ho minn jweepers naval leigue ihu klflli district lie game day day team male nnvxunccd ho agree play giants mc offer itohcitsou play tin bal tho reason ac coidlng member tho sweepcri team asurcd ho play ball sunday tp south tho team spring itcbiitson ngent dcpaituicnt justice lie wis deferrnd class draft pecauki defective knee matty easy victim humble pirate double header initnna juno iiere day flom lincln natl nnd game aihanccd wednes hfiv hv consent toney try pitch game cincinnati wan hit lather freely eacn mayer harmon ety effective second game toney n nut nf tho box sixth innlnir gcoreo smith take place hit hard mckeehnle get seven hit time bat tho hit time second game score liltst ami imttsbviu cincinnati nh r h o rmnii ah r h o e oo pirrvef ft si o j j n lfnuni rl joo di iftllt maree h ft ft j ft ft ii ft ft ft ft t ft ft o ooo o ft ft staler p n u e total rcxati f totals halt tone lo elmh inning ft o j limlnnatl ft ft o base hltt liruh carry mlkectinle thioo haf hit allen run care steal mn arey itl hai sli kkhnle saerime nn lilarkhnrne staaee alien tft f s base jv r mn ln innim strurk eut lly toney lslns pitcher toney flamb pitrsburo cincinnati na f h jj hi oo oolxealerf cnih iw b s ft ch softin lomaree b n ft ft ft g ft ft ft f harmon p ifto n ft h snilih o ft total u ii ft ft flat teney aulh limine pitttburc ft ft ft ft tno bute hit lllnrhman arrher time base nil slobn bate clllshaw mellnltr ainnniia flj neale bate imtuliiirr r manchester heights ilefiate clniimiatl bate errnrt pitts walker loin ilasea ballt tenet l w hran w eati heater ilffente l hen mlth clt mils toney derann c ft innlnct smith innings struck mil llv c smith harmon wild pltihe c smith pltiher toney evans half mile invitation run connecticut champion stars salem crescent games sandy leans new member salenl cre cent connecti cut slate sso yaid champion win jsn jard invitation run fea ture event member game association macombs dam park walter powe alpha phvslcal cu tine club second vaid bind connecticut lad jack sel ler nf new york null van indoor national champion finish hvan take lead vard tape win flue time john hriino win iiuarter ii summary svo yard hun inv luilon won hy sandv van c wnl time s lift ar l haah ii indicap won hy william stephena ynrda vm wavm janltl aah d time acennd thr niarter stile itun won john llrunaon irtrniehl c eon sanlsi feeoinl aaron staiu ell ynrdsi ihlrd time vnrd itun llaudlcao won hv peree vim wayen yardal w moore aetonu jnnn itrunon sl ratchl ft time r aerond weights phelly bout llrltliin tn sculp iii itlnasldei avt licli rililaphlriila juno filial rangementa fcr llenny leonard jac urllton nix rniind bout bo tagcil snino mi plete tlin afternoon weigh hi pound lt il t n r v w uio vtei l ij new york late big advance wile come bout clubs play willi juki iii iim chlnikii fit jfew york hoaton philadelphia n t phubnrg hrooklyn hi louli york lloston hrooklyn rhlluilrlplila pltlabnrg l lnrlnnall hu chicago reach final round tennis doubles slcinkninp nnd unssfonl ail vnncc long island cliimi pionsliip mil cli harry ii stelnkamp dcfcatiiig andei nn waller ii ross semi final round long island tennis double championship tho court iing county tennis club hrooklyn cler day advance final round stein kamp hassford dispose opponent straight sot nnd displace sime wonderful tennis set come great rally nose tholr rival anderson ron hold comfortable lead wind interfere pias ter great deal result rercrc alberts occasion force close decision second set pro ed easy stelnkump teammate set lead fiorn stall survive team seml tlnnl round arc duncan ami ii morgenthalor sellchlio kashlo allan llehr team meet time week dual round play saturday afternoon west tennis team easily win ueteata king co player m meet league match west lub yesterday defeat king county tennis club west sido court tho metro politan league championship match munty winner charley chambers riooklyn champion duncan iloth win match single summary metropolitan aorntlon team n tennla championship tourney slnnlrr haf west hide defenteil anderson sr kliip t hiimbera kincs county iwtutril lateomti ii liunein kins county defeat w meeabo r kasliin west ilertuteil rreii king county c c t de feate mollenhkiier kings cotintv r r davenport west hide ur stnriran hliler klnka county fi double v campbell c roberts wist defeat cllhiillie s kiis counts ilsk go ite feateil morkanlhlrr ll khm countv c pllfnpnrl west sir detenu c osllvle lake kings county t final siore west sole tennis club mauhca klncs ciinti matrbrt adds victory inlvrradty llrlalil team win jlet tennis toiirne match tho cnlverslty height tennis play er eslcrday continue ihelr win streak metropolitan league tournament defeat westches ter county tennis club player westchester court score match tho westchester player catrie ono tho double match nnd single summary metropolitan asf tennli chhtnplonshlp t mrne tennis chili westehesl er lleisht tennis lulu sinsle lltlrhla defeat allen toliev ti heater e j w cm veralty llelcht defint il west ler w mersereau eralty lleisht difeilte s w fitt ehler ml martin llelchta defeat w wads worth vctch sier c ii ii double clapn nn henderson l ni llelkhla del licit klnit c lawrence westeheater fc v mnniheer whyie sitv meiahis defeat walker john appei vveeichetter s t lonev wadtwortb defeatcl mers ercati janes cnlverslty lleluht bushwicks win lose iiirairn iim cup riii annex fi cniiil cimlrsi lucko penn lie cap divler jc terdav win second game henten fi xt huiiilny huslivvleks play itlic e knwp cuban stais havana second rnp score penn wicij ah r h o n nn r n n e ihintnr n ii o cf lift ft o ft denude ft ft ft ft w park lb ft ft ft rr er aoft iialley sb sftl ft ft hnhmrti e zz ti l j n oft ft f o vi iv kedcai ft ft ft ft ii iliithnkka t c ulver nuee base rl w l hlepper elt vail f l v j vn v f ii ii ii iv itail cap ft ft t iliulnv let ft ft ft ft il ittene lanzford collins vanuerllp uoiiinan star detent mite liy t fimy leonard jac k m o en t hit bv plniur ii r iw ut j illl memo nuilim leonard silent hlster v rk home f emh vvc nc mr time muni huiir event tin c j score n nest sunday don nigh w s nd obs k ju hritton wll waahlnston heights meet vm nowvirwltah flrst ll iiatieriit wib iii v star ih tho reeond game thelivbt kerlex featuie ab r h n e ah r h n e l rv lb lift t ft itedley ii oft latitat h flynn ib ihlser sti mack fid ft n lft lift ft ft f ft ts ft omyvitie rf ft ouiein ft itollliiksmuith ami allnhll e s ft itmirki lb alb l tolala totala o llrom staia o ft n ft klngabrldge n ft ft t ft llarncil ruiia slara k liissl t tlrat baae error limtix bate hlta martin itiiai r tin steal latine harry laft en hasea k lligalirtitire s ilium slara h ml llnulei vlynn han ball llff sfui tobln slrtlik hy tuhlli lilt hy pitcher hy tobln hall vaustin rtif tone tlino hour w mlniilea link mantle defeat ii ilrnnett round wn arhcihilid aa fm corernora pup ihe llnka inr country club veaterdav vlrluallr prove lo anal n porter mm hla nay arnd rlaal reaclilnt riie aame rdatlve potltioii aa altaim d sir mantle hla rldory jeaterday vvu meet pnat ami purler ttaa ham meet ii kill tcmi tlnal hut liotli mettik putt kllilurt ile faulle leavlnf mantle porter meet jl major league records past week crk reeord eadi win lose run hil errot man leave basis run score opponent incliidlnx frame saturday june la aa follow national tuba w k chlraiio new york clillilhkltl mrntimi ii bt unit vi r n s jl american chilis s ij iii ro toii nik york s cleirland chicago si luia detroit philadelphia t r tic come monday juno brooklyn handicap ir ilppn burnt io fill vlllll elijulll allotment weights fiivos livery horse linnee vic tory turf classic tha hrooklyn hnndluip famous lastern turf classic deride afternoon tne ton inaugural high lass field name tn start fine tho rbh purso tho fame go victor good handicap horse training enter mote peel bn add lo list field call lo tho post bo return victor l mallet cntiteetnre nien term open race weight hae arrange consider good banco wctory commander loss cudgel weight party ll pound ci uptcht tn nil nf lnu mi likely lie n shot take putt post lavorlte wilfred iloth professional sink putw yinti wests llocan john snnfiiril haeh get not shoit eleventh ienrge smltli andrew miller mcnamara eontitiulng itoamer hao admirer steadily machine plnce tide entrant work lor win twelfth event fast track turf edge green sccomt hlstoiy likely tn write hot amateur icenid winner entile well h hill nnd nc thirteenth monamara wlu iietutiiap tinlf furlong nlng y matrh riaylny horse horse wt st isidore lid koeiiiir siar kallliu hiind ilrennue corn taste tea caddy m wnnd astunie ijjicrank whimsy u sir hello ih artiat second kai senili olda upward mile hor e wt horse wt lnlldel svoet lirnie shannon hlver pandean karly light riser reddest new jf uven ie thistle j hcpeiit ant tear hacc tlie lludton olo ne turionitf horse wt horae wt friend passim shower llirb time mar mlrvcl l imp l ic ii r n tt mnihien ilaniplnn konrlli ilrooulvu llandiean hroe s car upward mile llnr wt hore lloran lift llendne li llollitler con tae wt lift citd el ilimroseli itoamer ticket hccount siniih fifth hue ward sellin t n horse liar phoenu altvirn ihrf sear old lie mile wt hor wt wl mn l siarrv banner niaionry tat pv llabotte w sin pleasure nut sui k hear vjmi line ibnrpshoi bnrpshooier inr kin b monnntiiy pillnv time airman sixth kais furlonps horse ilhlfereot kses t trump host miailcn ycvr old wt horse ii ilv lli lir mitican air dm beta huhoktls auctioneer u lis mormon wt il r il avion apprcnllce allow inie rbtlme win games ileill iii iii mill hlklilirldue ij tu mctoi les jesterdas defeat lie peysier tlvoli v tn llishbi idue team sunilav lincoln nlnv f series double header o score lincoln oiant s uk ab r h o ah r ii o n e onsen llillrl cf ivltus lb piuidnlnh ef sot n ft rf p ft nfi j ft st vol ftftlmon nn lh ft j ii ft oft himnirl t o io iftl ftstoore p el o allen b icohbe ii w ti ts ic itrr fl n l liinntr o u tti liflsc mt si hnuli ttu thctinii lilt ilii llaiiiiiifl mill mm trim hold sliinihmi koliliins liniiiono s f t tliimmi nv bnlu iff smi oils ii hat mix t tm tin llai naial tliteiie eatilr alhlitl ti jni kiulh llll viil lel ini aiioe nf iii luonc run ill iv ea fi atiin d aboul pcrtnllt htll illicit n oie n ihtirvesft fl t ft riihcein o ii o ioo o tfkf race hi avutuuw brooklyn handicap hudson stakes mile steeplechase brilliant event iisi f hack tit ains icitvil y v t ut viti tn idllmi htami pro golfer score ball match mcximiarn nnd wnlkcr dofont mnrston r not sliackiininxon link huge gallery see professional solfi er seme decisively expense nf amateur red cross hall match shackamaiion country club yes terday tout mcnamara cyril walker home pro defeat jeiomo travels max mars ton play apparently stranger kindly ti shackamaxim link mcnamara see courfc heforef go round easily good tho loir day prior ihnt mnrstnr visit shaoknmtixon eclipse nil previous room il btllllant int lack ot steadiness walker good plnylnv outward journey slip iiirrercncj partner low score not shaeknmavon arc eni nrcl total plus lug length t over yard match start mckn marston halve hole yard tn pro win second travcrs get bird wliinlm f incldeiithllv holn amateur win limine mei n atch pro ngaln eighth amateur botlf miss long putt nanowest ln find trouble not ninth hole ninth hole traver marstorl find trouble jerry underplaying hlsj second shot water mnrston go wide chance notii mceiy home leave amateur tho turn good ball iis ln favor professional long tenth matter yard travel get course wnuu marston make green ontji bye bole amateur llttlo belter gallery remain tho contestant end iictlnii mill llecc ilefote start mg il ot tne cauille priliiegcs lam pay mcnamara walter ii mebl sr miirrton hd f ward meeker walker turner jin travel light hole play ball hi principal sell tn lilghe bidder c j wa tn rtav good lull curd follow mcnamara walker lul j trnn marsli n n t mrnaiiuirn vt nlker n r s lavcrs starslen nichols sargent victors w heil cross lien ink ciiiukrj slnteh tub iih june t nb indls f n w yi anil ccurge sal gent lif pi wuii golf matih cilen couu irv club fioni jo k hutchison lilcii view iirofe lonnl kenneth lalvv aril midlothian club chicago inn nerup lat year tl e western amateur ch kraut online ths inargln uno plaj huge crowd fnlliiweil tho niauh r bill mole th lie cros fund evans wood win ill ill slneiliiliiilil llnr ii lleil t ci vki nn lvaiis wnricu k wood nin iteiit ih fiate hubert macilntiam jan ham pmfesslninil ln c ball ciglttc ti bole iiiursrniie mnv lleld cull day tlnril match uii exhibi tion sum tealucil tn dn thintmb aintlon nf aiiiisllig mill auction ball hy tin player betteitng par not tlm inilos bioiight exbibitiniii nettisl led l r nn catherine wlna trol hnr lein ieeilm t il penter ihimplnn ti olter rime pmenl iy force tn k lime befiue si e aptuie bill m luo fen tut f t eighth spring matinee nr iirtver ai sociatlon nf york lem speeihvas catliet pity black gelding drive vv mptm ci iinnthei blno m ft tinttlng ii n iihiinu eaine liiiine uret io pace lass vvnn hv r leonard silent sister oil ird go ar lillnmrei mr lionia lill h l alhano time ii lass triittnik mnrrnii iir caipent u v nit l timr o bias ttottink ii ni ii bm k w lll l line l n l nit iii ni lac v ir today j lii ii tl slallon tile till uihit m f r v j idle ch iniuii r iiaminrit ave iiranctii ii ii v mikr u', 'robinson rides breeze fall date likely open tourney propose visit british golf er expect delay play championship iir innis nnftwx united states golf associa tion lipid annual meeting horn january lis duty selection course date tho tliree tournament amateur open championship far definite llkdy selection bites announce probable date known respect likely season differ pmt probability national open championship drop tho calendar posit occupy consideration favor wected vasion tho states british golfer unforeseen condition arise prevent coming harry vardon taylor abe mitchell james braid possibly ono o britain class profess onal pro pose visit country summer prior come america topnotchcr plan trip walter hagen tom mcnamara probably invading party quest british f laurel thev expect early rtw surtlng week april stay abroad expect niuneroue mb match filer brltlbh open championship jiny compete nntloiinl open follow event player return home time national open provide course date set far season allow time visit player naturally want spend somo time play course coun try getting n fully accustomed condition possible plan reciprocal visit lead professional talent america great britain stim ulate deep interest big tour nament mark appear ance champion walter hagen abroad sumner r hollander return england state hagen man english golfer fear star naturally wait ing show ho english course time ready accord considerable prestige hand propose visit surnmer time mark appearance abe mitchell rate good golfer j probably visit harry vardon recent happening open question vardon duncan braid taylor begin long tho fine golfer uncc vardon uagcr vlitt vardon laugh idea thing time feel wo sea son time begin lay heavy hand want ono mor visit dver feel good real fight good tho game offer coming british delegation thorefore suro add v v j j interest far ordinary open champtcnshlp tom mcnamari tom kerrigan jack dowllng scarsdale profe sional plan start long trip pacific coast expoct visit golfing centre california far west shortly year come hast southern route reach florida later plnc hurst time big event jim barnes nlso visit california head south florida big open event yorkville easy lir tft u af kl klti jt nfv spreadeagles field race special deipatch tni sex havana cuba racing oriental park day decide ly tame winner event thing way win easily torkvllle race ln row spread eagle field win length result doubt start pierrot second length ambassador iii quln ln opening event score easily lead home field length defeat count boris hot favorite native soil length peaceful star recede favorite return winner second race lead prince direct wire length tim hogan annabellc playel win fourth race length half major bradley close rush finish fifth horse come fin ish neck apart bill hunley gain decision second tack healy race go tho heavily play exempted ho back summary race pum onh upwara claim e lunongn quln smith count doris murray s iecond native soil light white time vulcalnus jfaoml walton fly dart burllngame run second race purse year old upward claim furlong peace ful star taylor j win prince direct archambalt wwuui jiugan iua trenaiver c time acclamation terrible james enos ralph run race purae year old upward claim furlong carmody win pierrot brown niofllcrr time leotl fay unar iirilj run m n annabelle reii win malor uraaiev mertmeel s end old red oarner time n k ii steve incinerator sentry run fifth raoe puree year old upward claim lis mile bui n t second jnru connor time candle sunclngdale silver sandals uttlo nea er w t j utiimni simmons run tu jane urey woodthrusb zinnia tranb fountain fa lio iia sixth race purse nnd win hand sd vnter iii h io breeze hang record new qrleans clips second mile track mark jef ferson park bon tromp win teche purse sptctaldtipateh tni new onucanr balmy weather palmy racing prove grati fye comparatively imall tendance jefferson park day breeze frequent winner tat meet prove well horse show account sa bine handicap tho feature pro gramme lie clip second mile record shatter meet ing breeze performance impressive ho impede start force easo coltllettl slide tailor maid clifford robinson race htm field close quar ter tho backstretch trusty wan length away approach tho turn robinson see opening apply lash breeze respond race lively jack mount tak ing lead trusty stretch go beat rldcrlee tailor maid jack mount little difficulty dis posing tiring trusty place honor othor beat good racing luck breeze create great dent old record teche purse serve com panion feature fall bon tromp ride robinson slight favorite tho speculation hold sway tho furlong journey win handily harry burgoyne close attendant eastern dele gation suffer defeat tick lish finish poor fifth having fail extend finish apparent suffer recurrence hoof trouble affect late metropoli tan performance capture bux ton confederacy edith drive finish faint hearted miss par noil contest mar ragged btart affect place horse neenah bad ruftercr nnd run win race maiden face barrier oriencr close finish emma score virginia nnd fledgling pull lame general remunerative odd defeat ed heavily play j sun racing chart new orleans dee weather c esr race live lurlonxs claim time l start good won drlvnr lace iimr mnner oy jim prm atiiv v n nmv c forarth home wl pp emmi j lim virginia iledgllng bee wing ogden girl s s ill ii dobtt moody oriental park rncklnghorse cicely kay mediate kiddle ron matter m ill dickey emma j handle awiy forward urge rot final stride virginia go lorwardly way hold fairly fledillnr show high speed weaken eighth bee wing close good gap ogden girl show good effort tlmiu rider scratclml pindar rowder flask wish owner gray allen tolar b bernhardt newbury dennett walker church cebrlsn eaton f second race half furlong purse time stan gooa win easily nace driving ner ort wells anne lauretta daly owner wilson trainer wilson horse wt pp ill u general scarpla ii arch plotter rellloc kosemary grumble ira mist howell jack k s sabretash careen quartette r bn ral uvni un start eighth draw seventy yard scarpla ii away show good form hold fairly final drive arch riotter tired fast show early speed rellloc show good performance outrun sabretash repeatedly take hare atrong factor good scratched little princess aigrette maud smith bronco billy cobalt tommywaac owner t wilson springer knebelkamp howorton hall freeman ammerman lowe carroll sercgnl letelller hall iipholt j brause raolslx furlong jesr clslmlng purse time start bad won drtvlmr rim winner ormondalc mamie worth owner trainer buxton horse wt tp bt h edith k miss parnell semgegrass kifiiza neenah h hi emma weller edltn wet awav slowlv saine miss nsa mucn ine oesi near end fedgerrass fight stubbornly half mile jieenan practically lea owner l buxton erb page hnuuman fourth rack allowance mile year old upward purse oft time start good wonc easily place drive winner bal lot fjlie owner ii auuutt horse wt tp u h breeie jsck mount truity lively dslrymsn frsnklln tailor maid ik m lost rider nn good stnmhle start moie strong jtut stretch turn race safe final furlong jack mount show good effort finish gsmely snd fast truity tired show high speed quarter lively tired badly ln stretch tailor maid throw rider start steer wide course quarter wear bieeso right end scratch chlef owner ii abbott williams cain h sondford solomon sulllvsn thompson atkinson fifth race sabine handicap furlong j start gooa win drive riaco s sella owner trainer lowe home wt h v bon tromp harry burgoyne enmity m ticklish dans ieur ji bon tromp hustle lead burgoyne ln final drrre harry burgoyne away fast follow close finish gamely enmity begin slowly take wide way finish ticklish show dull form beat quarter owner lowe dunne conley wagner watklns broaddus sixth race mile sixteenth year old upward claim purse time start good won driving place winner toddln rton martha palmer owner andbrbon bliob trainer anderson horse wt r h u e ll shafer audrey k yermak caballo bembast c montague brown s favorite cadillac lw irln safe close good gap stretch caballo tired go n n r t tm m t gatowood christie hollers owner anderson houbre p letellier maa r good rldze stable ii miner seventh race mile seventy yard time start good win driving riace winner ch g cunard bandillo owner bradley trainer hurler k rimmj ri r ffitiu tamatu horse wt pp u k v thj astraea show speed take numayra uomme ll ftt turn iwlnlwln go forwardly tantalus closed tig gap aitraea tired tn eighth antoinette wss outrun irom owners bradlerttj coarrahan rpltw bernhardt lyji pang bon tromp favorite arch plotter thsfcond sprint race take sixth handy fashion cheap lot contort tho meeting audrey k victim early interference finlse sec ond speedy brother mclean take seventh m unfortunate comml cf victim rowan bung ling ride undoubtedly beat iwln iwln finish trainer clopton declare ap prentice coltllettl bo mitte rldo day boy overwrought nervous con dition henry mccarthy summon maryland horseman professional ser vice wn arrival boyle whllo astrldo miss parnell guilty rough riding brush edith eyo strike buxton whip ticket forger reap harvest orallzer cashier bob nelson jack scully ar rival east si siocum veteran horseman die suddenly home lee jerome slocum know turf si slocum die suddenly night homo west eighty eighth street heart disease cnuscd death si slocum prominent flguro race circle nearly year practical horseman own borne great horse include tho good racing mare star class win tho liberty loan handicap tha empire city track year ago bear detroit year ago bo burl friday morning campbell funeral church broadway sixth ltreet amateur boxing tourney twelfth regiment athletic asso ciation hold special amateur box ing tournament armory slxtr econd street columbus avenue friday evening december class contest nnd pound division track lilt yejr maiden purse fin jockey open high clone place l l j uutwen yearrln s l s l s s s l s l j jo l sv l mooney rowan boyle ranley hurke glass l l buxton lllley moye ateadily stretch hard mannikln repeatedly take louia solomon pons winfrey year old upward claim m fin jockey open hlgh close place s m s l rowan lunsford robinson coltllettl mccorkle judge butnell wida garner pauley mooney handle move resolutely fin jockey open hlgh close place ln boyle wida l tonce coltllettl richcreek steadily outstay mlsj parnell oi start anu snoweu goon spe dui urea stretch iiagana snow good tpeea ine post wl wilson peterson trainer ii nut jockey open hlgh close tlace jvi wall gamer m mooney ponce butwell s l coltllettl suffer interference ln earlv stare tmt age purse time ssme winner br c bon m fin jocker onen hirh clnv viin v robineon iioyle rodriguez grcth oarnor hold gamely outstay harrr rin jocuey open hlgh close riace wida l l r sterling held garner richcreek burke smith lllley mooney m l krickson awnv veil onmt o mnl snn quarter finish fast yermak tired quarter montague quit fast ln stretch nf tha war m r stonlleld brtmt loulat paul bay year old purse fin jockey open hlgh close place m boyle rowan richcreek donahue mooney wida carroll sn l sm good lead hold nnai drive lomme ci give bad ralnr wm v y f start scratch plenty nlnton ranaan j jj mcctrtor wednesday december victory rod illail water local analkits dkckmdkr dkcemukr bandy hook princess jamaica day oovernon wllleu n toe horseshoe bay oanareie lalanil point ml ju pi december san om w ijki m december bus t t pecomber december december im merry chrlstroan air snorv white christmas nof visible christmas spirit la air tamarack cornea following address editor ths reader tha writer rod uunt wish tha merrlivt kind christmas happy new yoar john sheridan wish unique write believe meat fish story wish la whulol merry christmas chin hackle christmas greeting wish shall record catch happiness new year christmas ye editor contrlbl reader column la ths way fisherman dentist put hla bost wish fred kohlmeler send tho old wish prettily embroider silk dove carry ing mtssagr al merry chrtslmaa wish send old reason yes christmas spirit ia air look like good christmas tiik hun window duck numerous great south hay charlie connelly seaford wrltta charles hick east lsilh utrent flronx sunday john hnff guide kiiiea uroaudina victor rink wall street andrew verity guide return broadbill tho gunner black ducka nu merous ahy decoy scarcity bird decoy matter congratulation hoover statistic come light number deer kill season proportion female malea kill doubt prove gratifying advocate deer law somir state cent deer titate ex terminate rightfully claim point mew season hao highly successful undoubtedly present law remain ln force year profit mistake past season tha cent bo kill result tha season cent perfect let tru sportsman congratulate m new orleans entries race claiming year old upward maiden mile sixteenth durclls mayor qalvln marie con nell miss sterling ornclla t ular lady waldeck judge davfd second race claiming year old nnd upward furlonra ruth ii phrone ward tit iai iui bydii ki jlantll ill harry maaon uertnno miss kruter idal toombola onway m herto thurman hill deltch man shortstop alao eligible miss magee juanlta iii duke devonshire thrill race claiming purse year old upward lurlonrs verity lady lcona mack garner esther sincerity c cantrlll joseph murphy keilah miss wright ruth strickland mallowmont alonla senator jnmes milton itoblee eligible lady eileen mistake ninety simplex james foster fourth ra e claiming year old furlong beneclv head win dee battle mountain grove little sandy watersmeet playthe canclon double van hsnld stride ion clear way viva cuba ill col murphy fifth race claim year old upward urlong hidden jewel converse napthallus drlnghurst akin murphy sturdce ill brunette lady rsln bow girl byng port light irish maid american eagle sixth race claiming year old upward mile sixteenth wllllgan alma lot dancer nrown favorite mcadoo thistle beau dancing carnival jack reeves utile string mnrshon den hampson seventh race claiming year old upward mile sixteenth indian spring lela alhena elrey contestant dragon rock frank shannon fairy prince bub louder fos lottery captain hodge tanlac track fast apprentice allowance claim havana entries race furlong year old upward claim purse brer mike dixon wynnewood gleamer pomercne clip ws unveil child second rare half furlong year old claim purse ltt vain chick little director james mafccllc ics major risk ill col lll lard ill capt tony hello partner race snd half furlong year old upward claim purse magic mirror snow queen battle wing anxiety duko ruff hasty cora theodore fair quln lubelskl fourth race half furlong year old claim purse manganese blanchlta iron bov skyman col harrison assign walter mack blanche donalton fifth race mile yard vear old upward claim purto terrible miss callaway w artist night owl egmont sasenta sixth race milo yard yoar old upward claim purse lucky pearl mary magneto bus ter clark zodiac flyhome rhymer ned mlleybrlght apprentice allowance claim diesel powered yacht priscilla sails liami florida jan accommodate passenger plenty time allow fishing stop principal port en route prlscllla instal new modern u nnw class condition rate information address capt enukars jiieiuv day merry christmas capts dave jake martin niri uu sal day m rvrl til sunday sheepshead l il l cpt j martin kotice sail christmas day tuesday thlirs bats sundays j mentor dock ctue xhuri hi train sun train hen wright selnada eave silver wave hreeport dallv exc mon fri c rnnpishtst iiay v trid sfiwon sunday captain joe ii lvs dunne sheen head day tue thurs sat sun capt archie buckner codfihiiino lono cholera ilanki leave sbeepaheal h ivi w v nav dallv special notice zorayi gfcss uy canarsle luesaay sail christmas daxv cdt ve carman doc wrsck sverv weekday ntmtmll tn punjy train g s leave sheepahead day mondays sunday capt anton lundy cod cholera hanks uuitrv day hammer ynlldi dock sheepshead bay n ii d cliolera nankmcodflshlngt h mun haves sheepshead bay dally lliiinil sunday nau roser ii leave canarsle dally ext mon frl u dick person josephine sail thursdav merry christmas capt stake races gun news mnt hoover tho result ablo cam paign let hope h reap frulta labor get pound doe hesh tender juicy fit snugly hoover anatomy design nature reception let ua alao hope mr hoover enjoy hla usual health mental vigor experience iii fortune interfere usefulness behalf deer hunter receive credit let furthsr hope come tho laatlng glory honor renown kill ing aeason tho deer jl tat new york search mb brooklyn cast club elects officers new york casting club hold annual election sunday fol lowing director elect prealdenj droogan nrat vice president petltt second vice president raynor treasurer fernandex secre tary tl phillips chairman tourna ment committee oeorgo robinson clerk course fred berger cotch trout aide conservation charles dorff see tit pralaa gentleman capture trout esopus creek admire courage dorfi sure believe friend good sportnnanf mind give definition fish realise friend waa catch ing trout rate bf ovcry nve mlnutea hour sojourn ths esopus take con sideration th time spend mop hla brow ease ache arm geel travel thing practically lm possible catch nve trout stream slzo tho esopus ono day law search contrary search fish tho stream question surely know large catch thero bs near trout seven inch length doubt angler fishing esopus creek stow away flock trout notice inch qulto number inch long bone pick search fact minimum length inch number show heart right place matter try man nasty mess friend dorff credit ho uncon sciously start ho conservation hour man lifetime new law limit catch trout number seven inch length beilee consequence billy dutts new york proper method handle deer meat california fish game commis sion tell deer transport deer saddle horse throw rope saddle pull loop forward cinch ring placo tho buck saddle head loop ths haunch draw enls rope tight loop ono reeve tho fast skin deer head mount cut skin tne neck snoulder breast cut upper neck head diagonal cut horn cut ear close tho skull turn inside cut vay meat leave cartilage skin carefully eye cut lii close th skull leave attach tho akin split inside fill cut salt rub plenty salt flesh nil part skin let dry slowly shade roll hair aide ship taxidermist butcher deer hang hind leg split skin middle tne breast belly end tall inside leg cut foot jolnta peel skin cut wall abdoman pierce intestines loostn diaphragm side cut away low intestine close bone entire con tent carcass split breastllne hatchet good cut venison saddle haunch tn mnlco lerlced venison jerkv use lean meat cut strip half inch wide lay ihoso aide uy frame slat pole support foot ground small smokv fire eolng underneath meat thoroughly dry fresh meat hang pro tecte fly bv cheesecloth utomobil usei cars cole pass sport packard touring series peerless chummy faasenxtr cadillac roadster chandler sedan passengjr dulck passenger chevrolet sedan chevrolet like new chandler chummy winter maxwell pass winter dodge sedan wcstrott sedan passenger mitchell sedan like new velle sedan passenger willys knight touring liberty chummy saxon touring chummy like new nntlonal chummy like new dulck touring studebaw touring dulck pass cobalt hupmoblle pass tour studebaker passenger coupe cadillac passenger touring hupmoblle sedan reo tour cadillac touring cadillac roadster daily sunday brighton auto exchange inc apprslser trado ims atlantic av ihtooklyn automonile owners pay tire ride reliable automobile owner buy high grade tire guar antee instalment plan cent balance weekly instal ment service store service tire co broadway schuyler fordham rd bl concourse fordham trucks ccks trucks special week onlt rebuilt overhauled sh ton packards pierce arrow whith trucks guarantee choose transit storage warehouse lsfl vanderbllt ave ilrookiynt telephone prospect auto radiator cover top recover repair curtain storm apron carpet mat kind body trhnmlnr seat covers phillips auto seat cover co west phone bryant otto ii moody essex tour bulck coupe fine condition renault umo drewster land coll bodr west bt circle cl marmon town car extra vie torla touring top smart npneilr ance recently overhaul newly pio private owner dealer demonstral tlon uroadway york city teiepaone barclay youk car need car dead storage dir ing winter month f e en ruirani overhaul work tel anto ii sihtnlsta knlnee ii inc u sto rolls royce late dan rolls noyce late cabrloltt mercedes late racer convert telephone plata room write room buckingham hotel t ton white paclure dump bargain wonderful condition nsw rubber easy tsrma vandsrbllt ave hrooklyn osront ovruuvnds wlllys knigntat recondition n mels open evenlnrs wil lys ovkni tnth chevrolet sedan new perfect condition price chester dyrns nassau phone rector fon sale hudson enclose runabout month dyer jh prospect st orange seek stae athlete entry champion mny compcto col hperlul iqq tho heat middle dletanco run ner tho metropolitan district tralnlne invite compoto col carson special yard race feature game tho war department employees aaaoclatlon not tho seventy hcgl ment armory saturday evening jan uary tho commltteo charge game yesterday mail invitations tho follow middle distance star jack sellers national coo yard cham pion ivames metropolitan canadian quarter mllo champion mike devaney national steeplechase nnd meet ropolitan ono milo champion arthur rellly national junior yard cham pion aj huelsenbeck metropolitan junior half mile champion eliot dales tier lnterscholastlo half mile champion walter braunsteln new york university harry draverman mornlngsido c visit beautiful tropical island enjoy beat winter trip quaint spanish tort church picturesque people splendid tnotor road outdoor sport not luxurious new condadc vanderbuilt hotel day cruise expense take tho island conifortalilo ng ot principal pnrl teturnlng york teamcr ho e entire tl wrlto eaulngs trate booklet etc porto rico line passenger dcsaaocat broadway new yorlc coamwlse link point aoutn old dominion savannaa outhsrn paclflc lines passengsr formation apply consolidated hallway ticket offlcea company office scandinavian american denmark norwav hwrdrn passensjer olllff uroadway dlret ootiienburg sweden swedish american line state montreal quebec europe pa cine ocean fleavlce ltd liii broadway tours travel service cover world thos coorw son iis fifth ave opp city cor tsth american kipress travel department uroadway ilohlint ireen wintkr resorts new jersey atlantic city new jersey atlantic city atlantic city fireproof ocean unusually attractlvo durl ig autumn winter seamn lunurioui lobby restful sun parlor superb music palatia incidence seal ing rest recreation american european plan twmore atukncani imitsrixmsixxasa atlantic city n unsurpassed lor ilthlul rest recreation nbt york long island garden city long island exclusive american plan hotel la carte restaurant motorist frequent electric train penn station special winter kates iviaj lannin co props virginia old point comfort hotel chamberlin fine winter golf swimming tool seafood culilne european bath treatment vrlte ceo mannar rorireti monrci fa okorgia hotel bon air augusta ga convenient delightful place pend holiday uood drive motorlne excellent saddle horse golf course outdoor sport address irussoll manager ske augusta ga hbst florida hotel clarendon cottage directly ocean hole olt course open january new york office brondway tel mad j hotel roval palm j open jan hole coir fishing swimming pool room bath nelson mgr florid east const hotels reservation ith ave canada frontenac qufjiec canada qrbat wiutd sports canadian pacific railway oen af t pass dept niluway north carolina america winter sport center plnehurst golf sport hiscellaneocs raymond whitcomb ym llest travel fifth ave tel mndlson bq cjlo instruction berlitz school f manhattan terms mat bequn anv time pratt school gt west rmreet secretarial training individ ual instruction lv evening letial notices agreement en tere sth dny april john wanamaker new york mrs mart mark sell th day january piano department john wanamaker new york broadway city county state new york ono style auto piano bench note pro vide sections d tt personal property law daniel greenwald auctioneer cook garfe hotel x enters teak severn clinmplona anion compete gnrue tho hatch entry receive terday tho annual indoor game tho infantry ooi glon bo hold nt tho heg iment armory hrooklyn januarrzt wns tho entire track team tho knlgnts antony include champion national local fame ns follow c shaughnessy national milo champion oeorgo dernell metropolitan quarter mllo champion itellly present na tional junior yard champion iam kelly national junior yard champion markes present metropolitan yard low hur die champion lo hose metropol ian junior yard champion syl vester johnston national junior yard champion eliot balestler national lnterscholastlo half mile cham iplon don cnprlo national terscholastlc sprint champion immlines american fast mail steamers service resume new york plymouth cherbourg southampton new yorlc paul philadelphia york new york hamburg mongolia noon philadelphia liverpool haverford red star new york plymouth cherbourg antwerp lapland white star cherbourg southampton adriatic tlapland jn tcalli pljmoutli mlt southampton new york liverpool baltic noon oriana noon celtic jin cedric new york azores gibraltar naples genoa canopie critic offices broadway new york passenger freight services new york liverpool caronia carmania vauban new york plymouth cherbourg southampton mauretania imperator new york plymouth havre southampton royal george new york plymouth havre london saxonia new york piraeus trieste pannonia t new york glasgow columbia si si state new york ward lsnje direct service tt steamer new york havana weekly mexico j sailing progress vera crui tampico recular sailinet naiiau bahama literature information new york aod cuba mat yi rooi oi wan direci new raju ga ideal vaearlm krjort furness bermuda line fast twin screw palatial steameri fort hamilton ton displacement sails tiom new york december january victoria ton displacement sails weekly begin late january passport require bermuda bcheduie sailings cabin pun rate send application furness lermuda line fumes house whitehall st new york public br pleaukd colonial line boston zz providence direct boat au ratrrcoraf tn cabo vc trica include wr ttx boat leave lr north rlvsr dall sunday s p ii phone fprlng riot fall river line dos btrs ir m vv nfll bermdm worcester providence direct outsiuk htatlltooms sl os ft datly mncludlng sunday p ii pier phono lieekmsa ticket pter consolidate tlrket office wanted female want permanent work associ atlon worth whlle girl previou experience necessary pay learn telephone operator good pay rapid advance ment sick benefit tost free medical advice pen sion t substantial liot luncheon furnish cost com fortable rest room sani tary locker room vacation pay day week hour day position night operators optional girl ai extra pay night work apply today main employment office corner street broadway manhattan follow branch offices manhattan houston s bronx tremont avenue ia brooklyn willoughby broadway telephone madison square isooo free fur ther particular appointment terview new york telephone company permanent position young women year work condition op portunitie promotion excellent broadway c miss carncross particular fill mail blank communicate position advertise addres age help want male anli school larreat good school la utf west send booklet p school teldphone colcmbas iqlw speclsl riant fur ladle bot want bright nctlve intehl gent boy good appearance oltlre work sixteen year old excellent oppor tunity right boy apply business offlce sun broadway boy small want large advertising acency chance advancement capable walter thompson co ill madison ave new tork city engineer estimators draftsman inspectors latino inspectintj underground overhead distribution lines write distribution engineer new york queens electric light power co bridge plaza long island city expert chauffeur plerct arrow good mechanic personal city ref erence steady position til weekly man broadway learn chauffeur pleas ant jble work day erenlac class send free booklet visitor pass west w sl men want year age g d physical condition outside nigh l duty wage start steady vork chance earn iv west street second floor br n employ ateadily mik g money ln sparo time sell pro position suite west industrial insurance mon n pi ground floor opportunity apply ately suite west t ruiilic government air service postponement opening sealed bid opening sealed bid miscellaneous lot ot spe part tor curtis d air planes advertise pa material disposal ani salvage division ot air ser vice november december december postpone december', 'family split hall marriage night weather fair warmer monw weather fain warmer lsi mm mm extra vol lxiii harvard centre elevens meet game crowd contest decide winner season inter sectional series game crimson nrow hull strength field pray colonels william abbott cambridge ii fore crowd fipectatora weather condi tion idea fnnthnll wltli tlm mm high bright nnd n crisp north west breeze cut ncross held thj harvard centre college eleven clash hcrr thin uftornoo tho decide gamo thrco eason intorsecttonal nerle stand president cf tho big harvard yule und princeton tho continuation interactional grid contest probably mark tho hnal appearance horo somo time come sensational cleave tho little southern college fire u determination tho pray colonels imimt depart vietory near future promise little clmncn redeem tho crimson throw strength tlic hold fray day centre minus mm great mcmillan luarlorback wan able present seven tho veteran year combination send harvard inst year fi deleat jleili covington pilot tho visitor mcmillan successor captain red itobcrts start thr gnnw fullbar ouo bo t ind visit ing paity predict victory oyer harvard ited llrliert nll arncrlcan end big thun express tho vluwprlnt tho kentucktans tell writer will know lho prepara tion harvard mado tho game will hopefu mai lng good show coach moran frankly admit hard tiino loss mcmiiiln james star tho combination conquer thu crimson disappointing loelopment tho sanad arrucd hcio badly crippled important battlo season tho kentucklaiih hqiiad numbeis rive pinc er iiro impose custom tho praying colonels bo foio go action afternoon well otfer special prayer tho foloball god sparo casualty thu leinalne regular bo spare addition injuries ne cessity play inexperienced combination resist hnnd tradition ralsod tho ken tucktan encounter tho crimson slnco har vard llrst play football tho cam bridge institution lose consecuuvo year tho oppo nent soldiers field hack tho opening gamo tho stadium dartmouth emerge victoriously year tho curllslo indians scalp tho btldgo playor tho period centre triumph harvard ino opponent turn tho follow year lick tho johnny harvards justice wm day decides resign washington associated pres assoclato justice william day tho united states supreme court decide definitely resign tho bench view duty ss umpire jerman amerlcan claim negotiation ho expect present resig nation formally n justice resi dent hurdlnif early nuxt week ford day give away daily opjrulit new rubllihlnr line harvard fitts centre wts gorrly jones cregor lemon snowday hudgtns robert eastman grow clark hubbard dunkcr hartley buell chapln owen ford leads second fisherman race officials postpone contest captains disregard sig nal start gloucester mass associated press henry ford take ii lead yard tho canadian tho start llrst ternational fisherman raco day iioth captains disregard tho raco commlttco signal postpono tho start tho honry ford en joy lead quarter mile tho judge send recall skipper keep tho courbde tho judges start tho schooner evidently tho idea let tho captains havo way call raco oft milk island mile tho llrst turn tho mucnoso begin gain tho ford woro fairly term run beforo tho breczo sail wing wing tho course flve mllo run llrst mark tcn milo reach shore beat mllca tho mark tcn milo run tho fourth mark flvc rallo beat tho llnlsh motorboat send tho ford cno tho coast guard cutter capt morrisscy reruse return boat uppioache tho turn run beforo thu wind staysail scandalize tho ford lead time tho maik fold hluenosu tho mile leg tho ford fine lead time tho illiieiioso becalm tho land lloth boat give tho buoy wide berth round line tho llrst mark sheet woro trim hat tho closo reach tho second mark ton mile shore astern tho breczo increase knot teem bo take continually iioth havo sail thrco quartcrs second leg tho triangle thn ford lead nearly mllo tho wind keep drop look tho boat havo ditlleulty finish insldo tho agree timn limit hour second mark tho ford lend s minute second tho boat wero time second mark follow ford ulucnose minute block east site subway north bind express servlro tho lexington avonua subway inter rupte minute berlnntng morning fuse blow ft train nnd ornnd central thiiiih wero ntnll l nnd inter fllvnrlml local trnokn tho dnmngo win rrpnlrad hmokn drift throiikli trnln whlon acci dent orourmd ihr ex citement onion passenger urn circulation book open lork world bj coinpoej begin lo look dol lar face george tells leeds crowd defends policy banner party strife hoist ed tory public leeds banner party strlfo hoist tho carlton club people cldo party nation come stand people word lloyd george day open campaign restora tion tho premiership spoech deliver crowd mon seek admission tho hall tho issue ho say la clean cut shall tho nation govern standpoint party welfaro public welfare ho accuse conservatives having decide favor party wel faro broko away coalition meeting carl ton club announce tho champion tho pcoplo fight restoro government look thoir interest prefer ence party interests introduce lloyd george enthusiastic audience lord airedale declare tho yorkshire liberals forsake tho man represent democracy victory tho cheer go lloyd george step forward speak shake tho rafter tho coalition break lloyd georgo charge becatiso conservative party get tho year havo dono tho hard work life criticism pour ho say thero timw tell tho peoplo tho real story willing continue fourth page girl blames self make grandma steal elderly woman convict ed shoplife despite child confession tho story elderly woman lead astray fourteen year old granddnughtcr tell court special sessions day save tho grandmother sen tence shoplifting tho defendant helen dlonotlas seventh avenue accuse de tective tho stores jxutual pro tective association steal good street department storo granddaughter nota jorllmatos arrest await trial tho children court miss mangan probation officer tell tho court tho child try tho blame sho tell sell miss mangan induce grandmother act screen child take thing counter nnd slip bag tho grandmother sentence ono day tombs fine tho fine pay servo thirty day tom yee murder jury disagrees chlnmnnn aoonsefl murine tons leader tlold jail juaixo talley discharge jury try ing tom tee murder fail nrr not mrrrnlni houra de fendant rant hack tombs nwuit trial acome flay ko low national president hip sing tonir atiif judge aald jury know morn raae ynti hue luant difficult casea will call ii fathom law horseman holding tail say ex premier new york saturday october chapel robbers gag bind woman set fire place thwarted armed pair enter night room jamaica demand life savings money bank wetzel surprised knowledge intruders intentions robber awake emma wetzel caretaker chapel draco episcopal church mer rick road jamaica ut dny smash glass coil opening tho rear basement tho woman live chapel husband night worker sit bed man wear ing cap ono stocky ono slim burst room point volver not thoy demand reveal tho hiding placo money valuable know sho intend house wetzel say day bank conceive robber know sho intend use make payment house imagine sho cash light tho house sho somo money bmall pockot underskirt hang chair near tho bed sho say later sho determine circum stance bho reveal hiding place sho tell tho robber hor hus band tho family valuable tho thug see threat revolver wero unavail ing take underskirt gag sho hardly breathe ono man remain guard tho othor go tho kitchen get clothesline arm leg wero hod sho throw roughly tho bed tho thief seaich lng tho houso half hour sho helpless ransack tho placo drawer wero empty curtain tear picture remove cover pull furniture turn tho woman thrust revolver threaten kill tell tho truth askod sho glvo tho money continue fourth page plan assassinate german chancellor ttti arresta wlrth hecelvei tlircntenliik berlin police hero order tho alert crush new monarchist revolt plot document seize iov crnment agent tho assassination chancellor joseph wlrth include plot pollco find letter show plot wlrth tho chancellor mention theso de sign hlh life ilelchstng speech say enrry guard strengthen plotter give tho schultr say havo confess nt leipzig arrest hhlneland tho chancellor la receive largo number threaten letter especially leipzig profanity puts parrot greenwich lockup natttllnsr ntrd tell policeman ttalli arrratftd greenwich polly green parrot work vocabulary blue t language visit tho home flobort wilcox west tutnam avenue yeatorday resist alt effort not eviction unprintable pro fanity sir wtleo telephone pollen patrolman cullan respond n bushul basknt greet bristle feather nnd ndvlsod hell ull approach polly meet htm half way hit hand tin atrugla thn law win polly punctuate ohiiih screhnis nf rngn lock u pollen protest thn owner mrs lil hoott send tho bird leaps saves princesses follow help drag imperilled boat ashore associated press king victor emmanuel picture advice san rostore day tho role rescuer endan gere pleasured party king fish ing expedition royal prin cesse not mout hof tho arno tuscany ho see short distanco away sailboat carry danger strong current royal pnrty hurry tho rescue tho king tho aid tho prin cesse throw rope man board tho sailing craft save boat occupant king hear tho cry distress notice tho plight aboard vessel like wero fishing boat closely ap proache drift craft tho king fend tho princess get nnd stand water hip throw u ropo fisherman nnd join tug pull sailor fashion tulllo romeo owner tho fishing boat know res cucrs want tho nice thing posmblo circum stance compliment tho young girl courage ho siste present bas ket fish nearly faint tho prin cesse king tell join mathilde oser buy swiss estate report lausanne switzerland associated press harold mc curmick chlcn harvester king rejoin daughter mathllde hep flanco mot oscr tho swiss ride master peter island lake rlenno mclvj mlck native stand intend purchase country scat switzerland tho oscr mccormlck party remain tho island winter set und italy tho marriage tako placo soon muthlldo uttain tho swiss legal ugo mnthildo engage frauleln set tler daughter tho manager tho island companion sho nnd flanco tako long horseback excursion neighboring town castle famed dog die raise fund peter bit movie star los angeles peter famous war dog al little rioston bull dead hero home mistress dice peter waa credit having raise n war fund victoria c tho world war sit ii tabln day threo year speak con tribution ho receive medal thn canadian field comforts anaocin tlon life membership cnnndlaii red ciokh decoration include yukon lluttnllon tho war peter go thn movie gain fame year old evening king victor ve fishermen lives circulation book open j o o rntrrnl n rrnnd cln matter pout offlre rw lark hundreds look highwaymen outh hi seek tu d victim routed rob ber revolver escape big auto bredenc shutz queens employees foundattion thief iihmi armed illi ieulvcrs travel large lmuoim auto mobile hold frederick shutj pay master tho foundation compnny liberty street manhattan afternoon vacant lot not van dam street queens boulevard long island city tho hold plain sight hundred nutomobillst pedestrian robber escape pay roll shut bad carry tho man hattan olllce tho company con structe building not point nnd man nro employ joseph shephard eighteen pearsall street long island city heroically attempt aid shutz moment delay tho robbery uut cover tho threat threo largo revolver tho youth retreat ho gavo pollco tninulo description tho trio shophnrd discover tho machlno n license plate shutz gono tho mnnhnttan olllce company naniieu ino payroll dividual enveloucs thpn tliil un ely large mnniala envelope go urand central terminal tho subway whero ho transfer tho tul rawson avenuo station long island city point anoui iw nutomobiie pass mlnuto shutz cross queens itoulovard ho notice tho largo niaioon car stand tho curbstono engine run nnd man ap parently examine engine tho paymaster pass car en tere vacant lot short cut construction job gono tlireo foot man aliout li foot inch tell peaked cap pull eve run nnd order lilm tho point revolver ha id ms package shutz mado resist armed linn jabbed tho lack limit revolver hand pay ol aro goner uio thug hold thu package warn shutz ho nnd ills com panlon hack uuav innehtnn young shnphanl mcn lho wholn thing begin edge mug ne lender spy lihu mid kill hint h mir mother uo heat punctu al eu mo word nourish revolver tho thucs lean inln tlirlr macntno speed away lirooklyn pollco tho hunter point station nn fnh dlately afterward flash alarm section city useful guide homeseekers seek n house apart ment plot ground build find vast fund pertinent information morrow sunday world rkal iistati suction world ileal cvtloo let ails month r qac correspond uuuo ln month year world daily prize rob paymaster extpa hall ml women grand jury hall inquiry parker gel kr findings monday uicmbois somerset county grand jury hear evidence tho hull murder case uir alfred giurs vlllc foreman russell cruser kills bear maud gaston somci vllle neschitz warn william courtklyol rranklln ulnold owens d minster acnes bank north flcld hanford tunison uernanlavllle prank rowley north plalnfleld parker ramsey plain field compton north plnln field ruaoieri somer viltc ixdit e w koehler somorvlllo layton nevius mlnster charles welsh hcr nardsvlllu nevius bcd mlnstcr harry de maeza somorvlllo peter van n u y s somervllle elizabeth taylor plain field report lo justice charles parker spiritualist chief leader church disappear children olive scdillc take new ark home woman member tho kirst church christ spiritualist new ark havo retain active membership sinco tho disappearance pastor ollvo sedllle week ago meet day deter tho futuro tho congregation sedillo conduct service twice weekly home live child week ago sho aunouured sho leave chicago attend convention spirit worker lho chit dren liter take away cab num simultaneously pollco east orange notify tho disappearance harry enltt city regard male chief tho congregation eugene sedllle sr o east orango tell tho police thoy concern nljul chlldien havo notillcd father iiii archi tect detroit lx r sep nrntcil wife spirit wor shipper gather not headquar ter admit congregation hud gradually disband slnco mrs seilllle disappearance world record glider biplane passenger aloft minutes new haven england associated press glide rompctltlon not ltford hill day olley fokitor biplane break tho world record glide passenger remain tho air nlno minute day half hours p discord family iflbhshhhiaafi price cent henry stevens said hwsc opposed marriage refuse meet rector strieker explain delay indictment woman man expect grand jury report early week m justice parker ispacial prom stuff correspondent eveniny world ncw brunswick j relation family itov edward wheeler hnll instills nioro year hav come notlcq prosecutor johcph strieker middlesex county itt stud murder hall eleanor itchi hardt mills soprano choir church f john evan gelist unit reason uarbura tough lu tho homo win employ stevens lmiv frances stevens mar rie tho minister call mi strieker day question hour n quarter strieker learn tho wealthy mlsi stevero thn hall marrlrti july tho joyce boon expect stevens sportsman small arm expert glvo sister tho feeble health tho mother tho bride hut henry stevens mo ment hear story tho minister habit ho announce ho woidd tolerate tho wedding man sister lielng present not tho d ding nnd certainly memlier tho family hand result tho mother tho courso tho rltunl rise froiii tho pew nnd answer que hon give woman brother rector prosecutor hears day tho day ii murder strieker tell henry stevens tno hall homo nnd refuse invitation dinner not itov mi hall uih present wife miss pally peters tak ing chnigo tho hall huiisrhold aid hall bridesmaid mm hnll kellogg pnultnej y host mai tho usher wero ralph con roy prlnceon charh townsend hordcntown hen y edwin cnrpender cousin tho bride tin snineiset county ornnd jury mrct monday hear fur ther evidence believe indictment bo return monday tuesday bo ngnlust woman othor n man agauiht tho evidence lx raid strong wairant prosecution inasmuch prosecutor ueeknmn somerset county convene tho tober ornnd jury somervlllo yes terday n preliminary ronsldeiutlon tho murder golm right co operntlng mi strieker srnt county dotee day bring tough moro eue m new llrunswick u pnrtnci ic inner feeling inlstrohs hei story previous questioning exactly like thofio tell hall uut ono mcmoor cf questioned ii p age ww m f vl v m ip']\n"
     ]
    }
   ],
   "source": [
    "# extract the data out of the DataFrame\n",
    "documents = df['lemmas'].to_list()\n",
    "print(documents)"
   ]
  },
  {
   "cell_type": "code",
   "execution_count": 15,
   "metadata": {},
   "outputs": [
    {
     "data": {
      "text/plain": [
       "27264"
      ]
     },
     "execution_count": 15,
     "metadata": {},
     "output_type": "execute_result"
    }
   ],
   "source": [
    "len(documents)\n",
    "len(documents[0])"
   ]
  },
  {
   "cell_type": "markdown",
   "metadata": {
    "id": "WUp47iRFyyt9"
   },
   "source": [
    "`Gensim` needs each document to be tokenized. We can use [list comprehension](https://www.w3schools.com/python/python_lists_comprehension.asp) to quickly achieve this result. When complete, our data will now look like this:\n",
    "\n",
    "`[\n",
    "  ['This', 'is', 'document', '1'],\n",
    "  ['This', 'is', 'document', '2'],\n",
    "  ['This', 'is', 'document', '3'],\n",
    "]`"
   ]
  },
  {
   "cell_type": "code",
   "execution_count": 31,
   "metadata": {
    "id": "9TLsxA1dqGQZ"
   },
   "outputs": [],
   "source": [
    "# tokenize - the syntax below will create a list of lists\n",
    "texts =[\n",
    "    [word for word in document.lower().split()]\n",
    "    for document in documents\n",
    "]"
   ]
  },
  {
   "cell_type": "markdown",
   "metadata": {
    "id": "5F5fDqLYz6Aq"
   },
   "source": [
    "It takes a lot of preparation to build a useful topic model. An important part of that preparation is to eliminate \"noise\" from you model. One way to do this is to remove pieces of data that are irrelevant. Here we will remove tokens that only occur once. **You may want to adjust this as you refine your topic model.**"
   ]
  },
  {
   "cell_type": "code",
   "execution_count": 32,
   "metadata": {
    "id": "kKFI-BU3qH7z"
   },
   "outputs": [],
   "source": [
    "# create a count of each token\n",
    "frequency = defaultdict(int)\n",
    "for text in texts:\n",
    "  for token in text:\n",
    "    frequency[token] += 1"
   ]
  },
  {
   "cell_type": "code",
   "execution_count": 33,
   "metadata": {
    "id": "RWCyJLzRqv1T"
   },
   "outputs": [],
   "source": [
    "# remove words that appear only 1 time\n",
    "texts = [\n",
    "    [token for token in text if frequency[token] > 1]\n",
    "    for text in texts\n",
    "]"
   ]
  },
  {
   "cell_type": "code",
   "execution_count": null,
   "metadata": {},
   "outputs": [],
   "source": []
  },
  {
   "cell_type": "markdown",
   "metadata": {
    "id": "wPBd4hh20l8y"
   },
   "source": [
    "## Build topic model"
   ]
  },
  {
   "cell_type": "markdown",
   "metadata": {
    "id": "pPg6gWar0pej"
   },
   "source": [
    "`Gensim` is built around [four core concepts](https://radimrehurek.com/gensim/auto_examples/core/run_core_concepts.html#core-concepts):\n",
    "- **document**: an individual text. In our case, this is an individual section from Gibbon.\n",
    "- **corpus**: a collection of documents. In our case, this is all the sections from Gibbon put together.\n",
    "- **vector**: a mathematically convenient representation of a document. Basically, each word in the document is given a numerical id. This allows `Gensim` to do faster calculations behind the scene.\n",
    "- **model**: an algorithm for transforming vectors from one representation to another. In our case, this will be the LDA model we build.\n"
   ]
  },
  {
   "cell_type": "markdown",
   "metadata": {
    "id": "5jlB0ntFSECL"
   },
   "source": [
    "### Basic topic model\n",
    "\n"
   ]
  },
  {
   "cell_type": "code",
   "execution_count": 34,
   "metadata": {
    "id": "cpwKKpR4rmsD"
   },
   "outputs": [],
   "source": [
    "# create a dictionary based off our texts\n",
    "# The dictionary maps each token to a unique integer id\n",
    "dictionary = corpora.Dictionary(texts)"
   ]
  },
  {
   "cell_type": "code",
   "execution_count": 35,
   "metadata": {
    "id": "90YYfqSL1BUQ"
   },
   "outputs": [],
   "source": [
    "# create a corpus based off our dictionary and our texts\n",
    "corpus = [dictionary.doc2bow(text) for text in texts]"
   ]
  },
  {
   "cell_type": "code",
   "execution_count": 36,
   "metadata": {
    "id": "y9S5XOCdSNwz"
   },
   "outputs": [],
   "source": [
    "# build LDA model\n",
    "lda_model = models.LdaModel(corpus=corpus, id2word=dictionary, num_topics=20, passes=50)"
   ]
  },
  {
   "cell_type": "code",
   "execution_count": 37,
   "metadata": {
    "id": "fgaJ22SVT_vc"
   },
   "outputs": [
    {
     "data": {
      "text/plain": [
       "[(0,\n",
       "  '0.001*\"tho\" + 0.001*\"ft\" + 0.001*\"n\" + 0.001*\"ii\" + 0.001*\"r\" + 0.001*\"s\" + 0.001*\"york\" + 0.001*\"new\" + 0.001*\"win\" + 0.001*\"t\"'),\n",
       " (1,\n",
       "  '0.001*\"tho\" + 0.001*\"ft\" + 0.001*\"n\" + 0.001*\"t\" + 0.001*\"day\" + 0.001*\"new\" + 0.001*\"ii\" + 0.001*\"york\" + 0.001*\"r\" + 0.001*\"o\"'),\n",
       " (2,\n",
       "  '0.001*\"tho\" + 0.001*\"n\" + 0.001*\"ft\" + 0.001*\"day\" + 0.001*\"new\" + 0.001*\"t\" + 0.001*\"year\" + 0.001*\"man\" + 0.001*\"ii\" + 0.001*\"s\"'),\n",
       " (3,\n",
       "  '0.026*\"enmity\" + 0.013*\"lll\" + 0.001*\"new\" + 0.001*\"race\" + 0.001*\"york\" + 0.001*\"s\" + 0.001*\"good\" + 0.001*\"close\" + 0.001*\"j\" + 0.001*\"time\"'),\n",
       " (4,\n",
       "  '0.001*\"tho\" + 0.001*\"n\" + 0.001*\"new\" + 0.001*\"day\" + 0.001*\"ft\" + 0.001*\"time\" + 0.001*\"ii\" + 0.001*\"year\" + 0.001*\"york\" + 0.001*\"r\"'),\n",
       " (5,\n",
       "  '0.001*\"tho\" + 0.001*\"ft\" + 0.001*\"n\" + 0.001*\"t\" + 0.001*\"ii\" + 0.001*\"o\" + 0.001*\"new\" + 0.001*\"york\" + 0.001*\"r\" + 0.001*\"year\"'),\n",
       " (6,\n",
       "  '0.001*\"tho\" + 0.001*\"n\" + 0.001*\"new\" + 0.001*\"day\" + 0.001*\"ii\" + 0.001*\"s\" + 0.001*\"ft\" + 0.001*\"t\" + 0.001*\"l\" + 0.001*\"time\"'),\n",
       " (7,\n",
       "  '0.001*\"tho\" + 0.001*\"n\" + 0.001*\"ft\" + 0.001*\"new\" + 0.001*\"ii\" + 0.001*\"race\" + 0.001*\"day\" + 0.001*\"york\" + 0.001*\"time\" + 0.001*\"t\"'),\n",
       " (8,\n",
       "  '0.001*\"tho\" + 0.001*\"n\" + 0.001*\"ft\" + 0.001*\"new\" + 0.001*\"t\" + 0.001*\"day\" + 0.001*\"ii\" + 0.001*\"race\" + 0.001*\"s\" + 0.001*\"l\"'),\n",
       " (9,\n",
       "  '0.001*\"tho\" + 0.001*\"n\" + 0.001*\"ft\" + 0.001*\"t\" + 0.001*\"l\" + 0.001*\"new\" + 0.001*\"york\" + 0.001*\"s\" + 0.001*\"r\" + 0.001*\"ii\"'),\n",
       " (10,\n",
       "  '0.001*\"tho\" + 0.001*\"new\" + 0.001*\"n\" + 0.001*\"ft\" + 0.001*\"york\" + 0.001*\"race\" + 0.001*\"ii\" + 0.001*\"l\" + 0.001*\"t\" + 0.001*\"r\"'),\n",
       " (11,\n",
       "  '0.001*\"tho\" + 0.001*\"ft\" + 0.001*\"new\" + 0.001*\"r\" + 0.001*\"ii\" + 0.001*\"n\" + 0.001*\"s\" + 0.001*\"day\" + 0.001*\"t\" + 0.001*\"l\"'),\n",
       " (12,\n",
       "  '0.001*\"tho\" + 0.001*\"new\" + 0.001*\"ft\" + 0.001*\"t\" + 0.001*\"ii\" + 0.001*\"n\" + 0.001*\"time\" + 0.001*\"l\" + 0.001*\"j\" + 0.001*\"good\"'),\n",
       " (13,\n",
       "  '0.033*\"ft\" + 0.022*\"n\" + 0.016*\"ii\" + 0.016*\"t\" + 0.014*\"r\" + 0.012*\"o\" + 0.011*\"tho\" + 0.011*\"game\" + 0.010*\"club\" + 0.010*\"s\"'),\n",
       " (14,\n",
       "  '0.001*\"tho\" + 0.001*\"n\" + 0.001*\"ft\" + 0.001*\"new\" + 0.001*\"t\" + 0.001*\"j\" + 0.001*\"l\" + 0.001*\"york\" + 0.001*\"r\" + 0.001*\"time\"'),\n",
       " (15,\n",
       "  '0.048*\"tho\" + 0.011*\"new\" + 0.008*\"year\" + 0.007*\"day\" + 0.007*\"race\" + 0.007*\"york\" + 0.006*\"old\" + 0.006*\"good\" + 0.006*\"time\" + 0.005*\"n\"'),\n",
       " (16,\n",
       "  '0.001*\"ft\" + 0.001*\"tho\" + 0.001*\"new\" + 0.001*\"ii\" + 0.001*\"t\" + 0.001*\"r\" + 0.001*\"game\" + 0.001*\"s\" + 0.001*\"j\" + 0.001*\"win\"'),\n",
       " (17,\n",
       "  '0.001*\"tho\" + 0.001*\"n\" + 0.001*\"new\" + 0.001*\"ii\" + 0.001*\"day\" + 0.001*\"ft\" + 0.001*\"t\" + 0.001*\"nnd\" + 0.001*\"win\" + 0.001*\"j\"'),\n",
       " (18,\n",
       "  '0.001*\"tho\" + 0.001*\"ft\" + 0.001*\"n\" + 0.001*\"ii\" + 0.001*\"r\" + 0.001*\"t\" + 0.001*\"new\" + 0.001*\"l\" + 0.001*\"club\" + 0.001*\"o\"'),\n",
       " (19,\n",
       "  '0.001*\"ft\" + 0.001*\"tho\" + 0.001*\"n\" + 0.001*\"ii\" + 0.001*\"new\" + 0.001*\"t\" + 0.001*\"game\" + 0.001*\"york\" + 0.001*\"l\" + 0.001*\"v\"')]"
      ]
     },
     "execution_count": 37,
     "metadata": {},
     "output_type": "execute_result"
    }
   ],
   "source": [
    "# explore topics\n",
    "lda_model.print_topics()"
   ]
  },
  {
   "cell_type": "code",
   "execution_count": 38,
   "metadata": {
    "id": "c2Hy4JaRUb6l"
   },
   "outputs": [
    {
     "data": {
      "text/plain": [
       "[(13, 0.8849228), (15, 0.11478521)]"
      ]
     },
     "execution_count": 38,
     "metadata": {},
     "output_type": "execute_result"
    }
   ],
   "source": [
    "# Find topics in each document\n",
    "lda_model.get_document_topics(corpus[0])"
   ]
  },
  {
   "cell_type": "code",
   "execution_count": 39,
   "metadata": {
    "id": "nRr4iVCmTdLa"
   },
   "outputs": [
    {
     "ename": "TypeError",
     "evalue": "Object of type complex is not JSON serializable",
     "output_type": "error",
     "traceback": [
      "\u001b[0;31m---------------------------------------------------------------------------\u001b[0m",
      "\u001b[0;31mTypeError\u001b[0m                                 Traceback (most recent call last)",
      "File \u001b[0;32m~/miniconda3/lib/python3.11/site-packages/IPython/core/formatters.py:340\u001b[0m, in \u001b[0;36mBaseFormatter.__call__\u001b[0;34m(self, obj)\u001b[0m\n\u001b[1;32m    338\u001b[0m     \u001b[38;5;28;01mpass\u001b[39;00m\n\u001b[1;32m    339\u001b[0m \u001b[38;5;28;01melse\u001b[39;00m:\n\u001b[0;32m--> 340\u001b[0m     \u001b[38;5;28;01mreturn\u001b[39;00m printer(obj)\n\u001b[1;32m    341\u001b[0m \u001b[38;5;66;03m# Finally look for special method names\u001b[39;00m\n\u001b[1;32m    342\u001b[0m method \u001b[38;5;241m=\u001b[39m get_real_method(obj, \u001b[38;5;28mself\u001b[39m\u001b[38;5;241m.\u001b[39mprint_method)\n",
      "File \u001b[0;32m~/miniconda3/lib/python3.11/site-packages/pyLDAvis/_display.py:308\u001b[0m, in \u001b[0;36menable_notebook.<locals>.<lambda>\u001b[0;34m(data, kwds)\u001b[0m\n\u001b[1;32m    305\u001b[0m ip \u001b[38;5;241m=\u001b[39m get_ipython()\n\u001b[1;32m    306\u001b[0m formatter \u001b[38;5;241m=\u001b[39m ip\u001b[38;5;241m.\u001b[39mdisplay_formatter\u001b[38;5;241m.\u001b[39mformatters[\u001b[38;5;124m'\u001b[39m\u001b[38;5;124mtext/html\u001b[39m\u001b[38;5;124m'\u001b[39m]\n\u001b[1;32m    307\u001b[0m formatter\u001b[38;5;241m.\u001b[39mfor_type(PreparedData,\n\u001b[0;32m--> 308\u001b[0m                    \u001b[38;5;28;01mlambda\u001b[39;00m data, kwds\u001b[38;5;241m=\u001b[39mkwargs: prepared_data_to_html(data, \u001b[38;5;241m*\u001b[39m\u001b[38;5;241m*\u001b[39mkwds))\n",
      "File \u001b[0;32m~/miniconda3/lib/python3.11/site-packages/pyLDAvis/_display.py:177\u001b[0m, in \u001b[0;36mprepared_data_to_html\u001b[0;34m(data, d3_url, ldavis_url, ldavis_css_url, template_type, visid, use_http)\u001b[0m\n\u001b[1;32m    170\u001b[0m \u001b[38;5;28;01melif\u001b[39;00m re\u001b[38;5;241m.\u001b[39msearch(\u001b[38;5;124mr\u001b[39m\u001b[38;5;124m'\u001b[39m\u001b[38;5;124m\\\u001b[39m\u001b[38;5;124ms\u001b[39m\u001b[38;5;124m'\u001b[39m, visid):\n\u001b[1;32m    171\u001b[0m     \u001b[38;5;28;01mraise\u001b[39;00m \u001b[38;5;167;01mValueError\u001b[39;00m(\u001b[38;5;124m\"\u001b[39m\u001b[38;5;124mvisid must not contain spaces\u001b[39m\u001b[38;5;124m\"\u001b[39m)\n\u001b[1;32m    173\u001b[0m \u001b[38;5;28;01mreturn\u001b[39;00m template\u001b[38;5;241m.\u001b[39mrender(visid\u001b[38;5;241m=\u001b[39mjson\u001b[38;5;241m.\u001b[39mdumps(visid),\n\u001b[1;32m    174\u001b[0m                        visid_raw\u001b[38;5;241m=\u001b[39mvisid,\n\u001b[1;32m    175\u001b[0m                        d3_url\u001b[38;5;241m=\u001b[39md3_url,\n\u001b[1;32m    176\u001b[0m                        ldavis_url\u001b[38;5;241m=\u001b[39mldavis_url,\n\u001b[0;32m--> 177\u001b[0m                        vis_json\u001b[38;5;241m=\u001b[39mdata\u001b[38;5;241m.\u001b[39mto_json(),\n\u001b[1;32m    178\u001b[0m                        ldavis_css_url\u001b[38;5;241m=\u001b[39mldavis_css_url)\n",
      "File \u001b[0;32m~/miniconda3/lib/python3.11/site-packages/pyLDAvis/_prepare.py:464\u001b[0m, in \u001b[0;36mPreparedData.to_json\u001b[0;34m(self)\u001b[0m\n\u001b[1;32m    463\u001b[0m \u001b[38;5;28;01mdef\u001b[39;00m \u001b[38;5;21mto_json\u001b[39m(\u001b[38;5;28mself\u001b[39m):\n\u001b[0;32m--> 464\u001b[0m     \u001b[38;5;28;01mreturn\u001b[39;00m json\u001b[38;5;241m.\u001b[39mdumps(\u001b[38;5;28mself\u001b[39m\u001b[38;5;241m.\u001b[39mto_dict(), \u001b[38;5;28mcls\u001b[39m\u001b[38;5;241m=\u001b[39mNumPyEncoder)\n",
      "File \u001b[0;32m~/miniconda3/lib/python3.11/json/__init__.py:238\u001b[0m, in \u001b[0;36mdumps\u001b[0;34m(obj, skipkeys, ensure_ascii, check_circular, allow_nan, cls, indent, separators, default, sort_keys, **kw)\u001b[0m\n\u001b[1;32m    232\u001b[0m \u001b[38;5;28;01mif\u001b[39;00m \u001b[38;5;28mcls\u001b[39m \u001b[38;5;129;01mis\u001b[39;00m \u001b[38;5;28;01mNone\u001b[39;00m:\n\u001b[1;32m    233\u001b[0m     \u001b[38;5;28mcls\u001b[39m \u001b[38;5;241m=\u001b[39m JSONEncoder\n\u001b[1;32m    234\u001b[0m \u001b[38;5;28;01mreturn\u001b[39;00m \u001b[38;5;28mcls\u001b[39m(\n\u001b[1;32m    235\u001b[0m     skipkeys\u001b[38;5;241m=\u001b[39mskipkeys, ensure_ascii\u001b[38;5;241m=\u001b[39mensure_ascii,\n\u001b[1;32m    236\u001b[0m     check_circular\u001b[38;5;241m=\u001b[39mcheck_circular, allow_nan\u001b[38;5;241m=\u001b[39mallow_nan, indent\u001b[38;5;241m=\u001b[39mindent,\n\u001b[1;32m    237\u001b[0m     separators\u001b[38;5;241m=\u001b[39mseparators, default\u001b[38;5;241m=\u001b[39mdefault, sort_keys\u001b[38;5;241m=\u001b[39msort_keys,\n\u001b[0;32m--> 238\u001b[0m     \u001b[38;5;241m*\u001b[39m\u001b[38;5;241m*\u001b[39mkw)\u001b[38;5;241m.\u001b[39mencode(obj)\n",
      "File \u001b[0;32m~/miniconda3/lib/python3.11/json/encoder.py:200\u001b[0m, in \u001b[0;36mJSONEncoder.encode\u001b[0;34m(self, o)\u001b[0m\n\u001b[1;32m    196\u001b[0m         \u001b[38;5;28;01mreturn\u001b[39;00m encode_basestring(o)\n\u001b[1;32m    197\u001b[0m \u001b[38;5;66;03m# This doesn't pass the iterator directly to ''.join() because the\u001b[39;00m\n\u001b[1;32m    198\u001b[0m \u001b[38;5;66;03m# exceptions aren't as detailed.  The list call should be roughly\u001b[39;00m\n\u001b[1;32m    199\u001b[0m \u001b[38;5;66;03m# equivalent to the PySequence_Fast that ''.join() would do.\u001b[39;00m\n\u001b[0;32m--> 200\u001b[0m chunks \u001b[38;5;241m=\u001b[39m \u001b[38;5;28mself\u001b[39m\u001b[38;5;241m.\u001b[39miterencode(o, _one_shot\u001b[38;5;241m=\u001b[39m\u001b[38;5;28;01mTrue\u001b[39;00m)\n\u001b[1;32m    201\u001b[0m \u001b[38;5;28;01mif\u001b[39;00m \u001b[38;5;129;01mnot\u001b[39;00m \u001b[38;5;28misinstance\u001b[39m(chunks, (\u001b[38;5;28mlist\u001b[39m, \u001b[38;5;28mtuple\u001b[39m)):\n\u001b[1;32m    202\u001b[0m     chunks \u001b[38;5;241m=\u001b[39m \u001b[38;5;28mlist\u001b[39m(chunks)\n",
      "File \u001b[0;32m~/miniconda3/lib/python3.11/json/encoder.py:258\u001b[0m, in \u001b[0;36mJSONEncoder.iterencode\u001b[0;34m(self, o, _one_shot)\u001b[0m\n\u001b[1;32m    253\u001b[0m \u001b[38;5;28;01melse\u001b[39;00m:\n\u001b[1;32m    254\u001b[0m     _iterencode \u001b[38;5;241m=\u001b[39m _make_iterencode(\n\u001b[1;32m    255\u001b[0m         markers, \u001b[38;5;28mself\u001b[39m\u001b[38;5;241m.\u001b[39mdefault, _encoder, \u001b[38;5;28mself\u001b[39m\u001b[38;5;241m.\u001b[39mindent, floatstr,\n\u001b[1;32m    256\u001b[0m         \u001b[38;5;28mself\u001b[39m\u001b[38;5;241m.\u001b[39mkey_separator, \u001b[38;5;28mself\u001b[39m\u001b[38;5;241m.\u001b[39mitem_separator, \u001b[38;5;28mself\u001b[39m\u001b[38;5;241m.\u001b[39msort_keys,\n\u001b[1;32m    257\u001b[0m         \u001b[38;5;28mself\u001b[39m\u001b[38;5;241m.\u001b[39mskipkeys, _one_shot)\n\u001b[0;32m--> 258\u001b[0m \u001b[38;5;28;01mreturn\u001b[39;00m _iterencode(o, \u001b[38;5;241m0\u001b[39m)\n",
      "File \u001b[0;32m~/miniconda3/lib/python3.11/site-packages/pyLDAvis/utils.py:150\u001b[0m, in \u001b[0;36mNumPyEncoder.default\u001b[0;34m(self, obj)\u001b[0m\n\u001b[1;32m    148\u001b[0m \u001b[38;5;28;01mif\u001b[39;00m \u001b[38;5;28misinstance\u001b[39m(obj, np\u001b[38;5;241m.\u001b[39mfloat64) \u001b[38;5;129;01mor\u001b[39;00m \u001b[38;5;28misinstance\u001b[39m(obj, np\u001b[38;5;241m.\u001b[39mfloat32):\n\u001b[1;32m    149\u001b[0m     \u001b[38;5;28;01mreturn\u001b[39;00m \u001b[38;5;28mfloat\u001b[39m(obj)\n\u001b[0;32m--> 150\u001b[0m \u001b[38;5;28;01mreturn\u001b[39;00m json\u001b[38;5;241m.\u001b[39mJSONEncoder\u001b[38;5;241m.\u001b[39mdefault(\u001b[38;5;28mself\u001b[39m, obj)\n",
      "File \u001b[0;32m~/miniconda3/lib/python3.11/json/encoder.py:180\u001b[0m, in \u001b[0;36mJSONEncoder.default\u001b[0;34m(self, o)\u001b[0m\n\u001b[1;32m    161\u001b[0m \u001b[38;5;28;01mdef\u001b[39;00m \u001b[38;5;21mdefault\u001b[39m(\u001b[38;5;28mself\u001b[39m, o):\n\u001b[1;32m    162\u001b[0m \u001b[38;5;250m    \u001b[39m\u001b[38;5;124;03m\"\"\"Implement this method in a subclass such that it returns\u001b[39;00m\n\u001b[1;32m    163\u001b[0m \u001b[38;5;124;03m    a serializable object for ``o``, or calls the base implementation\u001b[39;00m\n\u001b[1;32m    164\u001b[0m \u001b[38;5;124;03m    (to raise a ``TypeError``).\u001b[39;00m\n\u001b[0;32m   (...)\u001b[0m\n\u001b[1;32m    178\u001b[0m \n\u001b[1;32m    179\u001b[0m \u001b[38;5;124;03m    \"\"\"\u001b[39;00m\n\u001b[0;32m--> 180\u001b[0m     \u001b[38;5;28;01mraise\u001b[39;00m \u001b[38;5;167;01mTypeError\u001b[39;00m(\u001b[38;5;124mf\u001b[39m\u001b[38;5;124m'\u001b[39m\u001b[38;5;124mObject of type \u001b[39m\u001b[38;5;132;01m{\u001b[39;00mo\u001b[38;5;241m.\u001b[39m\u001b[38;5;18m__class__\u001b[39m\u001b[38;5;241m.\u001b[39m\u001b[38;5;18m__name__\u001b[39m\u001b[38;5;132;01m}\u001b[39;00m\u001b[38;5;124m \u001b[39m\u001b[38;5;124m'\u001b[39m\n\u001b[1;32m    181\u001b[0m                     \u001b[38;5;124mf\u001b[39m\u001b[38;5;124m'\u001b[39m\u001b[38;5;124mis not JSON serializable\u001b[39m\u001b[38;5;124m'\u001b[39m)\n",
      "\u001b[0;31mTypeError\u001b[0m: Object of type complex is not JSON serializable"
     ]
    },
    {
     "data": {
      "text/plain": [
       "PreparedData(topic_coordinates=                        x                   y  topics  cluster       Freq\n",
       "topic                                                                    \n",
       "15    -0.061050+0.000000j  0.114156+0.000000j       1        1  65.482475\n",
       "13     0.264561+0.000000j  0.020270+0.000000j       2        1  34.445964\n",
       "3     -0.017400+0.000000j -0.020932+0.000000j       3        1   0.039362\n",
       "0     -0.010947+0.000000j -0.006676+0.000000j       4        1   0.001894\n",
       "11    -0.010948+0.000000j -0.006677+0.000000j       5        1   0.001894\n",
       "18    -0.010947+0.000000j -0.006677+0.000000j       6        1   0.001894\n",
       "17    -0.010948+0.000000j -0.006676+0.000000j       7        1   0.001894\n",
       "16    -0.010948+0.000000j -0.006677+0.000000j       8        1   0.001894\n",
       "14    -0.010948+0.000000j -0.006676+0.000000j       9        1   0.001894\n",
       "12    -0.010949+0.000000j -0.006677+0.000000j      10        1   0.001894\n",
       "10    -0.010947+0.000000j -0.006675+0.000000j      11        1   0.001894\n",
       "1     -0.010947+0.000000j -0.006676+0.000000j      12        1   0.001894\n",
       "9     -0.010948+0.000000j -0.006677+0.000000j      13        1   0.001894\n",
       "8     -0.010948+0.000000j -0.006676+0.000000j      14        1   0.001894\n",
       "7     -0.010947+0.000000j -0.006675+0.000000j      15        1   0.001894\n",
       "6     -0.010947+0.000000j -0.006673+0.000000j      16        1   0.001894\n",
       "5     -0.010948+0.000000j -0.006678+0.000000j      17        1   0.001894\n",
       "4     -0.010948+0.000000j -0.006676+0.000000j      18        1   0.001894\n",
       "2     -0.010949+0.000000j -0.006678+0.000000j      19        1   0.001894\n",
       "19    -0.010947+0.000000j -0.006677+0.000000j      20        1   0.001894, topic_info=      Term      Freq       Total Category  logprob  loglift\n",
       "741    tho  278.0000  278.000000  Default  30.0000  30.0000\n",
       "259     ft   92.0000   92.000000  Default  29.0000  29.0000\n",
       "522    new   71.0000   71.000000  Default  28.0000  28.0000\n",
       "514      n   85.0000   85.000000  Default  27.0000  27.0000\n",
       "863   year   44.0000   44.000000  Default  26.0000  26.0000\n",
       "..     ...       ...         ...      ...      ...      ...\n",
       "220      f    0.0001   29.363540  Topic20  -7.3118  -1.7147\n",
       "863   year    0.0001   44.429933  Topic20  -7.3118  -2.1289\n",
       "91       c    0.0001   31.369781  Topic20  -7.3118  -1.7808\n",
       "584   play    0.0001   19.630031  Topic20  -7.3118  -1.3120\n",
       "705  start    0.0001   25.698582  Topic20  -7.3119  -1.5814\n",
       "\n",
       "[1282 rows x 6 columns], token_table=      Topic      Freq    Term\n",
       "term                         \n",
       "1         2  1.008030      ab\n",
       "876       1  0.964533      af\n",
       "877       1  0.964534  affect\n",
       "13        2  1.011468      ah\n",
       "22        2  1.008029     ami\n",
       "...     ...       ...     ...\n",
       "863       2  0.090029    year\n",
       "867       1  0.705110    york\n",
       "867       2  0.290339    york\n",
       "1345      1  0.964537   yorlc\n",
       "869       2  0.978124   younr\n",
       "\n",
       "[333 rows x 3 columns], R=30, lambda_step=0.01, plot_opts={'xlab': 'PC1', 'ylab': 'PC2'}, topic_order=[16, 14, 4, 1, 12, 19, 18, 17, 15, 13, 11, 2, 10, 9, 8, 7, 6, 5, 3, 20])"
      ]
     },
     "execution_count": 39,
     "metadata": {},
     "output_type": "execute_result"
    }
   ],
   "source": [
    "# visualize\n",
    "pyLDAvis.enable_notebook()\n",
    "vis = pyLDAvis.gensim.prepare(lda_model, corpus, dictionary)\n",
    "vis"
   ]
  },
  {
   "cell_type": "markdown",
   "metadata": {
    "id": "I7RC62k9Ziff"
   },
   "source": [
    "### Tf-idf topic model"
   ]
  },
  {
   "cell_type": "code",
   "execution_count": 25,
   "metadata": {
    "id": "4F7BXTC5sAVF"
   },
   "outputs": [],
   "source": [
    "# initialize a tfidf model\n",
    "tfidf = models.TfidfModel(corpus)"
   ]
  },
  {
   "cell_type": "code",
   "execution_count": 26,
   "metadata": {
    "id": "eND22rtDsbbN"
   },
   "outputs": [],
   "source": [
    "# make a new corpus based on the tfidf model\n",
    "corpus_tfidf = tfidf[corpus]"
   ]
  },
  {
   "cell_type": "code",
   "execution_count": 27,
   "metadata": {
    "id": "fyYdBjUrstOb"
   },
   "outputs": [],
   "source": [
    "# here we build our topic model\n",
    "lda_model_tfidf = models.LdaModel(corpus_tfidf, id2word=dictionary, num_topics=20, passes=50)\n",
    "corpus_lda = lda_model_tfidf[corpus_tfidf]"
   ]
  },
  {
   "cell_type": "code",
   "execution_count": 28,
   "metadata": {
    "id": "YvTzJeaWtdBb"
   },
   "outputs": [
    {
     "data": {
      "text/plain": [
       "[(0,\n",
       "  '0.001*\"dry\" + 0.001*\"doubt\" + 0.001*\"electric\" + 0.001*\"editor\" + 0.001*\"edith\" + 0.001*\"east\" + 0.001*\"early\" + 0.001*\"eagle\" + 0.001*\"dunne\" + 0.001*\"dulck\"'),\n",
       " (1,\n",
       "  '0.001*\"dry\" + 0.001*\"doubt\" + 0.001*\"electric\" + 0.001*\"editor\" + 0.001*\"edith\" + 0.001*\"east\" + 0.001*\"early\" + 0.001*\"eagle\" + 0.001*\"dunne\" + 0.001*\"dulck\"'),\n",
       " (2,\n",
       "  '0.001*\"dry\" + 0.001*\"doubt\" + 0.001*\"electric\" + 0.001*\"editor\" + 0.001*\"edith\" + 0.001*\"east\" + 0.001*\"early\" + 0.001*\"eagle\" + 0.001*\"dunne\" + 0.001*\"dulck\"'),\n",
       " (3,\n",
       "  '0.005*\"sho\" + 0.004*\"ford\" + 0.003*\"woman\" + 0.003*\"harvard\" + 0.003*\"jury\" + 0.003*\"wero\" + 0.003*\"revolver\" + 0.003*\"havo\" + 0.002*\"strieker\" + 0.002*\"shutz\"'),\n",
       " (4,\n",
       "  '0.001*\"dry\" + 0.001*\"doubt\" + 0.001*\"electric\" + 0.001*\"editor\" + 0.001*\"edith\" + 0.001*\"east\" + 0.001*\"early\" + 0.001*\"eagle\" + 0.001*\"dunne\" + 0.001*\"dulck\"'),\n",
       " (5,\n",
       "  '0.005*\"league\" + 0.004*\"ball\" + 0.003*\"giants\" + 0.003*\"baseball\" + 0.003*\"tennis\" + 0.003*\"june\" + 0.003*\"oo\" + 0.003*\"base\" + 0.002*\"hit\" + 0.002*\"ti\"'),\n",
       " (6,\n",
       "  '0.001*\"purse\" + 0.001*\"broadway\" + 0.001*\"christmas\" + 0.001*\"deer\" + 0.001*\"december\" + 0.001*\"touring\" + 0.001*\"bon\" + 0.001*\"trout\" + 0.001*\"hotel\" + 0.001*\"sedan\"'),\n",
       " (7,\n",
       "  '0.001*\"dry\" + 0.001*\"doubt\" + 0.001*\"electric\" + 0.001*\"editor\" + 0.001*\"edith\" + 0.001*\"east\" + 0.001*\"early\" + 0.001*\"eagle\" + 0.001*\"dunne\" + 0.001*\"dulck\"'),\n",
       " (8,\n",
       "  '0.001*\"dry\" + 0.001*\"doubt\" + 0.001*\"electric\" + 0.001*\"editor\" + 0.001*\"edith\" + 0.001*\"east\" + 0.001*\"early\" + 0.001*\"eagle\" + 0.001*\"dunne\" + 0.001*\"dulck\"'),\n",
       " (9,\n",
       "  '0.004*\"purse\" + 0.003*\"christmas\" + 0.003*\"broadway\" + 0.003*\"december\" + 0.003*\"deer\" + 0.002*\"hotel\" + 0.002*\"sedan\" + 0.002*\"touring\" + 0.002*\"stretch\" + 0.002*\"trout\"'),\n",
       " (10,\n",
       "  '0.001*\"dry\" + 0.001*\"doubt\" + 0.001*\"electric\" + 0.001*\"editor\" + 0.001*\"edith\" + 0.001*\"east\" + 0.001*\"early\" + 0.001*\"eagle\" + 0.001*\"dunne\" + 0.001*\"dulck\"'),\n",
       " (11,\n",
       "  '0.001*\"dry\" + 0.001*\"doubt\" + 0.001*\"electric\" + 0.001*\"editor\" + 0.001*\"edith\" + 0.001*\"east\" + 0.001*\"early\" + 0.001*\"eagle\" + 0.001*\"dunne\" + 0.001*\"dulck\"'),\n",
       " (12,\n",
       "  '0.001*\"dry\" + 0.001*\"doubt\" + 0.001*\"electric\" + 0.001*\"editor\" + 0.001*\"edith\" + 0.001*\"east\" + 0.001*\"early\" + 0.001*\"eagle\" + 0.001*\"dunne\" + 0.001*\"dulck\"'),\n",
       " (13,\n",
       "  '0.001*\"dry\" + 0.001*\"doubt\" + 0.001*\"electric\" + 0.001*\"editor\" + 0.001*\"edith\" + 0.001*\"east\" + 0.001*\"early\" + 0.001*\"eagle\" + 0.001*\"dunne\" + 0.001*\"dulck\"'),\n",
       " (14,\n",
       "  '0.001*\"dry\" + 0.001*\"doubt\" + 0.001*\"electric\" + 0.001*\"editor\" + 0.001*\"edith\" + 0.001*\"east\" + 0.001*\"early\" + 0.001*\"eagle\" + 0.001*\"dunne\" + 0.001*\"dulck\"'),\n",
       " (15,\n",
       "  '0.001*\"dry\" + 0.001*\"doubt\" + 0.001*\"electric\" + 0.001*\"editor\" + 0.001*\"edith\" + 0.001*\"east\" + 0.001*\"early\" + 0.001*\"eagle\" + 0.001*\"dunne\" + 0.001*\"dulck\"'),\n",
       " (16,\n",
       "  '0.001*\"dry\" + 0.001*\"doubt\" + 0.001*\"electric\" + 0.001*\"editor\" + 0.001*\"edith\" + 0.001*\"east\" + 0.001*\"early\" + 0.001*\"eagle\" + 0.001*\"dunne\" + 0.001*\"dulck\"'),\n",
       " (17,\n",
       "  '0.001*\"dry\" + 0.001*\"doubt\" + 0.001*\"electric\" + 0.001*\"editor\" + 0.001*\"edith\" + 0.001*\"east\" + 0.001*\"early\" + 0.001*\"eagle\" + 0.001*\"dunne\" + 0.001*\"dulck\"'),\n",
       " (18,\n",
       "  '0.001*\"dry\" + 0.001*\"doubt\" + 0.001*\"electric\" + 0.001*\"editor\" + 0.001*\"edith\" + 0.001*\"east\" + 0.001*\"early\" + 0.001*\"eagle\" + 0.001*\"dunne\" + 0.001*\"dulck\"'),\n",
       " (19,\n",
       "  '0.001*\"dry\" + 0.001*\"doubt\" + 0.001*\"electric\" + 0.001*\"editor\" + 0.001*\"edith\" + 0.001*\"east\" + 0.001*\"early\" + 0.001*\"eagle\" + 0.001*\"dunne\" + 0.001*\"dulck\"')]"
      ]
     },
     "execution_count": 28,
     "metadata": {},
     "output_type": "execute_result"
    }
   ],
   "source": [
    "lda_model_tfidf.print_topics()"
   ]
  },
  {
   "cell_type": "code",
   "execution_count": 29,
   "metadata": {
    "id": "n8xBQPGQaxum"
   },
   "outputs": [
    {
     "data": {
      "text/plain": [
       "[(5, 0.82245713)]"
      ]
     },
     "execution_count": 29,
     "metadata": {},
     "output_type": "execute_result"
    }
   ],
   "source": [
    "# Find topics in each document\n",
    "lda_model_tfidf.get_document_topics(corpus_tfidf[0])"
   ]
  },
  {
   "cell_type": "code",
   "execution_count": 30,
   "metadata": {
    "id": "n_BjVznqwxKK"
   },
   "outputs": [
    {
     "ename": "TypeError",
     "evalue": "Object of type complex is not JSON serializable",
     "output_type": "error",
     "traceback": [
      "\u001b[0;31m---------------------------------------------------------------------------\u001b[0m",
      "\u001b[0;31mTypeError\u001b[0m                                 Traceback (most recent call last)",
      "File \u001b[0;32m~/miniconda3/lib/python3.11/site-packages/IPython/core/formatters.py:340\u001b[0m, in \u001b[0;36mBaseFormatter.__call__\u001b[0;34m(self, obj)\u001b[0m\n\u001b[1;32m    338\u001b[0m     \u001b[38;5;28;01mpass\u001b[39;00m\n\u001b[1;32m    339\u001b[0m \u001b[38;5;28;01melse\u001b[39;00m:\n\u001b[0;32m--> 340\u001b[0m     \u001b[38;5;28;01mreturn\u001b[39;00m printer(obj)\n\u001b[1;32m    341\u001b[0m \u001b[38;5;66;03m# Finally look for special method names\u001b[39;00m\n\u001b[1;32m    342\u001b[0m method \u001b[38;5;241m=\u001b[39m get_real_method(obj, \u001b[38;5;28mself\u001b[39m\u001b[38;5;241m.\u001b[39mprint_method)\n",
      "File \u001b[0;32m~/miniconda3/lib/python3.11/site-packages/pyLDAvis/_display.py:308\u001b[0m, in \u001b[0;36menable_notebook.<locals>.<lambda>\u001b[0;34m(data, kwds)\u001b[0m\n\u001b[1;32m    305\u001b[0m ip \u001b[38;5;241m=\u001b[39m get_ipython()\n\u001b[1;32m    306\u001b[0m formatter \u001b[38;5;241m=\u001b[39m ip\u001b[38;5;241m.\u001b[39mdisplay_formatter\u001b[38;5;241m.\u001b[39mformatters[\u001b[38;5;124m'\u001b[39m\u001b[38;5;124mtext/html\u001b[39m\u001b[38;5;124m'\u001b[39m]\n\u001b[1;32m    307\u001b[0m formatter\u001b[38;5;241m.\u001b[39mfor_type(PreparedData,\n\u001b[0;32m--> 308\u001b[0m                    \u001b[38;5;28;01mlambda\u001b[39;00m data, kwds\u001b[38;5;241m=\u001b[39mkwargs: prepared_data_to_html(data, \u001b[38;5;241m*\u001b[39m\u001b[38;5;241m*\u001b[39mkwds))\n",
      "File \u001b[0;32m~/miniconda3/lib/python3.11/site-packages/pyLDAvis/_display.py:177\u001b[0m, in \u001b[0;36mprepared_data_to_html\u001b[0;34m(data, d3_url, ldavis_url, ldavis_css_url, template_type, visid, use_http)\u001b[0m\n\u001b[1;32m    170\u001b[0m \u001b[38;5;28;01melif\u001b[39;00m re\u001b[38;5;241m.\u001b[39msearch(\u001b[38;5;124mr\u001b[39m\u001b[38;5;124m'\u001b[39m\u001b[38;5;124m\\\u001b[39m\u001b[38;5;124ms\u001b[39m\u001b[38;5;124m'\u001b[39m, visid):\n\u001b[1;32m    171\u001b[0m     \u001b[38;5;28;01mraise\u001b[39;00m \u001b[38;5;167;01mValueError\u001b[39;00m(\u001b[38;5;124m\"\u001b[39m\u001b[38;5;124mvisid must not contain spaces\u001b[39m\u001b[38;5;124m\"\u001b[39m)\n\u001b[1;32m    173\u001b[0m \u001b[38;5;28;01mreturn\u001b[39;00m template\u001b[38;5;241m.\u001b[39mrender(visid\u001b[38;5;241m=\u001b[39mjson\u001b[38;5;241m.\u001b[39mdumps(visid),\n\u001b[1;32m    174\u001b[0m                        visid_raw\u001b[38;5;241m=\u001b[39mvisid,\n\u001b[1;32m    175\u001b[0m                        d3_url\u001b[38;5;241m=\u001b[39md3_url,\n\u001b[1;32m    176\u001b[0m                        ldavis_url\u001b[38;5;241m=\u001b[39mldavis_url,\n\u001b[0;32m--> 177\u001b[0m                        vis_json\u001b[38;5;241m=\u001b[39mdata\u001b[38;5;241m.\u001b[39mto_json(),\n\u001b[1;32m    178\u001b[0m                        ldavis_css_url\u001b[38;5;241m=\u001b[39mldavis_css_url)\n",
      "File \u001b[0;32m~/miniconda3/lib/python3.11/site-packages/pyLDAvis/_prepare.py:464\u001b[0m, in \u001b[0;36mPreparedData.to_json\u001b[0;34m(self)\u001b[0m\n\u001b[1;32m    463\u001b[0m \u001b[38;5;28;01mdef\u001b[39;00m \u001b[38;5;21mto_json\u001b[39m(\u001b[38;5;28mself\u001b[39m):\n\u001b[0;32m--> 464\u001b[0m     \u001b[38;5;28;01mreturn\u001b[39;00m json\u001b[38;5;241m.\u001b[39mdumps(\u001b[38;5;28mself\u001b[39m\u001b[38;5;241m.\u001b[39mto_dict(), \u001b[38;5;28mcls\u001b[39m\u001b[38;5;241m=\u001b[39mNumPyEncoder)\n",
      "File \u001b[0;32m~/miniconda3/lib/python3.11/json/__init__.py:238\u001b[0m, in \u001b[0;36mdumps\u001b[0;34m(obj, skipkeys, ensure_ascii, check_circular, allow_nan, cls, indent, separators, default, sort_keys, **kw)\u001b[0m\n\u001b[1;32m    232\u001b[0m \u001b[38;5;28;01mif\u001b[39;00m \u001b[38;5;28mcls\u001b[39m \u001b[38;5;129;01mis\u001b[39;00m \u001b[38;5;28;01mNone\u001b[39;00m:\n\u001b[1;32m    233\u001b[0m     \u001b[38;5;28mcls\u001b[39m \u001b[38;5;241m=\u001b[39m JSONEncoder\n\u001b[1;32m    234\u001b[0m \u001b[38;5;28;01mreturn\u001b[39;00m \u001b[38;5;28mcls\u001b[39m(\n\u001b[1;32m    235\u001b[0m     skipkeys\u001b[38;5;241m=\u001b[39mskipkeys, ensure_ascii\u001b[38;5;241m=\u001b[39mensure_ascii,\n\u001b[1;32m    236\u001b[0m     check_circular\u001b[38;5;241m=\u001b[39mcheck_circular, allow_nan\u001b[38;5;241m=\u001b[39mallow_nan, indent\u001b[38;5;241m=\u001b[39mindent,\n\u001b[1;32m    237\u001b[0m     separators\u001b[38;5;241m=\u001b[39mseparators, default\u001b[38;5;241m=\u001b[39mdefault, sort_keys\u001b[38;5;241m=\u001b[39msort_keys,\n\u001b[0;32m--> 238\u001b[0m     \u001b[38;5;241m*\u001b[39m\u001b[38;5;241m*\u001b[39mkw)\u001b[38;5;241m.\u001b[39mencode(obj)\n",
      "File \u001b[0;32m~/miniconda3/lib/python3.11/json/encoder.py:200\u001b[0m, in \u001b[0;36mJSONEncoder.encode\u001b[0;34m(self, o)\u001b[0m\n\u001b[1;32m    196\u001b[0m         \u001b[38;5;28;01mreturn\u001b[39;00m encode_basestring(o)\n\u001b[1;32m    197\u001b[0m \u001b[38;5;66;03m# This doesn't pass the iterator directly to ''.join() because the\u001b[39;00m\n\u001b[1;32m    198\u001b[0m \u001b[38;5;66;03m# exceptions aren't as detailed.  The list call should be roughly\u001b[39;00m\n\u001b[1;32m    199\u001b[0m \u001b[38;5;66;03m# equivalent to the PySequence_Fast that ''.join() would do.\u001b[39;00m\n\u001b[0;32m--> 200\u001b[0m chunks \u001b[38;5;241m=\u001b[39m \u001b[38;5;28mself\u001b[39m\u001b[38;5;241m.\u001b[39miterencode(o, _one_shot\u001b[38;5;241m=\u001b[39m\u001b[38;5;28;01mTrue\u001b[39;00m)\n\u001b[1;32m    201\u001b[0m \u001b[38;5;28;01mif\u001b[39;00m \u001b[38;5;129;01mnot\u001b[39;00m \u001b[38;5;28misinstance\u001b[39m(chunks, (\u001b[38;5;28mlist\u001b[39m, \u001b[38;5;28mtuple\u001b[39m)):\n\u001b[1;32m    202\u001b[0m     chunks \u001b[38;5;241m=\u001b[39m \u001b[38;5;28mlist\u001b[39m(chunks)\n",
      "File \u001b[0;32m~/miniconda3/lib/python3.11/json/encoder.py:258\u001b[0m, in \u001b[0;36mJSONEncoder.iterencode\u001b[0;34m(self, o, _one_shot)\u001b[0m\n\u001b[1;32m    253\u001b[0m \u001b[38;5;28;01melse\u001b[39;00m:\n\u001b[1;32m    254\u001b[0m     _iterencode \u001b[38;5;241m=\u001b[39m _make_iterencode(\n\u001b[1;32m    255\u001b[0m         markers, \u001b[38;5;28mself\u001b[39m\u001b[38;5;241m.\u001b[39mdefault, _encoder, \u001b[38;5;28mself\u001b[39m\u001b[38;5;241m.\u001b[39mindent, floatstr,\n\u001b[1;32m    256\u001b[0m         \u001b[38;5;28mself\u001b[39m\u001b[38;5;241m.\u001b[39mkey_separator, \u001b[38;5;28mself\u001b[39m\u001b[38;5;241m.\u001b[39mitem_separator, \u001b[38;5;28mself\u001b[39m\u001b[38;5;241m.\u001b[39msort_keys,\n\u001b[1;32m    257\u001b[0m         \u001b[38;5;28mself\u001b[39m\u001b[38;5;241m.\u001b[39mskipkeys, _one_shot)\n\u001b[0;32m--> 258\u001b[0m \u001b[38;5;28;01mreturn\u001b[39;00m _iterencode(o, \u001b[38;5;241m0\u001b[39m)\n",
      "File \u001b[0;32m~/miniconda3/lib/python3.11/site-packages/pyLDAvis/utils.py:150\u001b[0m, in \u001b[0;36mNumPyEncoder.default\u001b[0;34m(self, obj)\u001b[0m\n\u001b[1;32m    148\u001b[0m \u001b[38;5;28;01mif\u001b[39;00m \u001b[38;5;28misinstance\u001b[39m(obj, np\u001b[38;5;241m.\u001b[39mfloat64) \u001b[38;5;129;01mor\u001b[39;00m \u001b[38;5;28misinstance\u001b[39m(obj, np\u001b[38;5;241m.\u001b[39mfloat32):\n\u001b[1;32m    149\u001b[0m     \u001b[38;5;28;01mreturn\u001b[39;00m \u001b[38;5;28mfloat\u001b[39m(obj)\n\u001b[0;32m--> 150\u001b[0m \u001b[38;5;28;01mreturn\u001b[39;00m json\u001b[38;5;241m.\u001b[39mJSONEncoder\u001b[38;5;241m.\u001b[39mdefault(\u001b[38;5;28mself\u001b[39m, obj)\n",
      "File \u001b[0;32m~/miniconda3/lib/python3.11/json/encoder.py:180\u001b[0m, in \u001b[0;36mJSONEncoder.default\u001b[0;34m(self, o)\u001b[0m\n\u001b[1;32m    161\u001b[0m \u001b[38;5;28;01mdef\u001b[39;00m \u001b[38;5;21mdefault\u001b[39m(\u001b[38;5;28mself\u001b[39m, o):\n\u001b[1;32m    162\u001b[0m \u001b[38;5;250m    \u001b[39m\u001b[38;5;124;03m\"\"\"Implement this method in a subclass such that it returns\u001b[39;00m\n\u001b[1;32m    163\u001b[0m \u001b[38;5;124;03m    a serializable object for ``o``, or calls the base implementation\u001b[39;00m\n\u001b[1;32m    164\u001b[0m \u001b[38;5;124;03m    (to raise a ``TypeError``).\u001b[39;00m\n\u001b[0;32m   (...)\u001b[0m\n\u001b[1;32m    178\u001b[0m \n\u001b[1;32m    179\u001b[0m \u001b[38;5;124;03m    \"\"\"\u001b[39;00m\n\u001b[0;32m--> 180\u001b[0m     \u001b[38;5;28;01mraise\u001b[39;00m \u001b[38;5;167;01mTypeError\u001b[39;00m(\u001b[38;5;124mf\u001b[39m\u001b[38;5;124m'\u001b[39m\u001b[38;5;124mObject of type \u001b[39m\u001b[38;5;132;01m{\u001b[39;00mo\u001b[38;5;241m.\u001b[39m\u001b[38;5;18m__class__\u001b[39m\u001b[38;5;241m.\u001b[39m\u001b[38;5;18m__name__\u001b[39m\u001b[38;5;132;01m}\u001b[39;00m\u001b[38;5;124m \u001b[39m\u001b[38;5;124m'\u001b[39m\n\u001b[1;32m    181\u001b[0m                     \u001b[38;5;124mf\u001b[39m\u001b[38;5;124m'\u001b[39m\u001b[38;5;124mis not JSON serializable\u001b[39m\u001b[38;5;124m'\u001b[39m)\n",
      "\u001b[0;31mTypeError\u001b[0m: Object of type complex is not JSON serializable"
     ]
    },
    {
     "data": {
      "text/plain": [
       "PreparedData(topic_coordinates=                        x                   y  topics  cluster       Freq\n",
       "topic                                                                    \n",
       "9      0.002047+0.000000j -0.008394+0.000000j       1        1  32.757299\n",
       "5      0.007284+0.000000j  0.005993+0.000000j       2        1  26.673297\n",
       "3     -0.009605+0.000000j  0.002755+0.000000j       3        1  25.114022\n",
       "0      0.000016+0.000000j -0.000021+0.000000j       4        1   0.909140\n",
       "12     0.000016+0.000000j -0.000021+0.000000j       5        1   0.909140\n",
       "18     0.000016+0.000000j -0.000021+0.000000j       6        1   0.909140\n",
       "17     0.000016+0.000000j -0.000021+0.000000j       7        1   0.909140\n",
       "16     0.000016+0.000000j -0.000021+0.000000j       8        1   0.909140\n",
       "15     0.000016+0.000000j -0.000021+0.000000j       9        1   0.909140\n",
       "14     0.000016+0.000000j -0.000021+0.000000j      10        1   0.909140\n",
       "13     0.000016+0.000000j -0.000021+0.000000j      11        1   0.909140\n",
       "10     0.000016+0.000000j -0.000021+0.000000j      12        1   0.909140\n",
       "11     0.000016+0.000000j -0.000021+0.000000j      13        1   0.909140\n",
       "1      0.000016+0.000000j -0.000021+0.000000j      14        1   0.909140\n",
       "8      0.000016+0.000000j -0.000021+0.000000j      15        1   0.909140\n",
       "7      0.000016+0.000000j -0.000021+0.000000j      16        1   0.909140\n",
       "6      0.000016+0.000000j -0.000021+0.000000j      17        1   0.909140\n",
       "4      0.000016+0.000000j -0.000021+0.000000j      18        1   0.909140\n",
       "2      0.000016+0.000000j -0.000021+0.000000j      19        1   0.909140\n",
       "19     0.000016+0.000000j -0.000021+0.000000j      20        1   0.909140, topic_info=           Term      Freq     Total Category  logprob  loglift\n",
       "425      league  0.000000  0.000000  Default  30.0000  30.0000\n",
       "1201      purse  0.000000  0.000000  Default  29.0000  29.0000\n",
       "1453        sho  0.000000  0.000000  Default  28.0000  28.0000\n",
       "49         ball  0.000000  0.000000  Default  27.0000  27.0000\n",
       "950   christmas  0.000000  0.000000  Default  26.0000  26.0000\n",
       "...         ...       ...       ...      ...      ...      ...\n",
       "24       andrew  0.000301  0.031518  Topic20  -7.3119   0.0498\n",
       "25         anil  0.000301  0.031518  Topic20  -7.3119   0.0498\n",
       "27          ant  0.000301  0.031518  Topic20  -7.3119   0.0498\n",
       "28       appear  0.000301  0.031518  Topic20  -7.3119   0.0498\n",
       "29           ar  0.000301  0.031518  Topic20  -7.3119   0.0498\n",
       "\n",
       "[1089 rows x 6 columns], token_table=Empty DataFrame\n",
       "Columns: [Topic, Freq, Term]\n",
       "Index: [], R=30, lambda_step=0.01, plot_opts={'xlab': 'PC1', 'ylab': 'PC2'}, topic_order=[10, 6, 4, 1, 13, 19, 18, 17, 16, 15, 14, 11, 12, 2, 9, 8, 7, 5, 3, 20])"
      ]
     },
     "execution_count": 30,
     "metadata": {},
     "output_type": "execute_result"
    }
   ],
   "source": [
    "# visualize\n",
    "pyLDAvis.enable_notebook()\n",
    "vis = pyLDAvis.gensim.prepare(lda_model_tfidf, corpus_tfidf, dictionary)\n",
    "vis"
   ]
  },
  {
   "cell_type": "code",
   "execution_count": null,
   "metadata": {
    "id": "c74aczU3y4zX"
   },
   "outputs": [],
   "source": []
  }
 ],
 "metadata": {
  "colab": {
   "provenance": []
  },
  "kernelspec": {
   "display_name": "Python 3 (ipykernel)",
   "language": "python",
   "name": "python3"
  },
  "language_info": {
   "codemirror_mode": {
    "name": "ipython",
    "version": 3
   },
   "file_extension": ".py",
   "mimetype": "text/x-python",
   "name": "python",
   "nbconvert_exporter": "python",
   "pygments_lexer": "ipython3",
   "version": "3.11.4"
  }
 },
 "nbformat": 4,
 "nbformat_minor": 1
}

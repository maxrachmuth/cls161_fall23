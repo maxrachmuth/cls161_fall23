{
 "cells": [
  {
   "cell_type": "markdown",
   "metadata": {
    "id": "VbIn_1X8qeYs"
   },
   "source": [
    "# Parsing a TEI Document"
   ]
  },
  {
   "cell_type": "markdown",
   "metadata": {
    "id": "B2jcXpCcqjUe"
   },
   "source": [
    "## Brief Introduction to TEI"
   ]
  },
  {
   "cell_type": "markdown",
   "metadata": {
    "id": "uaMrmYw8qnFE"
   },
   "source": [
    "The Text Encoding Initiative (TEI) is both a standard for encoding texts to be machine actionable and an organization that oversees the TEI standards.\n",
    "\n",
    "As standard, TEI provides a uniform way for humanities scholars to encode literary and documentary texts in a uniform way allowing them to be machine actionable for display, searching, or processing. TEI is a set of tags that piggy-back on basic XML.\n",
    "\n",
    "To learn more, please see the following:\n",
    "* [Text Encoding Initiative Home Page](https://tei-c.org/)\n",
    "* [What is the TEI from the Women Writers Project](https://www.wwp.northeastern.edu/outreach/seminars/tei.html)\n",
    "* [TEI By Example Project](https://teibyexample.org/)\n",
    "* [Introduction to XML](https://www.w3schools.com/xml/xml_whatis.asp)"
   ]
  },
  {
   "cell_type": "markdown",
   "metadata": {
    "id": "nY5ryOZ4qxFv"
   },
   "source": [
    "## Parsing TEI"
   ]
  },
  {
   "cell_type": "markdown",
   "metadata": {
    "id": "ZqVqsq7Tv0ck"
   },
   "source": [
    "### Set up"
   ]
  },
  {
   "cell_type": "code",
   "execution_count": null,
   "metadata": {
    "id": "ax5j3yg4rUfB"
   },
   "outputs": [],
   "source": [
    "# ! pip install beatifulsoup4"
   ]
  },
  {
   "cell_type": "code",
   "execution_count": 1,
   "metadata": {
    "id": "B2P2mAYSqRbQ"
   },
   "outputs": [],
   "source": [
    "from bs4 import BeautifulSoup\n",
    "import requests\n",
    "import pandas as pd"
   ]
  },
  {
   "cell_type": "code",
   "execution_count": 2,
   "metadata": {
    "id": "pVItKZ2GrBur"
   },
   "outputs": [],
   "source": [
    "# load xml file\n",
    "url = \"https://raw.githubusercontent.com/msaxton/nlp-data/main/gibbon.xml\"\n",
    "response = requests.get(url)\n",
    "xml_str = response.text"
   ]
  },
  {
   "cell_type": "markdown",
   "metadata": {
    "id": "hVe0pze-v36X"
   },
   "source": [
    "### Parse TEI"
   ]
  },
  {
   "cell_type": "code",
   "execution_count": 3,
   "metadata": {
    "id": "UzS5qa_Y96h2"
   },
   "outputs": [],
   "source": [
    "# use BeautifulSoup to creat an xml object\n",
    "xml = BeautifulSoup(xml_str)"
   ]
  },
  {
   "cell_type": "code",
   "execution_count": 4,
   "metadata": {
    "id": "R6EMEBs5-dUn"
   },
   "outputs": [],
   "source": [
    "# find all footnotes\n",
    "footnotes = xml.find_all('note', attrs={'place': 'bottom'})"
   ]
  },
  {
   "cell_type": "code",
   "execution_count": 15,
   "metadata": {
    "id": "eMr8NOYtrADL"
   },
   "outputs": [],
   "source": [
    "# remove extra space\n",
    "def remove_extra_space(text):\n",
    "  text = text.replace('\\n', '')\n",
    "  text = text.replace('  ', '')\n",
    "  return text"
   ]
  },
  {
   "cell_type": "code",
   "execution_count": 32,
   "metadata": {
    "id": "wK7f7hBmsZdl"
   },
   "outputs": [],
   "source": [
    "# prepare data for dataframe\n",
    "processed_footnotes = []\n",
    "i = 1\n",
    "for footnote in footnotes:\n",
    "  d = {}\n",
    "  footnote_num = f'footnote {str(i)}'\n",
    "  footnote_text = remove_extra_space(footnote.text)\n",
    "  d[\"number\"] = footnote_num\n",
    "  d[\"text\"] = footnote_text\n",
    "  processed_footnotes.append(d)\n",
    "  i += 1"
   ]
  },
  {
   "cell_type": "code",
   "execution_count": 34,
   "metadata": {
    "id": "OM4Ds7xluW4v"
   },
   "outputs": [],
   "source": [
    "# convert to datafram\n",
    "df = pd.DataFrame.from_dict(processed_footnotes)"
   ]
  },
  {
   "cell_type": "code",
   "execution_count": 36,
   "metadata": {
    "id": "FSI4PUQzujoQ"
   },
   "outputs": [],
   "source": [
    "file_name = \"gibbon_footnotes.csv\"\n",
    "df.to_csv(file_name, index=False)"
   ]
  }
 ],
 "metadata": {
  "colab": {
   "provenance": []
  },
  "kernelspec": {
   "display_name": "Python 3 (ipykernel)",
   "language": "python",
   "name": "python3"
  },
  "language_info": {
   "codemirror_mode": {
    "name": "ipython",
    "version": 3
   },
   "file_extension": ".py",
   "mimetype": "text/x-python",
   "name": "python",
   "nbconvert_exporter": "python",
   "pygments_lexer": "ipython3",
   "version": "3.11.4"
  }
 },
 "nbformat": 4,
 "nbformat_minor": 1
}

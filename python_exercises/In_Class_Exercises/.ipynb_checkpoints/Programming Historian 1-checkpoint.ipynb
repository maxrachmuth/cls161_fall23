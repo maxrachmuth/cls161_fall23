{
 "cells": [
  {
   "cell_type": "markdown",
   "id": "e6179cec",
   "metadata": {},
   "source": [
    "## Programming Historian- Code Reuse and Modularity in Python"
   ]
  },
  {
   "cell_type": "code",
   "execution_count": 2,
   "id": "2ac8e2d4",
   "metadata": {},
   "outputs": [
    {
     "name": "stdout",
     "output_type": "stream",
     "text": [
      "hello Everybody\n",
      "hello Programming Historian\n",
      "hello Max\n"
     ]
    }
   ],
   "source": [
    "# greet.py\n",
    "\n",
    "def greetEntity (x):\n",
    "    print(\"hello \" + x)\n",
    "\n",
    "greetEntity(\"Everybody\")\n",
    "greetEntity(\"Programming Historian\")\n",
    "greetEntity(\"Max\")"
   ]
  },
  {
   "cell_type": "code",
   "execution_count": null,
   "id": "7e7cccee",
   "metadata": {},
   "outputs": [],
   "source": [
    "def greetEntity (x):\n",
    "    print(\"hello \" + x)\n"
   ]
  }
 ],
 "metadata": {
  "kernelspec": {
   "display_name": "Python 3 (ipykernel)",
   "language": "python",
   "name": "python3"
  },
  "language_info": {
   "codemirror_mode": {
    "name": "ipython",
    "version": 3
   },
   "file_extension": ".py",
   "mimetype": "text/x-python",
   "name": "python",
   "nbconvert_exporter": "python",
   "pygments_lexer": "ipython3",
   "version": "3.11.4"
  }
 },
 "nbformat": 4,
 "nbformat_minor": 5
}

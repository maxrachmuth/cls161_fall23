{
 "cells": [
  {
   "cell_type": "markdown",
   "id": "f2346fd1",
   "metadata": {},
   "source": [
    "## Chronicling America Assignment- World War II search term "
   ]
  },
  {
   "cell_type": "code",
   "execution_count": 2,
   "id": "2e94f29b",
   "metadata": {},
   "outputs": [],
   "source": [
    "import requests\n",
    "import json\n",
    "import math\n",
    "import pandas as pd\n",
    "import spacy"
   ]
  },
  {
   "cell_type": "code",
   "execution_count": 3,
   "id": "8fc8271e",
   "metadata": {},
   "outputs": [],
   "source": [
    "url = 'https://chroniclingamerica.loc.gov/search/pages/results/?state=New+York&date1=1918&date2=1963&proxtext=World+War+II&x=0&y=0&dateFilterType=yearRange&rows=20&searchType=basic&format=json'\n",
    "response = requests.get(url)\n",
    "raw= response.text\n",
    "results = json.loads(raw)"
   ]
  },
  {
   "cell_type": "code",
   "execution_count": 4,
   "id": "099d0c45",
   "metadata": {},
   "outputs": [
    {
     "data": {
      "text/plain": [
       "dict_keys(['totalItems', 'endIndex', 'startIndex', 'itemsPerPage', 'items'])"
      ]
     },
     "execution_count": 4,
     "metadata": {},
     "output_type": "execute_result"
    }
   ],
   "source": [
    "results.keys()"
   ]
  },
  {
   "cell_type": "code",
   "execution_count": 11,
   "id": "5bffed5a",
   "metadata": {},
   "outputs": [
    {
     "name": "stdout",
     "output_type": "stream",
     "text": [
      "20\n",
      "{'sequence': 7, 'county': ['New York'], 'edition': None, 'frequency': 'Daily', 'id': '/lccn/sn83045774/1922-07-06/ed-1/seq-7/', 'subject': ['New York (N.Y.)--Newspapers.', 'New York (State)--New York County.--fast--(OCoLC)fst01234953', 'New York (State)--New York.--fast--(OCoLC)fst01204333', 'New York County (N.Y.)--Newspapers.'], 'city': ['New York'], 'date': '19220706', 'title': 'The New York herald. [volume]', 'end_year': 1924, 'note': ['Archived issues are available in digital format from the Library of Congress Chronicling America online collection.', 'Available on microfilm from Library of Congress, Photoduplication Service, and New York Public Library.'], 'state': ['New York'], 'section_label': '', 'type': 'page', 'place_of_publication': 'New York, N.Y.', 'start_year': 1920, 'edition_label': '', 'publisher': 'Sun-Herald', 'language': ['English'], 'alt_title': ['Combined New York morning newspapers', 'Combined New York Sunday newspapers'], 'lccn': 'sn83045774', 'country': 'New York', 'ocr_eng': 'I THE N\\nAl\\nIPROHIB\\nEnforcer\\nModifica\\nRepeal ?\\n7 The Literary Dig\\nMore than TEF\\nWET P\\nA SIS\\nOF\\nWhich will point, in\\nINDIVIDUAL SECRET BALLOT\\nION MEN AND WOMEN VO\\'\\nvote cast will express the free, ui\\nknown to anyone but himself or he\\nballots is urged to mark and mail it at1\\nSoldiers\\' Bonus you favor, be sure tc\\nwill help to strengthen your side in <\\nALL CLASSES OF VOTERS in all\\nbeing polled with complete impartialit\\nfarmers/ manufacturers, railroad em]\\nsuperintendents, managers, carpenter\\nprinters, miners, steel-workers, work\\nunion and non-union, professional me\\ndoctors,, clergymen, authors, actors,\\narchitects, musicians, etc., in short, a\\nthe voting population in all parts of tl\\nKIND is connected with this great N;\\nary Digest is always strictly non-par\\ntions. It records the facts and the opin\\nit has come to be regarded by million\\nindispensable periodical record of all\\nE VER Y WEl\\nThe results will appear in THE LITERA\\nand will be analyzed and explained, State b\\nment will be in the July 8th issue. Th\\npolitical leaders, the press, and citizens of tl\\nthem first and in the most complete detail.\\nAt the same time, and all through the year\\nfully and reporting all the facts and opini<\\n| Distinction to\\\\ I\\nI Be a Reader of I H H g\\n.== . =\\nI\\ni\\n? __ j\\nTHE NEW YORK HERALD, 1\\nATION IS\\nki tup TuiA nrn\\n* i nc i vvu ulu\\nITION\\nnent ? and thi\\nition ?\\nest, in a Nation-Wide Poll\\nJ MILLION VOTERS asking I\\n1* 1 1 .1 .1\\noiicy, ana wneiner tney are\\nTHE MAL m\\nadvance of election, to the\\nS have been mailed to more than TEN MILLTT?DC\\nT 4. ^ TTwit-J\\nJfJ^XVO llllUUgllUUl LUC UUUCU O Ld Lea. dvc iy\\nninfluenced, secret preference of the voter, unrself.\\nEvery voter who receives one of these\\nonce. Whichever policy on Prohibition and the\\n? back it now by your vote, because your vote\\ndetermining the final policy. w\\nStates and all communities in the Nation are\\ny. They include business men, merchants,\\nployees, bankers, clerks, builders, contractors,\\ns, plasterers, plumbers, painters, mechanics,\\ners in every trade and branch of industry, both\\n:n and women of all classes, including lawyers,\\nnewspaper men, dentists, engineers, educators,\\nill the classes of men and women who make up\\nhe couytry. NO PROPAGANDA OF ANY\\national Poll of the American people. The Litertizan\\nand impartial on all controversial quesions\\nof all parties and all classes. That is why\\ns of Americans as the one representative and\\nphases of American life.\\nn ww m wrw t t ? w\\nES/v tKUlYl ZVZh\\nRY DIGEST. All the figures will be given in detail\\ny State, until the poll is completed. The first announceese\\nreports will have unique and decisive interest for\\nle whole, country. DIGEST readers, of course, will get\\n\\\\ THE LITERARY DIGEST will be gathering careens\\non all sides bearing upon all the great problems\\neliterdi\\nFUNK & WAGNALLS COMPANY (Publishers of the Famo\\nTHURSDAY, JULY 6, 1922.\\n1 NOW 1\\ni-HOT QUESTU\\n_ FEDERA\\n7- For All Soldi\\nWho Wore\\nDuring the\\n, Has Mailed Individual\\nthem whether they Favor\\nFOR or AGAINST th<\\nL OF THE PEC\\nDEFEAT or VICTOI\\nHERE IS A COPY OF \\'\\n(This copy is printed here for information 01\\nSECRET BALLOT on PROHIB\\nNo Signature?No Condition?No (\\nPROHIBITION: (Put a cross (x) in\\n1. Do you favor the continuance and str\\neenth Amendment and Volstead L\\n2. Do you favor a modification of the \\\\\\nwines and beers?\\n3. Do you favor a repeal of the Prohib\\nSOLDIERS\\' BONUS: (pu~\\nDo you favor a Federal Bonus for all A\\nwho wore the Uniform during the\\nIt Is Important to Mark and R\\nMILLIONS OF CITIZENS are discuss\\ning. Both questions have a personal inter\\nthe United States, and will be controlling f\\ntions in many States. This Nation-wide P\\nDIGEST, will reveal, in advance of the el\\nstand on these questions. The result is ev\\niY STATE IN\\nand issues which are being discussed and which\\nLITERARY DIGEST is wonderfully equipped fc\\nnpncp t-hrmiorVi manv vMrs r?f mrr>fiil ?/r?rlr and rrs\\noffices in all parts of the world. The reader cai\\nabsolute certainty as it reveals, from week to we\\nreal state of the Nation\\'s mind, the, real facts\\ngreat problems toward settlement.\\nus NEW Standard Dictionary) NEW\\nl\\n. , -i.. j.. .\\n7\\nVOTINGDNS\\nft\\ni nrvMiTP I\\nL DU1>U0\\ners and Sailors\\nthe Uniform\\nWorld War ?\\nI Secret Ballots to\\na DRY, MOIST, or\\ne BONUS\\nIPLE\\nIY of many Candidates\\nTHE SECRET BALLOT\\nrily, and will not be accepted in the voting)\\n1ITI0N and SOLDIERS\\' BONUS I\\n)bligation Mark and Mail at once\\nthe square only opposite the policy you favor)\\nict enforcement of the Eight- \" IO\\naw? 1^2\\n? *5Volstead\\nLaw to permit light\\n? it !L\\n?5\\'\\nition Amendment?\\nross (x) in the square under \"Yes\" or No\") j\\nyfv* >o\\nmerican Soldiers and Sailors I I I I\\nWorld War? I II | I\\neturn This Ballot Immediately\\ning these two questions with intense feelest\\nto every man and woman and child in\\nactors in the coming Congressional elecoll,\\nnow being taken by THE LITERARY\\nection, how the majority of the citizens\\nerywhere eagerly awaited.\\nTHE UNION\\nmust be settled by the American people. THE\\n>r this service by a system built up at great exiching\\ninto thousands of newspaper and periodical\\n1 depend upon THE LITERARY DIGEST with\\nek, free from all prejudice and partizanship, the\\naffecting all issues, and the progress of all the\\n\"THF*\" / Single Dime \\\\\\n? 1 News-Standa 1\\nyEacMtfee^^\\nI', 'batch': 'dlc_crowfoot_ver01', 'title_normal': 'new york herald.', 'url': 'https://chroniclingamerica.loc.gov/lccn/sn83045774/1922-07-06/ed-1/seq-7.json', 'place': ['New York--New York--New York'], 'page': '7'}\n"
     ]
    }
   ],
   "source": [
    "print(results['itemsPerPage'])\n",
    "print(results['items'][1])"
   ]
  },
  {
   "cell_type": "code",
   "execution_count": 12,
   "id": "7440628a",
   "metadata": {},
   "outputs": [
    {
     "name": "stdout",
     "output_type": "stream",
     "text": [
      "totalItems: 53\n"
     ]
    }
   ],
   "source": [
    "print('totalItems:', results['totalItems'])"
   ]
  },
  {
   "cell_type": "code",
   "execution_count": 13,
   "id": "7e821a76",
   "metadata": {},
   "outputs": [
    {
     "name": "stdout",
     "output_type": "stream",
     "text": [
      "3\n"
     ]
    }
   ],
   "source": [
    "total_pages = math.ceil(results['totalItems'] / results['itemsPerPage'])\n",
    "print(total_pages)"
   ]
  },
  {
   "cell_type": "code",
   "execution_count": 14,
   "id": "77f7f2e8",
   "metadata": {},
   "outputs": [],
   "source": [
    "data = []"
   ]
  },
  {
   "cell_type": "code",
   "execution_count": 15,
   "id": "1d39624e",
   "metadata": {},
   "outputs": [],
   "source": [
    "start_date = '1918'\n",
    "end_date = '1963'\n",
    "search_item = 'World+War+II'\n",
    "state = 'New+York'"
   ]
  },
  {
   "cell_type": "code",
   "execution_count": 16,
   "id": "e8ded41e",
   "metadata": {},
   "outputs": [
    {
     "name": "stdout",
     "output_type": "stream",
     "text": [
      "page 1 status code: 200\n",
      "page 2 status code: 200\n",
      "page 3 status code: 200\n"
     ]
    }
   ],
   "source": [
    "for i in range(1, 4):  \n",
    "    url = (f'https://chroniclingamerica.loc.gov/search/pages/results/?state={state}&date1={start_date}&date2={end_date}&proxtext={search_item}&x=0&y=0&dateFilterType=yearRange&rows=20&searchType=basic&format=json&page={i}')  # f-string\n",
    "    response = requests.get(url)\n",
    "    raw = response.text\n",
    "    print(f'page {i} status code:', response.status_code)  # checking for errors\n",
    "    results = json.loads(raw)\n",
    "    items_ = results['items']\n",
    "    for item_ in items_:\n",
    "        row_data = {}\n",
    "        try:\n",
    "          row_data['title'] = item_['title_normal']\n",
    "        except:\n",
    "          row_data['city'] = \"none\"\n",
    "        try:\n",
    "          row_data['city'] = item_['city']\n",
    "        except:\n",
    "          row_data['city'] = \"none\"\n",
    "        try:\n",
    "          row_data['date'] = item_['date']\n",
    "        except:\n",
    "          row_data['date'] = \"none\"\n",
    "        try:\n",
    "          row_data['raw_text'] = item_['ocr_eng']\n",
    "        except:\n",
    "          row_data['raw_text'] = 'none'\n",
    "    data.append(row_data)"
   ]
  },
  {
   "cell_type": "code",
   "execution_count": 19,
   "id": "688fe2eb",
   "metadata": {},
   "outputs": [],
   "source": [
    "df = pd.DataFrame.from_dict(data)"
   ]
  },
  {
   "cell_type": "code",
   "execution_count": 23,
   "id": "d8be0074",
   "metadata": {},
   "outputs": [
    {
     "data": {
      "text/html": [
       "<div>\n",
       "<style scoped>\n",
       "    .dataframe tbody tr th:only-of-type {\n",
       "        vertical-align: middle;\n",
       "    }\n",
       "\n",
       "    .dataframe tbody tr th {\n",
       "        vertical-align: top;\n",
       "    }\n",
       "\n",
       "    .dataframe thead th {\n",
       "        text-align: right;\n",
       "    }\n",
       "</style>\n",
       "<table border=\"1\" class=\"dataframe\">\n",
       "  <thead>\n",
       "    <tr style=\"text-align: right;\">\n",
       "      <th></th>\n",
       "      <th>title</th>\n",
       "      <th>city</th>\n",
       "      <th>date</th>\n",
       "      <th>raw_text</th>\n",
       "    </tr>\n",
       "  </thead>\n",
       "  <tbody>\n",
       "    <tr>\n",
       "      <th>0</th>\n",
       "      <td>evening world.</td>\n",
       "      <td>[New York]</td>\n",
       "      <td>19221021</td>\n",
       "      <td>FAMILY SPLIT OVER HALL MARRIAGE\\nTo-Night' Wea...</td>\n",
       "    </tr>\n",
       "    <tr>\n",
       "      <th>1</th>\n",
       "      <td>sun.</td>\n",
       "      <td>[New York]</td>\n",
       "      <td>19180624</td>\n",
       "      <td>11\\nClassification of Baseball as a Non-Essent...</td>\n",
       "    </tr>\n",
       "    <tr>\n",
       "      <th>2</th>\n",
       "      <td>sun.</td>\n",
       "      <td>[New York]</td>\n",
       "      <td>19191224</td>\n",
       "      <td>16\\nRobinson Rides Breeze and\\nFALL DATE LIKEL...</td>\n",
       "    </tr>\n",
       "  </tbody>\n",
       "</table>\n",
       "</div>"
      ],
      "text/plain": [
       "            title        city      date  \\\n",
       "0  evening world.  [New York]  19221021   \n",
       "1            sun.  [New York]  19180624   \n",
       "2            sun.  [New York]  19191224   \n",
       "\n",
       "                                            raw_text  \n",
       "0  FAMILY SPLIT OVER HALL MARRIAGE\\nTo-Night' Wea...  \n",
       "1  11\\nClassification of Baseball as a Non-Essent...  \n",
       "2  16\\nRobinson Rides Breeze and\\nFALL DATE LIKEL...  "
      ]
     },
     "execution_count": 23,
     "metadata": {},
     "output_type": "execute_result"
    }
   ],
   "source": [
    "df"
   ]
  },
  {
   "cell_type": "code",
   "execution_count": 24,
   "id": "ec198598",
   "metadata": {},
   "outputs": [],
   "source": [
    "df['date']=pd.to_datetime(df['date'])"
   ]
  },
  {
   "cell_type": "code",
   "execution_count": 25,
   "id": "b1d52c41",
   "metadata": {},
   "outputs": [
    {
     "data": {
      "text/html": [
       "<div>\n",
       "<style scoped>\n",
       "    .dataframe tbody tr th:only-of-type {\n",
       "        vertical-align: middle;\n",
       "    }\n",
       "\n",
       "    .dataframe tbody tr th {\n",
       "        vertical-align: top;\n",
       "    }\n",
       "\n",
       "    .dataframe thead th {\n",
       "        text-align: right;\n",
       "    }\n",
       "</style>\n",
       "<table border=\"1\" class=\"dataframe\">\n",
       "  <thead>\n",
       "    <tr style=\"text-align: right;\">\n",
       "      <th></th>\n",
       "      <th>title</th>\n",
       "      <th>city</th>\n",
       "      <th>date</th>\n",
       "      <th>raw_text</th>\n",
       "    </tr>\n",
       "  </thead>\n",
       "  <tbody>\n",
       "    <tr>\n",
       "      <th>0</th>\n",
       "      <td>evening world.</td>\n",
       "      <td>[New York]</td>\n",
       "      <td>1922-10-21</td>\n",
       "      <td>FAMILY SPLIT OVER HALL MARRIAGE\\nTo-Night' Wea...</td>\n",
       "    </tr>\n",
       "    <tr>\n",
       "      <th>1</th>\n",
       "      <td>sun.</td>\n",
       "      <td>[New York]</td>\n",
       "      <td>1918-06-24</td>\n",
       "      <td>11\\nClassification of Baseball as a Non-Essent...</td>\n",
       "    </tr>\n",
       "    <tr>\n",
       "      <th>2</th>\n",
       "      <td>sun.</td>\n",
       "      <td>[New York]</td>\n",
       "      <td>1919-12-24</td>\n",
       "      <td>16\\nRobinson Rides Breeze and\\nFALL DATE LIKEL...</td>\n",
       "    </tr>\n",
       "  </tbody>\n",
       "</table>\n",
       "</div>"
      ],
      "text/plain": [
       "            title        city       date  \\\n",
       "0  evening world.  [New York] 1922-10-21   \n",
       "1            sun.  [New York] 1918-06-24   \n",
       "2            sun.  [New York] 1919-12-24   \n",
       "\n",
       "                                            raw_text  \n",
       "0  FAMILY SPLIT OVER HALL MARRIAGE\\nTo-Night' Wea...  \n",
       "1  11\\nClassification of Baseball as a Non-Essent...  \n",
       "2  16\\nRobinson Rides Breeze and\\nFALL DATE LIKEL...  "
      ]
     },
     "execution_count": 25,
     "metadata": {},
     "output_type": "execute_result"
    }
   ],
   "source": [
    "df"
   ]
  },
  {
   "cell_type": "code",
   "execution_count": 27,
   "id": "877263b8",
   "metadata": {},
   "outputs": [
    {
     "data": {
      "text/html": [
       "<div>\n",
       "<style scoped>\n",
       "    .dataframe tbody tr th:only-of-type {\n",
       "        vertical-align: middle;\n",
       "    }\n",
       "\n",
       "    .dataframe tbody tr th {\n",
       "        vertical-align: top;\n",
       "    }\n",
       "\n",
       "    .dataframe thead th {\n",
       "        text-align: right;\n",
       "    }\n",
       "</style>\n",
       "<table border=\"1\" class=\"dataframe\">\n",
       "  <thead>\n",
       "    <tr style=\"text-align: right;\">\n",
       "      <th></th>\n",
       "      <th>title</th>\n",
       "      <th>city</th>\n",
       "      <th>date</th>\n",
       "      <th>raw_text</th>\n",
       "    </tr>\n",
       "  </thead>\n",
       "  <tbody>\n",
       "    <tr>\n",
       "      <th>1</th>\n",
       "      <td>sun.</td>\n",
       "      <td>[New York]</td>\n",
       "      <td>1918-06-24</td>\n",
       "      <td>11\\nClassification of Baseball as a Non-Essent...</td>\n",
       "    </tr>\n",
       "    <tr>\n",
       "      <th>2</th>\n",
       "      <td>sun.</td>\n",
       "      <td>[New York]</td>\n",
       "      <td>1919-12-24</td>\n",
       "      <td>16\\nRobinson Rides Breeze and\\nFALL DATE LIKEL...</td>\n",
       "    </tr>\n",
       "    <tr>\n",
       "      <th>0</th>\n",
       "      <td>evening world.</td>\n",
       "      <td>[New York]</td>\n",
       "      <td>1922-10-21</td>\n",
       "      <td>FAMILY SPLIT OVER HALL MARRIAGE\\nTo-Night' Wea...</td>\n",
       "    </tr>\n",
       "  </tbody>\n",
       "</table>\n",
       "</div>"
      ],
      "text/plain": [
       "            title        city       date  \\\n",
       "1            sun.  [New York] 1918-06-24   \n",
       "2            sun.  [New York] 1919-12-24   \n",
       "0  evening world.  [New York] 1922-10-21   \n",
       "\n",
       "                                            raw_text  \n",
       "1  11\\nClassification of Baseball as a Non-Essent...  \n",
       "2  16\\nRobinson Rides Breeze and\\nFALL DATE LIKEL...  \n",
       "0  FAMILY SPLIT OVER HALL MARRIAGE\\nTo-Night' Wea...  "
      ]
     },
     "execution_count": 27,
     "metadata": {},
     "output_type": "execute_result"
    }
   ],
   "source": [
    "df = df.sort_values(by='date')\n",
    "df"
   ]
  },
  {
   "cell_type": "code",
   "execution_count": 30,
   "id": "79b3de09",
   "metadata": {},
   "outputs": [],
   "source": [
    "nlp = spacy.load('en_core_web_sm')\n",
    "\n",
    "def process_text(text):\n",
    "    text = text.replace('\\n', ' ')\n",
    "    doc = nlp(text)\n",
    "    tokens = [token for token in doc]\n",
    "    no_stops = [token for token in tokens if not token.is_stop]\n",
    "    no_punct = [token for token in no_stops if token.is_alpha]\n",
    "    lemmas = [token.lemma_ for token in no_punct]\n",
    "    lemmas_lower = [lemma.lower() for lemma in lemmas]\n",
    "    lemmas_string = ' '.join(lemmas_lower)\n",
    "    return lemmas_string"
   ]
  },
  {
   "cell_type": "code",
   "execution_count": 31,
   "id": "cf0810f4",
   "metadata": {},
   "outputs": [],
   "source": [
    "df['lemmas'] = df['raw_text'].apply(process_text)"
   ]
  },
  {
   "cell_type": "code",
   "execution_count": 33,
   "id": "58b82465",
   "metadata": {},
   "outputs": [],
   "source": [
    "df.to_csv(f'../Homework/{search_item}{start_date}-{end_date}.csv', index = False)"
   ]
  },
  {
   "cell_type": "code",
   "execution_count": null,
   "id": "6b0d706d",
   "metadata": {},
   "outputs": [],
   "source": []
  }
 ],
 "metadata": {
  "kernelspec": {
   "display_name": "Python 3 (ipykernel)",
   "language": "python",
   "name": "python3"
  },
  "language_info": {
   "codemirror_mode": {
    "name": "ipython",
    "version": 3
   },
   "file_extension": ".py",
   "mimetype": "text/x-python",
   "name": "python",
   "nbconvert_exporter": "python",
   "pygments_lexer": "ipython3",
   "version": "3.11.4"
  }
 },
 "nbformat": 4,
 "nbformat_minor": 5
}

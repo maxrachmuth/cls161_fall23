{
 "cells": [
  {
   "cell_type": "markdown",
   "id": "8381c401",
   "metadata": {},
   "source": [
    "## Function"
   ]
  },
  {
   "cell_type": "code",
   "execution_count": 6,
   "id": "65d8ffb8",
   "metadata": {},
   "outputs": [],
   "source": [
    "# syntax for writing a function\n",
    "def say_hello():\n",
    "    \"\"\"display a greeting\"\"\"\n",
    "    print('hello')"
   ]
  },
  {
   "cell_type": "code",
   "execution_count": 7,
   "id": "9a5620be",
   "metadata": {},
   "outputs": [
    {
     "name": "stdout",
     "output_type": "stream",
     "text": [
      "hello\n"
     ]
    }
   ],
   "source": [
    "say_hello()"
   ]
  },
  {
   "cell_type": "code",
   "execution_count": 14,
   "id": "f90c13ea",
   "metadata": {},
   "outputs": [],
   "source": [
    "def say_hello_name(name):\n",
    "    \"\"\"greet someone by name\"\"\"\n",
    "    print(f\"hello, {name}!\")"
   ]
  },
  {
   "cell_type": "code",
   "execution_count": 15,
   "id": "ae9b86b7",
   "metadata": {},
   "outputs": [
    {
     "name": "stdout",
     "output_type": "stream",
     "text": [
      "hello, Jonathan!\n",
      "hello, Naomi!\n"
     ]
    }
   ],
   "source": [
    "say_hello_name('Jonathan')\n",
    "say_hello_name('Naomi')"
   ]
  },
  {
   "cell_type": "code",
   "execution_count": 16,
   "id": "6b186a7b",
   "metadata": {},
   "outputs": [],
   "source": [
    "names = ['Caroline', 'Maddy', 'Noa', 'Mira', 'Natalie']"
   ]
  },
  {
   "cell_type": "code",
   "execution_count": 17,
   "id": "69c2046f",
   "metadata": {},
   "outputs": [
    {
     "name": "stdout",
     "output_type": "stream",
     "text": [
      "hello, Caroline!\n",
      "hello, Maddy!\n",
      "hello, Noa!\n",
      "hello, Mira!\n",
      "hello, Natalie!\n"
     ]
    }
   ],
   "source": [
    "for name in names:\n",
    "    say_hello_name(name)"
   ]
  },
  {
   "cell_type": "code",
   "execution_count": 18,
   "id": "b5eb897c",
   "metadata": {},
   "outputs": [],
   "source": [
    "def describe_author(name,genre):\n",
    "    \"\"\"describe and author by genre\"\"\"\n",
    "    print(f\"{name.title()} writes {genre}.\")"
   ]
  },
  {
   "cell_type": "code",
   "execution_count": 19,
   "id": "0424e050",
   "metadata": {},
   "outputs": [
    {
     "name": "stdout",
     "output_type": "stream",
     "text": [
      "Gibbon writes history.\n"
     ]
    }
   ],
   "source": [
    "describe_author('gibbon', 'history')"
   ]
  },
  {
   "cell_type": "code",
   "execution_count": 20,
   "id": "608777f4",
   "metadata": {},
   "outputs": [],
   "source": [
    "def format_name(first_name, last_name):\n",
    "    full_name = f\"{first_name.title()} {last_name.title()}\"\n",
    "    return full_name"
   ]
  },
  {
   "cell_type": "code",
   "execution_count": 21,
   "id": "1687e2e1",
   "metadata": {},
   "outputs": [
    {
     "data": {
      "text/plain": [
       "'Friedrich Nietzsche'"
      ]
     },
     "execution_count": 21,
     "metadata": {},
     "output_type": "execute_result"
    }
   ],
   "source": [
    "philosopher = format_name(first_name='friedrich', last_name='nietzsche')\n",
    "philosopher"
   ]
  },
  {
   "cell_type": "code",
   "execution_count": null,
   "id": "f213812f",
   "metadata": {},
   "outputs": [],
   "source": []
  }
 ],
 "metadata": {
  "kernelspec": {
   "display_name": "Python 3 (ipykernel)",
   "language": "python",
   "name": "python3"
  },
  "language_info": {
   "codemirror_mode": {
    "name": "ipython",
    "version": 3
   },
   "file_extension": ".py",
   "mimetype": "text/x-python",
   "name": "python",
   "nbconvert_exporter": "python",
   "pygments_lexer": "ipython3",
   "version": "3.11.4"
  }
 },
 "nbformat": 4,
 "nbformat_minor": 5
}

{
 "cells": [
  {
   "cell_type": "markdown",
   "id": "c6f823c4",
   "metadata": {},
   "source": [
    "## Programming Historian- Code Reuse and Modularity in Python"
   ]
  },
  {
   "cell_type": "code",
   "execution_count": 2,
   "id": "83576fd8",
   "metadata": {},
   "outputs": [
    {
     "name": "stdout",
     "output_type": "stream",
     "text": [
      "hello Everybody\n",
      "hello Programming Historian\n",
      "hello Max\n"
     ]
    }
   ],
   "source": [
    "# greet.py\n",
    "\n",
    "def greetEntity (x):\n",
    "    print(\"hello \" + x)\n",
    "\n",
    "greetEntity(\"Everybody\")\n",
    "greetEntity(\"Programming Historian\")\n",
    "greetEntity(\"Max\")"
   ]
  },
  {
   "cell_type": "code",
   "execution_count": 4,
   "id": "2aecefb7",
   "metadata": {},
   "outputs": [
    {
     "ename": "ModuleNotFoundError",
     "evalue": "No module named 'greet'",
     "output_type": "error",
     "traceback": [
      "\u001b[0;31m---------------------------------------------------------------------------\u001b[0m",
      "\u001b[0;31mModuleNotFoundError\u001b[0m                       Traceback (most recent call last)",
      "Cell \u001b[0;32mIn[4], line 1\u001b[0m\n\u001b[0;32m----> 1\u001b[0m \u001b[38;5;28;01mimport\u001b[39;00m \u001b[38;5;21;01mgreet\u001b[39;00m\n\u001b[1;32m      2\u001b[0m greet\u001b[38;5;241m.\u001b[39mgreetEntity(\u001b[38;5;124m\"\u001b[39m\u001b[38;5;124meverybody\u001b[39m\u001b[38;5;124m\"\u001b[39m)\n\u001b[1;32m      3\u001b[0m greet\u001b[38;5;241m.\u001b[39mgreetEntity(\u001b[38;5;124m\"\u001b[39m\u001b[38;5;124mprogramming historian\u001b[39m\u001b[38;5;124m\"\u001b[39m)\n",
      "\u001b[0;31mModuleNotFoundError\u001b[0m: No module named 'greet'"
     ]
    }
   ],
   "source": [
    "import greet\n",
    "greet.greetEntity(\"everybody\")\n",
    "greet.greetEntity(\"programming historian\")\n"
   ]
  },
  {
   "cell_type": "code",
   "execution_count": null,
   "id": "2ad7bc87",
   "metadata": {},
   "outputs": [],
   "source": []
  }
 ],
 "metadata": {
  "kernelspec": {
   "display_name": "Python 3 (ipykernel)",
   "language": "python",
   "name": "python3"
  },
  "language_info": {
   "codemirror_mode": {
    "name": "ipython",
    "version": 3
   },
   "file_extension": ".py",
   "mimetype": "text/x-python",
   "name": "python",
   "nbconvert_exporter": "python",
   "pygments_lexer": "ipython3",
   "version": "3.11.4"
  }
 },
 "nbformat": 4,
 "nbformat_minor": 5
}

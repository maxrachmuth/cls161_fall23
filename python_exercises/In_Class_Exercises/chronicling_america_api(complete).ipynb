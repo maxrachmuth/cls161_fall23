{
 "cells": [
  {
   "cell_type": "markdown",
   "metadata": {
    "id": "lg1_EIHEETuB"
   },
   "source": [
    "# Chronicling America API\n",
    "\n",
    "[Chronicling America](https://chroniclingamerica.loc.gov/) is a collection of digitized American newspapers dating from 1777 to 1963 provided by the Library of Congress. The collection offers an application programming interface (API) which allows users to easily harvest large amounts of data.\n",
    "\n",
    "In this notebook we will search Chronicling America's API, gather the search results into a Pandas dataframe, clean the data, and save it as a csv file."
   ]
  },
  {
   "cell_type": "code",
   "execution_count": 1,
   "metadata": {
    "id": "q0-jsD68ELup"
   },
   "outputs": [],
   "source": [
    "# imports\n",
    "import requests\n",
    "import json\n",
    "import math\n",
    "import pandas as pd\n",
    "import spacy"
   ]
  },
  {
   "cell_type": "markdown",
   "metadata": {
    "id": "XQFGCgdRHpCb"
   },
   "source": [
    "##Chronicling America URLs\n",
    "\n",
    "If I search for a term, \"abolition\" for example, on https://chroniclingamerica.loc.gov/ I will get a results url that looks like this:\n",
    "\n",
    "https://chroniclingamerica.loc.gov/search/pages/results/?state=&date1=1770&date2=1963&proxtext=abolition&x=12&y=18&dateFilterType=yearRange&rows=20&searchType=basic\n",
    "\n",
    "These search results are human actionable, but not machine actionable. Chronicling America as an API that allows me to get machine actionable results if I add `&format=json`:\n",
    "\n",
    "https://chroniclingamerica.loc.gov/search/pages/results/?state=&date1=1770&date2=1963&proxtext=abolition&x=12&y=18&dateFilterType=yearRange&rows=20&searchType=basic&format=json\n",
    "\n",
    "If we examine the url we see that there are a number of search parameters:\n",
    "- `state=`\n",
    "- `date1=1770`\n",
    "- `date2=1963`\n",
    "- `proxtext=abolition`\n",
    "\n",
    "We can edit these values to modify our search. I change the parameters to limit our search:\n",
    "\n",
    "https://chroniclingamerica.loc.gov/search/pages/results/?state=Massachusetts&date1=1770&date2=1865&proxtext=prohibition&x=20&y=8&dateFilterType=yearRange&rows=20&searchType=basic&format=json"
   ]
  },
  {
   "cell_type": "markdown",
   "metadata": {
    "id": "8x69VEy1KCpP"
   },
   "source": [
    "Now I can use the `requests` library to retrieve data from the url."
   ]
  },
  {
   "cell_type": "code",
   "execution_count": 2,
   "metadata": {
    "id": "uoseSCpoEghd"
   },
   "outputs": [],
   "source": [
    "# initial search\n",
    "url = 'https://chroniclingamerica.loc.gov/search/pages/results/?state=Massachusetts&date1=1770&date2=1865&proxtext=prohibition&x=20&y=8&dateFilterType=yearRange&rows=20&searchType=basic&format=json'\n",
    "response = requests.get(url)\n",
    "raw = response.text\n",
    "results = json.loads(raw)"
   ]
  },
  {
   "cell_type": "markdown",
   "metadata": {
    "id": "g-IV4qxIKlXW"
   },
   "source": [
    "## Explore search results"
   ]
  },
  {
   "cell_type": "code",
   "execution_count": 3,
   "metadata": {
    "id": "Pg-9a2pIKTnO"
   },
   "outputs": [
    {
     "data": {
      "text/plain": [
       "dict_keys(['totalItems', 'endIndex', 'startIndex', 'itemsPerPage', 'items'])"
      ]
     },
     "execution_count": 3,
     "metadata": {},
     "output_type": "execute_result"
    }
   ],
   "source": [
    "results.keys()"
   ]
  },
  {
   "cell_type": "code",
   "execution_count": 4,
   "metadata": {
    "id": "jB1fHVUTEcLl"
   },
   "outputs": [
    {
     "name": "stdout",
     "output_type": "stream",
     "text": [
      "<class 'list'>\n"
     ]
    }
   ],
   "source": [
    "# explore items\n",
    "print(type(results['items']))"
   ]
  },
  {
   "cell_type": "code",
   "execution_count": 5,
   "metadata": {
    "id": "LduCA0d1Etzn"
   },
   "outputs": [
    {
     "name": "stdout",
     "output_type": "stream",
     "text": [
      "{'sequence': 2, 'county': ['Worcester'], 'edition': None, 'frequency': 'Daily (except Sunday)', 'id': '/lccn/sn83021203/1850-03-02/ed-1/seq-2/', 'subject': ['Massachusetts--Worcester.--fast--(OCoLC)fst01207904', 'Worcester (Mass.)--Newspapers.'], 'city': ['Worcester'], 'date': '18500302', 'title': 'The Daily spy. [volume]', 'end_year': 1850, 'note': ['Editor: John Milton Earle.', 'Index: Rice, F.P. Worcester newspaper index, 1783-1848.', 'Weekly ed.: Massachusetts spy (Worcester, Mass. : 1831).'], 'state': ['Massachusetts'], 'section_label': '', 'type': 'page', 'place_of_publication': 'Worcester [Mass.]', 'start_year': 1845, 'edition_label': '', 'publisher': 'John Milton Earle', 'language': ['English'], 'alt_title': [], 'lccn': 'sn83021203', 'country': 'Massachusetts', 'ocr_eng': 'THE_DAILY_SPY.\\nWORCESTER.\\n• SATURDAY, MARCH 2> 1550.\\n• s=^^.^=====^=======^:— — i\\nNomination for Coßgren.\\nIV. District—JOlLSimZFKEY of Cambridge\\nFREE SOIL RALLY.\\nThe Free Democracy of Worcester will have a\\nGrand Rally at the City Hall, THIS EVENING,\\nMarch 2d, at 7 1-2 o’clock, to complete their organ\\nization and make all necessary arrangements for\\ngetting out a full vote on Monday.\\nMunicipal Election ...Monday, March 4.\\nFOR MAYOR,\\nHENRY CHAPIN.\\nFOR ALDERMEN, ‘\\nWard....I— GEORGE W. RUSSELL.\\n“ lI—WARREN LAZELL..\\n“ III—WILLIAM DICKINSON.\\n“ IV—JOSEPH PRATT.\\n“ V—DAVID WOODWARD.\\n“ VI—CHARLES WHITE.\\n• ! VII—ANTHONY CHASE.\\n•• VIII—JONAS M. MILES.\\nPLACES OF WARD MEETINGS.\\nWARD I,—-will meet in the north lower or basement\\nroom of the Central School House, on the west side of Main\\nStreet.\\nWARD II, — will meet in the large School House on ti e \\'\\neast side of Summer Street.\\nWARD 111, — will meet in the south’lower or base\\nment room of the Central School House, on the west side\\nof Main Street.\\nWARD IV, — will meet in the east lower City Hall, or\\nthe Police Court Room.\\nWARD V,— will meet m Fenwick Hall, on Temple St.\\nWARD Vl, — will meet in the upper City Hall.\\nWARD VII:— will meet in the School House, comer\\nof Oxford and Pleasant Streets.\\nWARD VIII, — will meet in the Court Room of the\\nBrick Court House.\\nThe Poll shall be opened at ten o’clock A. M. and shall be\\nclosed at four o’clock P. M. in the election of all officers ex\\ncept Ward officeis.\\nSunday Evening Lecture. Services at th e\\nCity Hall will commence to-morrow (Sunday) evening,\\nat 7 o’clock. Subject—“the Holy Spirit”; What is\\nit! How is it I\\nFire in Harvard. The store of Reuben Whit\\ncomb, in Harvard, was burnt on Thursday morning.\\nThere was insurance on the building of S4OO, at the\\nWorcester Mutual Office, and SISOO on the stock, at\\nthe Merchants’ & Farmers’ Office, of this city.\\nThe London Quarterly in the American re\\nprint, has been received by E. N. Tucker. The con\\ntents in this numb\\' r are:—l. Natural History of Man.\\n11, Clergy Relief Bill. 111. Agriculture; Draining.\\nIV. Lord Clancurry and Mr. John O’Connell. V.\\nFree Trade. VI. Venice. VII. Lord Clarendon and\\nOrange Institution.\\nIce.—The winter has been so mild, that the great\\nice establishments in the vicinity which usually export\\nsuch vast amounts, have trot been able yet, to obtain suf\\nficient for (he home demand. Some of the dealers have\\ngone back thirty or forty miles on the Fitchburg road\\nto add to their stock.\\nA fire took in Springfield, on Thursday night,\\nia the three story brick building adjoing the Springfield\\nBank, but was soon got under. The millinery stock of\\nGardner Adams was somewhat damage by die water.\\nIt was insured at the Merchants’ and Farmers’ office in\\nthis city.\\nAmbition. Every man, whatever his avocation,\\nshould be ambitious to excel in some particular branch\\nof business. In the matter of furnishing the million\\nwith Clothing at cheap prices, Mr. Si mm ms, of Oak\\nHall Boston, has outdone all others by his strict adher\\nance to “large sales and small profits.”\\nicZT\\' Fhirty-five more Hungarian refugees, includ\\ning one colonel, four majors seven captains and five\\nlieutenants, arrived at Naw York on Sunday, in the\\nMountstuart Elpbin Stone, from Glasgow. Amon\"\\nthe number was George Pomurtz, chief of police.—\\nThe whole number ofHungarian refugees now in New\\nYork is sixty-six.\\nAlvahado Hunter and Com. Perry.\\nWe learn that Captain Charles G. Hunter, of the\\nUnited States navy, better known as “Alvarado\\nHunter,” who now is in Washington, is to bephe\\ned under arrest, by request ofCoin. M. C. Perry for\\na certain letter written to him by Capt. H. relative to\\n(Com. P.’s) official report of Iha capture ofAlvara\\ndo.-JV: Y. Herald.\\nWisconsin. The Union and Anti-Slavery re\\nsolutions, which passed the Wisconsin Senate by a\\nnearly unanimous vote, were amended in the Assem\\nbly and made still more strongly Anti-Slavery. The\\nSennte refused to concur; whereupon a Committee\\nof Conference was appointed. The Committee made\\na report,, with which the Senate concurred, but in\\nthe Assembly the vote on agreeing stood 28 to 29,\\nand thus by a mere technicality—though dreided\\nUnion and Anti-Slavery Resolutions had passed both\\nhouses by nearly unanimous votes—the two branches\\ndid not concur in the same form of expression.\\n53T Governor Seward made a capital hit the oth\\ner day in his reply to Mr. Rusk, a Texas Senator.—\\n“Texas,” said Rusk, “had extended herself to th :\\nRio Grande without the aid of the Legislature of\\nNew-York. The aid which it luuLgiven during the\\nlast two or three years was on t’other side.” “But\\nfor the votes of the State of New-York,” replied\\nSeward, “the State of Texas would not now h ive\\nbeen in the Union at all, either on this side of the\\nRio Grande or on the other.”— Y. F. Tribune.\\nFemale Doctors. Two young ladies, whose\\nnames are gvien as Miss ALnira Frohn mid Miss\\nMary Ward, have become regular students in the\\nmedical department of the Memphis Initiate. If\\nthey are only pretty, what a practice they will hav •\\namong the sick young men!— Boston Post.\\nA Hard Question. A morning paper, re\\nmarking upon a rumor that a convention is about to\\nbe called in the North, in opposition to th\" recent\\nassemblage in the South, pertinently inquires why\\npeople cannot stay at home and mind their own\\nbusiness. Echo answers. Why?—Com. A Icrrliser\\nCongressional L’roceenings.\\nThursday, Feb. 28.\\nSKNAfki Hon, John Bell, of Tennessee, sub\\nmitted a plan for the settlement of the Slavery ques\\ntion, which provides for the immediate admission of\\nCalifornia, and the erection, (with the Consent of,\\nTexas) of a Slave State out of that portion of the I\\nTerritory of Texas lying between the Trinity and |\\nColorado Rivers—the cession to the United States of\\nthe unappropriated land south of 34, and between :\\nthe Colorado and Rio Grande, (said territory ulti- I\\nmately to form a Slave Slate,-) aud the cession to the\\nUnited States of the jurisdiction over all the territory I\\nof Texas lying north of 34.\\nMr. Bell made a few calm and dignified remarks\\nin support of his proposition, in the course of which j\\nhe repudiated the Nashville Convention, and said he\\nwas willing to trust the question cf Slavery in the !\\nDistrict of Columbia, and the apprehension of fugi\\ntive Slaves, to the good faith of Congress. Ue\\nseemed to think the South would be likely to resist\\nany flagrant violation of their constitutiotr.il rights,\\nbut he did not anticipate any such violation on the\\npart of the North. Mr. Bell’s resolutions were or- \\\\\\ndered to be printed.\\nMr. Butler asked that Mr. Calhoun’s views in re- \\'\\ngard to Mr. Clay’s compromise may be read to the ;\\nSennte on Monday.\\nThe consideration of the California Message was\\npostponed till Monday.\\nMr Walker of Wisconsin submitted an amend\\nment to Mr Clay’s resolutions, recognizing more\\ndistinctly the fact that Slavery has been abolished in\\nthe territory obtained from Mexico, and can only be\\nintroduced there by positive statute.\\nMr Rusk concluded his speech against the Wil\\nmot Proviso.\\nIn the House Mr Doty\\'s bill for the admission of\\nCalifornia was ordered to be printed by general con\\nsent. The House had np the President’s California\\nMessage in Committee of the Whole, and was ad\\ndressed by Messrs Conrad of La. and Parker ofVa.\\nMr Conrad admitted that California was justifiable,\\nunder the circumstances, in forming a State Govern\\nment; and, as part of a scheme for settling the Slave\\nquestion, he would vote for her admission, but not\\nas an isolated proposition.\\nMASSACHUSETTS LEGISLATURE.\\nFriday, March 1.\\nPassed to Enacted, the same bills, &c., which passed\\nthe House yesterday.\\nT he Re|wrts and Resolves on the subject of slavery\\n•were taken from the table and recommitted in concur-\\nrence.\\nI hree Bills and one resolve passed to be engrossed.\\nI be Resolve authorising the Board of Education to\\nappoint agents to visit the school districts, was discui\\nsed by Messrs. Merrick, Walker and Upham, and then\\nordered to a third reading.\\nMr Upham, from the Select Committee, reported the\\nfollowing inscription to be placed on the block of granite\\nfor the Washington Monument: “Massachusetts. Our\\ncountry is safe while the name of Washington is rever\\ned. Laid on the table and ordered to lie printed.\\nHouse. Passed to be enacted. Bills, authorizing\\nGardner Colby and Prentiss Hobbs, severally, to ex\\ntend their wharves. Resolves, concerning the State\\nNormal School; in favor of the town of Richmond.\\nPetitions, &c., were presented and referred; of the\\nMayor of Boston for a law requiring the Eastern Rail\\nroad Company to provide for the proper security of hu\\nman life; of Otis Sweet, Jr. and others for a repeal of\\nthe insolvent laws; of Joel Wilder of Worcester, and\\nothers for an additional lien law ; of John Hecktor and\\nothers, survivors of the Hassanatnisco Indians, for the\\nlands and funds belonging to said tribe.\\nOrder adopted. On motion of Mr. Cortliell ot Ab\\nington, that the Committee on Probate and Chancery\\nConsider the expediency of raising, revising and equal\\nising the salaries of Judges of Probate throughout the\\nCommonwealth.\\nSundry reports of committees were received, one bv\\nMr. Simonds of Athol, Committee on Probate and\\nChancery, same committee of a resolve on the petition\\nof Bridget Henry and another. Also, leave to with\\ndraw on the petition of Margaret Henry.\\nThe bill to prevent the use of fraudulent marks and\\ns tamps, was again debated at much length by Messrs.\\nPliinpton\\'of Boston, and Waters of Millbury in opposi\\ntion, and Messrs Codman and Kimball of Boston, and\\nEarle of Worcester, in its favor. Finally the bill was\\nwas ordered to a third reading.\\nState of New Mexico. The Sen I a Ee JVew\\nMexico of the Bth of December, contains a spirited\\naddress to the people of that Territory, in favor ol\\nthe formation ofa State Constitution and Government\\nThe Address starts out with the assertion that the\\npresent apology for a civil Government in New-Mex\\nico is an intolerable nuisance, and ought not to be\\ntolerated. The Address contends that it is hardly\\nprobable that Congress will grant a Territorial Gov\\nernment for New-Mexico, and that such Government\\nif established, would not meet the wants and\\nskies of the people of that disolated country It also\\nargues with much force, that unless the people form\\na State Government their Territory is in imminent\\ndanger of being swallowed up by the rapacious maw\\nof lexas. Deseret and California, according to the\\nAddress, are also disposed to crowd New-Mexico.\\nBody Found. The nody of David MeCartney\\nlately n carriage smith of Boston, was found dead\\nyesterday morninggon Pine Island, Roxbury having\\napparently floated ashore. It has been ascertained\\nthat the deceased left his home early in the month of\\nDecember last, after avowing his intention to destroy\\nhimself, since which time nothing had jbeen heard\\nfrom him. Coroner Adams held an inquest on the\\nbody. The unwarrantable rumor which prevailed\\nto some extent last evening, that the bodv of Dr\\nParkman had been found on Pine Island, originated\\nfrom the finding of the above named body. °\\nA Ivcrtiser.\\n, A f E : rBI I’KD Body. A subject which had\\nbeen buried five or six years, was taken up a few\\nJ : \\'ys smee, says the Houston (Miss.) Republican, of\\ntlic _<>. .1 ult., for the purpose of removing to n differ\\nent location, and found in a high state of p trifK !.\\n1. n. It required the strength of six or eight men to\\nraise lhe cofhn from the vault—this caused them to\\nopen it, to discover the cause of the weight- wh-n\\nto their suprise, they found it to contain a form of\\nstone. With the exception of the fingers, part of\\none of the feet, mid a small spot under tho position\\nof the hands, which had decayed before petrifaction\\nhad taken place, the body was apparently a solid\\nstone. This circumstance occurred in this conntv\\nseven or eight miles north of this place, and pre\\nsents a problem for scientific solution. 1\\nIhe difliulty between Senator Jefferson Davis\\nand Col. Bitsell, of the house, has been nmicably\\nsettled through the intercession of President Taylor.\\nTHE. CONVENTION.\\nThe following Address and Resolutions\\nwere lead before the Faneuil Hull Convention by\\nR. H. Dana, Esq :\\n1 > the Senators and Representatives of M.usachascUs in\\nthe Congress of the United States\\nAs Citizens of Massachusetts, assembled in Faneuil\\nHall, representing thousands in all parts of the Com\\nmouwealth, we take it upon ourselves to address you\\nupon the great question about to be decided by Con\\ngress and by your votes. The magnitude of the\\nquestion, the precedents of three generations, the\\ngenius ot republican institutions, all assure us of our\\nright to address you, from this place and in this man\\nner, and warrant us in looking for a respectful con\\nsideration at your hands.\\nBut before we utter a word on the great subject of\\nthe present issue, justice to our cause requires that\\nwe relieve ourselves from certain imputations indus\\ntriously circulated against us. As defenders of the\\nI‘ ree Soil doctrine, we are slanderously reported\\nto be disumonists, agitators, fanatics; and it is one\\nof the tricks of the times in politics to set oft’the Free\\nSoil party of the North, as eqivalent to the pro-sla\\nvery disuniouists of the South. If this were so, we\\nshould not deserve attention from meh sworn to sup\\nport the Constitution. But so far is it from being\\ntrue, that we assert now, in the most solemn man\\nlier, our determined allegiance to the Constitution\\nof the United States. We assure you, and beg you\\nto assure our brethren in Congress, Southern as well\\nas Northern, that whether victorious or defeated in\\nthis issue, we mean to sustain the Union and the con\\nstitution thereof. Wa ask you to assure the Chief\\nMagistrate of the Union, and all the heads of depart\\nments, that to no citizens of the Republic more than\\nto the Free Soil men of Massachusetts, can they look\\nfor faithful support in all proper and legal measures\\nfor maintaining the integrity of the United States.\\nIt is under the Constitution, and within the Union,\\nthat we mean to contend to the last against the ex\\ntension of Slavery. Nor do we dream, nor have we\\never dreamed ot interfering with Slavery in the States.\\nWc understand as perfectly as Mr. Calhoun himself,\\nthat Congress has no more right to interfere with the\\ndomestic institutions of South Carolina, than to inter\\nfere with the domestic institutions of Massachusetts.\\nWe are simply the defenders, in this crisis, of the\\ntime-honored,historical, constitutional principle hand\\ned down from our fathers—-the principle of the pro\\nhibition ofSlavery in the territories, as the only means\\nof securing the end of “No new slave States, no new\\nslave territories.”\\nBear with us a moment, while we recapitulate the\\nhistory of this maxim, to draw from it lessons and\\nwarnings for the exigency of the present hour.\\nWe have been told by our fathers, it is cur fami\\nliar learning in Massachusetts, no one of your number\\ndoubts, that when the confederation and constitution\\nwere formed, when the great concessions were made\\nto the slave States, it was upon the understanding\\nthat there were to be no new slave States, no new\\nslave territory. Io ensure this result, the ordinance\\not 1787 was passed prohibiting slavery forever in all\\nthe territories of the United States. T hese territories\\nall lay north of the Ohio river; all in the latitude of\\nthe free States. Why was a prohibition necessary I\\nOur aucesters knew that thecupidity of slave dealers,\\nthe force of habit and prejudice with southern men,\\nthe desire to. increase the slave market, and to add\\nto the weight of the slave States in the Union, would\\nsubject the territories to at least the chance ofbeiii\"\\noverrun with slavery.\\nTimothy Pickering, writing to Rufus King, on the\\nBth of March 1785, speaking of the failure to carry\\nthe prohibition when first attempted, in 1784, says,\\n“Congress once made this important declaration—\\n-1 hat all men are equal? that they are endowed, by\\ntheir creator, with certain inalienable rights; that\\namong these are life, liberty, and the pursuit of hap\\npiness; and these truths were held tobj self-evident.’\\nT hese great truths were echoed through the United\\nStates. Nevertheless, a proposition for preventing a\\nviolation of these truths, in a country yet unsettled,\\nand from which such violence might easily have\\nbeen excluded, did not obtain ! What pretence (ar\\ngument there could be none) could bo ottered for its\\nrejection ? 1 should, indeed, have objected to the\\nperiod proposed (the years 1800) for the exclusion\\nofslavery; for the admission of It for a day or an\\nhour ought to have been forbidder. It will be infin\\nitely easier to prevent the evil at frat, than to eradi\\ncate or check it in any future time. How would’\\nCongress wish the New States to be settled? byslaves\\nor by freemen ? To suffer the continuance of slaves\\ntill they can gradually be emancipated, in States al\\nready overrun with them, may be pardonable, because\\nunavoidable, without hazarding great evils: but to in\\ntroduce them into countries were none now exist\\ncountries which have been talked of—which we have\\nboasted of, as asylums to the oppressed of the earth\\n—can never be forgiven.— For God’s sake then let\\none more effbit be made to prevent so terrible a cal\\namity.”\\nCharles Thompson, the distinguished Secretary of\\nCongress, in a letter to Judge Peters,about the same\\ntune, says, “now, it seems, the measures necessary\\nto be taken io render useful the cessions and purchases\\nare to be obstructed by the men of the South,because\\nthose of the east and north wish to keep Slavery out\\nof the New States. . . . Sure it would be unpardon\\nable in Congress, in erecting New States, not to\\nguard against the introduction ofSlavery, which has\\na direct tendency to the corruption of manners and\\nof every principle of morality and] piety.”\\nThus we see that even in the last century the\\nprinciple of prohibition began to meet with opposition\\nIrom the South, and it was insisted upon by the whole\\nNortli, with the aid of the greatest and best men of\\nthe ..outh, as the only sure mode of preventing the\\nextension of slavery. Here were the germs of the\\ngreat slave-extension party which now embraces al\\nmost the entire South.\\nHistory has shown that the precautions taken bv\\nour ancesters were not vain. In spite of the prohi\\nbition, repeated attempts were made to introduce\\n‘r* s-f Yi\\'l\" 10 aaJ was petitioned to\\ni> the r ord, \" a ™ e > n .\" d « of no less a\\nMr 11 ’\"1 f . ,e . nera, ] Hu IrrH™. 1 rrH ™. and but for the aid which\\nMr. Randolph and other Southern men gave to Hie\\nNorth, the attempt might have succeeded. Noth-\\nNLTJt 7 >Ut ‘t\"* prohibit \\'on, saved these\\nwth Ht S fro,n ’\"V 611 ’ 1 - a lon K and fearful struggle\\nwith the demon of slavery. History shows that dm\\nintroduction of Slavery into new Countries is not pre\\nceded by legislative insfttution. Slavery, like ,/ther\\nevils has a permissive growth. Occupation first, ami\\nrecognition afterwards, Lthe hkto y of\\nslavery the world over. 1\\nNothing but prohibition satisfied our ancestors f, lr\\nanother reason. They knew that if the\\nwant ky - ‘7 occu P ! ‘ ntl, of ‘he lands the lands\\nwould be occupied innart bv Sl-ivo k-i i • ■\\ntheir slaves and the question might be decided sgXst\\nfreedom Ifso, they could not afterwards refuse to\\nreceive a State which had recognized Slavery The .\\na. now, the doctrine of the prohibition of Sl.fvS’\\nand the maxim “no more Slav* States” inn ; I . r ’\\ncal. If Congress doos not prohibit Slavery ,| le c\\'m\\nnot make it the ground of refusing adnffiUm ,‘f a\\nState. It would be a fraud and a mockery i„ | ()llV o\\nhe question to be settled by the people 0 / t h“\\ntones, and then refuse them admission into the Union,\\nif they did not settle it in our favor.\\nWe cannot depict the value of this ordinance in\\n: colors half so strong as those in which they have been\\nI painted by an illustrious Senator of your number.\\nI hat instrument was drawn by Nathan Dane, than\\nns now, a citizen of Massachusetts. It fixed forever\\nthe character, of the population in the vast regions\\nnorth west of the Ohio, ,by excluding from them in\\nvoluntary servitude. It impressed on the soil itself,\\nwhile it was yet a wilderness, an incapacity to bear\\nup any other than freemen. It laid the interdict\\nagainst personal servitude, in original compact, not\\ni \\'‘ oC P er *han all local law, but deeper, also, than\\nall local constitutions.”\\ntor thirty years the doctrine of prohibition was\\nshe established, recognized law of the Republic. In\\n1820, with a second generation, the subject came up\\na second time, on the occasion of the admission of\\nMissouri. Again the North asserted the right and\\nduty of prohibition. lii nearly every northern\\n> tate, resolutions passed the Legislatures in its fa\\nvor. Ihe address and resolutions cf our own State,\\nreported by that high minded and just man, Leverett\\n». altonstall, contain the essence of the Free Soil\\nprinciples ofihe present day. In the most decided man\\nner they repudiate a compromise, and insist on the\\nduty of positive prohibition. Wc earnestly com\\nmend them to any of your number who may be hesi-\\nJatmg m his adhesion to the same doctrine now.\\nrhe report says—“ After all the consideration your\\ncommittee have been able to bestow on this momen\\ntous subject, they cannot but express the ardent\\nhope that Congress will interpose to prevent the\\nfurther extension of slavery into Missouri, because\\nit is within their constitutional power, and because\\nit is demanded by humanity’, sound policy, and the\\nprosperity and happiness Oft he Slates to be erected,\\nas well as the common welfare of the United States.”\\n“If, as your committee think, the constitutional right\\nof Gongri ss to interpose, is contained in the\\nand lias been practically settled, it might have been ex\\npected that on the expediency of the proposed restric\\ntion there could have been but one opinion in the Unit\\ned States. * * * * ♦\\nI he restriction is demanded by the honor of our coim\\n‘D’; . * * As connected with the\\nrights of humanity, this question swells into one of im\\nmense magnitude. In this view, no subject so interest\\ning ever claimed our attention. * * * Should\\nthe present attempt To limit slavery lie ineffectual, the\\nhopes of wise and benevolent men in all pans of our\\ncountry, thal at some future time this evil might be ex\\ntirpated, must be abandoned. * ♦ ♦\\nIndependent of any right as a member of this confedera\\ncy, this CommoaHoalth has adeep interest in the estab\\nlishment of the principles of natural and civil liberty,\\nand in the honor, prosperity and happiness of every\\npart of the nation. It niay justly be expected that Mas\\nsachusetts, which was among the first to extend the\\nblessings of liberty and equal rights to all her inhabit\\nants, would now lift her voice, and use ail her influence\\nto prevent the extension and perpetuity of slavery. Nor\\nda your committee find any reason fur our silence in the cx\\ntraxjrdinaiy manner in which the question has been brought\\nbefore. Congress, by connecting it with the act for the admis\\nsion of Maine into the Union, when no reason whatever is\\nknown to exist against thut measure. 9\\nThe chief resolution was : “Resolced, That it is\\nthe duty of Congress to exercise this power [prohibi\\ntion of slavery] on the admission of all new States\\ninto the Union, beyond the limits of the original tor\\nntory.”\\nMeetings were held in the chief towns of the North,\\nand almost everywhere in Massachusetts to repudi\\nate any compromise. At Boston on December 3d,\\n1819, a nieetmg was held in the State House, with\\nout distinction of party, and embracing the leaders\\nof both sides. That meeting, in its objects,was pre\\ncisely like that now assembled. A large committee\\nwas appointed to prepare resolutions. Of this com\\nmittee, William Eustis, afterwards Governor of Mas\\nsachusetts, was chairman. With him were associa\\nted John Phillips, at that time President of the Sen\\nate of Massachusetts, Timothy Bigelow, Speaker of\\nthe House of Representative, Wiiliain’Uray, Henry-\\nDearborn, Josiah Quincy, Daniel Webster, William\\nWard of Medford,William Prescott, Thomas H. Per\\nkins, Stephen White, Benjamin Pickman, William\\nSullivan, George Blake, David Cummings, Janies\\nSavage, John Gallison, James T. Austin, and Henry\\nOrne. A committee 11101$ calculated to inspire the\\nconfidence of all sides could not have been appointed.\\nNumerous as were its members, they were all meii\\nof mark, high in the confidence and affections of their\\n\\' country. This committee reported the following re\\nsolutions which were adopted by the meeting : °\\n“Resolved, As the opinion of this meeting,\\'that the\\nCongress of the United States possess the constitutional\\npower, upon the admission of any new State created be\\nyond the limits of the original territory of the United\\nEstates, to make the prohibition of the further extension\\not slavery, or involuntary servitude, in such new State,\\na condition of its admission.\\n“ Resolved, That in the opinion of this meeting it is\\njust and expedient that this power should be exercised\\nby Congress upon the admission of all new States, creat\\ned beyond the original limits of the United Suites.”\\nThe meeting in Boston was followed by one in\\nSalem, which was called, according to the terms of\\nthe notice, “ to consider whether the immense region\\nof country extending from the Mississippi to the Pa\\ncific Ocean is destined to betlie abode of Happiness\\nIndependence and Freedom, or the wide prison of\\nmisery and slavery. Resolutions against the ad\\nmission of any slave state, were passed here, being\\nsupported by Benjamin T. Pickman, Andrew Dun\\nlap and Judge Story. In the meeting at Worcester\\nSolomon Strong and Levi Lincoln acted a prominent\\npart. Resolutions were passed here “ earnestly re\\nquesting their representatives in Congress to oppose\\nthe admission of any new slave State.”\\nIn an article written by the present respected Chief\\nJustice of our Statg, in the North American Review\\nthe same ground was taken, and the danger of set\\ntling the question in any other wav than by Prohibi\\ntion, presented, with all the force of truth and earn\\nestness. “ When we think,” says he, “of these\\nmomentous consequences, we feet a solemnity of\\nmind, before which all party questions, all the sophis\\ntry which lively talents can exert in any cause, sink\\nmto the dust; and if it be not too late, we would\\neven now most earnestly implore Heaven to send that\\nsame solemnity into the minds of all, whose voices\\nare to settle this mighty question, it is with the\\nmost unaffected earnestness that we declare our\\nopinion, that the day on which the Missouri question\\nis decided in Congress, will |, e the most eventful dnv\\nin our history.” \\'\\n. With such feelings nt the North, with a majority\\nm Congress, with the whole civilized world on her\\nside, with precedent, usage, justice, policy, all in\\nher favor, why was the North defeated ? Well may\\nit be a matter of wonder and mortification 1 The\\nstory is too dear a lesson and warning for us in the\\npresent crisis to be passed over. The South then, as\\nnow, threatened dissolution. Then, as now, stniid-\\n! n g in unbroken phalanx, she threatened proscription\\nin National politics, to all those who insisted on the\\ninterdiction of slavery. Then, ns now, she seized\\nupon an accidental advantage, und refused to admit\\nMaine into the Union, ns she now does California,\\nexcept on terms of compromise. She terrified the\\ntmnd she addressid the interested and ambitious,\\nthe indiflerent and pusillanimous yielded of course,\\nand the cause of freedom was defeated.\\nIn consequence of thia cojnpromße, camo five\\nS ave States mto the Union. By this compromise,\\nthe precedent of prohibition was broken in upon. Bv\\nthis compromise, a precedent of submission by the\\nNort hiwas estabhshed. From that day the taunt of\\nJohn Randolph became true—“ The South governs\\ntue North; s.ie governs her by her white slaves”\\nBut another and not the worse consequence cf this\\ncompromise was that it established a sectional and\\ngeographical division in the policy of the country.\\nAnd be it known unto all men, that if the evil of a\\ngeographical division in politics has come upon the\\n‘he si\" lies not at the door of the friends of\\n- ree Soil. If the North had stood linn then, if the\\ndoctrine of prohibition had been enforced, there\\nwould have, been free States at the South-west, as\\nwell as at the North-east, and we should have heard\\nno more of south and North, on the slave question.\\nAow, as then, >1 our principle is carried out, and sla\\nvery is prohibited in all the Mexican acquisitions\\nmore will be done than by any other course, to break\\nuj> the umfonmty of the geogi aghica) division.\\nBut we cannot forget that this triumph of slavery\\nlAOuld not have been obtained but for the aid of\\nNorthern votes, New England votes,—it is with deen\\nmort.ficat.on we must add-of two MassachuS\\nvotes, one of which was from Boston. When we\\ncontemplate the fatal effects of this defeat upon the\\ncountry, upon the cause of liberty; when we see its\\ndark outline on the page of history, it is little conso\\nlation to know that the men who so betrayed their\\ntrust, were made to feel the naii ful mu ■ ’\\na withdrawal of public confidence, and\\nalty of political death. And now, as then, if it shall\\nbe the misfortune of Massachusetts to furnish the one\\nor the two votes necessary for the defeat of our cher-\\nXilH Pr n,7 P e ’ . a . sm ‘. ,lar , act of J u s‘ condemnation\\n\\\\ 11 be httle saßslaction for a principle abandoned,\\nand the freedom of vast territories periled, if not lost.\\nAfter a lapse of another period of thirty years a\\nihird generation is called upon to meet this issue.\\nShad he ancient doctrine of Prohibition be enforced,\\nor shall n be abandoned ?\\nIt is not for us to argue with you for its constitu\\n.’ty- . . Eacll uuo °1 your numberhas declared his\\nbelief in this, and from some of your number have\\nproceeded arguments in its favor which we should\\nnot attempt to rival. Hitherto, you have all profess-\\nW H ra ‘ he nec « si \\'y u»d duty of prohibition.\\n\\\\V ell did Mr Otis say, in his letter to the people of\\nMassachusetts, of October, 1848-“! he nick-named\\nY \\'lmot Proviso, ’“ is nothing more or less than the\\nold Missouri question revived. On that occasion the\\nr reeboil party began, and it has ever since existed.”\\nVV c renounce all claim to being inventors or discov\\n“7-0,\" e slm P , y maintain the principle established\\niUo 87 ’ c ° nte 7 ed f ° r by al,nost the eu,ire Nor ‘h m\\n1820, professed up to a late hour by the northern\\nsection of the party of which you are members, pro\\nclaimed again and again, in the most solemn manner,\\nby the Legislature of Massachusetts, and by the con\\nventions of the Whig party in this State.\\nIn 1840, Massachusetts resolved “that no new\\nState ought to be admitted into the Union, whose\\nconstitution shall tolerate Slavery.” In 1845 she\\nresolved:— ’\\n„ ?. rl \\'p ?° te, \\' r,tol y hereafter applying to be admitted\\nto the Union, as a State, should be admitted without a\\ncondition that domestic slavery should be utterly extin\\ngumhed wuhin .ts lenders, and Massa. lmsetts denies\\nthe validity of any compromise whatsoever, that may have\\nbeen, or that hereafter may be, entered into by persons in\\nthe government of the Union, intended to prelude the\\nfuture mpl, cation of such a condition by the people acting\\nthrough their representatives in Congress of the United\\n& LtllCS •\\nIn 1847, our Legislature re-affirm this doctrine,\\nQDu\\n“in behalf of the people of this Commonwealth, do\\nhereby solemnly protest against the acquisition of any\\nadditional territory, withi.ut an express provision bu Con\\ngress, that there shall be neither slaveiy nor invoCary\\nservitude in such territory, otherwise than for the pun\\nishment of crime. 1\\nIn 1849, the present respected Chief Magislrate\\nsaid, in his annual address,\\n“Should Congress, at the present session, fail to ex\\ntend it (the ordinance of 1787) oyer the whole of the\\nnewly acquired territory, their immediate successors will\\nhave it to do, and to the President elect will belotm the\\nhonor of carrying out the principles of Washington,and\\nthe early Presidents, whose example he has avowed his\\n.mention of following, by giving t 0 it the sanction of his\\nofficial approval.”\\nAad ‘ l V7\\' olves of lhe 9ame y ear c!e«rly assert\\nth« duty of Congress to apply the principle’s of the\\nordinance of 1787 to the entire Mexican acquisition,\\n— to the end that the institution [Slavery] mav be\\nperpetually excluded therefrom/ej/onrf C v e ; y\\nof uncertainty.\" y\\nIn his recent message, the Chief Magistrate says\\nof Massachusetts, — °\\n“Elite.taming no doubt of the constitutional powerof\\nCongress to exclude slavery from its ownterritodes7.nl\\nbelieving that such exclusion is demanded by the high\\nest prmc.ples of morality ami justice, she never ran\\nconsent to its extension over one foot of territory where\\nit now w not. It the other free states concur with her\\nin this resolution, the thing will be done, and conse\\nquences be left to themselves.”\\nAt the Convention of the Wliig party at Snrinn\\nsed* 1 — 1847 ’ thC followin 8 resolutions were pas\\n“ Resolved, That if this course of policy shall be re\\njected, and the war shall lie prosecuted tn’ the final mb.\\njugation or dismemberment of Mexico, the Whigs < f\\nMassachusetts now declare, and put this declaration of\\nthen- purpose on record-that Massachusetts will never\\nconsent that Mexican territory, however acquired,shall\\nbecome a part of the American Union, unless on the\\nunalterable condition, that‘there shall lie neither slavery\\nnor involuntary servitude therein, otherwise than in the\\npunishment of crime.’\\n“Rrsolrvd, That, in making this declaration of her\\npurpose, Massachusetts announces no new principle < f\\naction in regard to her sister States, and makes no new\\napplication of principles already acknowledged. She\\nmerely states that great American principle embodied in\\nour Dei laration of Independence—the political equality\\not persons m the c.y.l state;—the principle adopted in\\nthe Legislation of the States snider the confederation—\\nand sanctioned by the Constitution—in the admission of\\nall the new. States formed from the only territory belo c\\ning to the Union at the adoption of the Constitution,—\\nit is, in short, the. i iipei ishable principle set forth in\\nHie ever memorable ordinauee of 1787, which has for\\nmore than a century been the fundamental law of human\\nliberty in the great valley of the lakes, the Ohio and\\nthe Mississippi with what brilliant sweess anil with\\nwhat impmulleled results, let the great mid growing\\nStaten of Ohio, Indiana, Illinois, Michigan, and Wis\\nconsin, answer and declare.”\\nAnd on that occasion an illustrious Senator of your\\nnumber, made this memorable declaration,\\n“My oppoaition was f unded on the ground that I\\nnever would and never should, I repeat now, I never\\nwill I never shall give my vote in Congress for ary\\ntusther annexation of territory to this country with ii\\nslave representation. J\\n“There is not a man in this hall who holds to the\\nprinciple of the Wilmot proviso more firmly than I do\\nno one who mlheres to it more than another. I feel\\nsome little interest in this mutter, sir. Did 1 not com\\nmit myself in 1838 to the whole doctrine fully,entirely?\\nAnd I must Im- |iermitted to say that I lannotquile con\\nsent Hint more recent discoverers should claim the mer\\nit and take out a patent. I deny the priority of their\\ninvention. Allow me to say, sir, it is not their thun\\nder.”', 'batch': 'mb_bia_ver01', 'title_normal': 'daily spy.', 'url': 'https://chroniclingamerica.loc.gov/lccn/sn83021203/1850-03-02/ed-1/seq-2.json', 'place': ['Massachusetts--Worcester--Worcester'], 'page': ''}\n"
     ]
    }
   ],
   "source": [
    "print(results['items'][0])"
   ]
  },
  {
   "cell_type": "code",
   "execution_count": 6,
   "metadata": {
    "id": "kIcPNqHuKtJA"
   },
   "outputs": [
    {
     "name": "stdout",
     "output_type": "stream",
     "text": [
      "totalItems: 1656\n",
      "endIndex: 20\n",
      "startIndex: 1\n",
      "itemsPerPage: 20\n",
      "Length and type of items: 20 <class 'list'>\n"
     ]
    }
   ],
   "source": [
    "print('totalItems:', results['totalItems'])\n",
    "print('endIndex:', results['endIndex'])\n",
    "print('startIndex:', results['startIndex'])\n",
    "print('itemsPerPage:', results['itemsPerPage'])\n",
    "print('Length and type of items:', len(results['items']), type(results['items']))"
   ]
  },
  {
   "cell_type": "markdown",
   "metadata": {
    "id": "cxWJPQfUK5pA"
   },
   "source": [
    "The Chronicling America API returned 1,656 results. However, it will only display 20 at a time by default. I can add a new parameter `page=` to cycle through all the results, but first I need to know how many pages there will be. I can find this out by dividing `totalItems` (1,656) by `itemsPerPage` (20) and then round-up using `math.ceil`."
   ]
  },
  {
   "cell_type": "code",
   "execution_count": 7,
   "metadata": {
    "id": "OmJIDL1lKy0g"
   },
   "outputs": [
    {
     "name": "stdout",
     "output_type": "stream",
     "text": [
      "83\n"
     ]
    }
   ],
   "source": [
    "# find total amount of pages\n",
    "total_pages = math.ceil(results['totalItems'] / results['itemsPerPage'])\n",
    "print(total_pages)"
   ]
  },
  {
   "cell_type": "markdown",
   "metadata": {
    "id": "-Gca6IQYUEVx"
   },
   "source": [
    "Now that I know how many pages there will be, I can use a for loop to iterate through each result page and then each item on each result page. I then gather the data I want from each item: newspaper title, city, date, and text.\n",
    "\n",
    "Notice in the code below I placed the url string in parentheses () so that I could break it up over multiple lines making it easier to read.\n",
    "\n",
    "Also, for the sake of this demonstration, I am only iterating over 10 pages. For the full results the for loop should begin: `for i in range(1, total_pages+1)` (the `+1` is necessary becase the seond number in the range function is exclusive)."
   ]
  },
  {
   "cell_type": "code",
   "execution_count": 8,
   "metadata": {
    "id": "C0pZe96qBP_J"
   },
   "outputs": [],
   "source": [
    "# create empty list for data\n",
    "data = []"
   ]
  },
  {
   "cell_type": "code",
   "execution_count": 9,
   "metadata": {
    "id": "pg63qYBuBVU3"
   },
   "outputs": [],
   "source": [
    "# set search parameters\n",
    "start_date = '1770'\n",
    "end_date = '1865'\n",
    "search_term = 'abolition'\n",
    "state = 'Massachusetts'"
   ]
  },
  {
   "cell_type": "code",
   "execution_count": 10,
   "metadata": {
    "id": "Upp6d0I9UDy6"
   },
   "outputs": [
    {
     "name": "stdout",
     "output_type": "stream",
     "text": [
      "page 1 status code: 200\n",
      "page 2 status code: 200\n",
      "page 3 status code: 200\n",
      "page 4 status code: 200\n",
      "page 5 status code: 200\n",
      "page 6 status code: 200\n",
      "page 7 status code: 200\n",
      "page 8 status code: 200\n",
      "page 9 status code: 200\n",
      "page 10 status code: 200\n",
      "page 11 status code: 200\n",
      "page 12 status code: 200\n",
      "page 13 status code: 200\n",
      "page 14 status code: 200\n",
      "page 15 status code: 200\n",
      "page 16 status code: 200\n",
      "page 17 status code: 200\n",
      "page 18 status code: 200\n",
      "page 19 status code: 200\n",
      "page 20 status code: 200\n",
      "page 21 status code: 200\n",
      "page 22 status code: 200\n",
      "page 23 status code: 200\n",
      "page 24 status code: 200\n",
      "page 25 status code: 200\n",
      "page 26 status code: 200\n",
      "page 27 status code: 200\n",
      "page 28 status code: 200\n",
      "page 29 status code: 200\n",
      "page 30 status code: 200\n",
      "page 31 status code: 200\n",
      "page 32 status code: 200\n",
      "page 33 status code: 200\n",
      "page 34 status code: 200\n",
      "page 35 status code: 200\n",
      "page 36 status code: 200\n",
      "page 37 status code: 200\n",
      "page 38 status code: 200\n",
      "page 39 status code: 200\n",
      "page 40 status code: 200\n",
      "page 41 status code: 200\n",
      "page 42 status code: 200\n",
      "page 43 status code: 200\n",
      "page 44 status code: 200\n",
      "page 45 status code: 200\n",
      "page 46 status code: 200\n",
      "page 47 status code: 200\n",
      "page 48 status code: 200\n",
      "page 49 status code: 200\n",
      "page 50 status code: 200\n",
      "page 51 status code: 200\n",
      "page 52 status code: 200\n",
      "page 53 status code: 200\n",
      "page 54 status code: 200\n",
      "page 55 status code: 200\n",
      "page 56 status code: 200\n",
      "page 57 status code: 200\n",
      "page 58 status code: 200\n",
      "page 59 status code: 200\n",
      "page 60 status code: 200\n",
      "page 61 status code: 200\n",
      "page 62 status code: 200\n",
      "page 63 status code: 200\n",
      "page 64 status code: 200\n",
      "page 65 status code: 200\n",
      "page 66 status code: 200\n",
      "page 67 status code: 200\n",
      "page 68 status code: 200\n",
      "page 69 status code: 200\n",
      "page 70 status code: 200\n",
      "page 71 status code: 200\n",
      "page 72 status code: 200\n",
      "page 73 status code: 200\n",
      "page 74 status code: 200\n",
      "page 75 status code: 200\n",
      "page 76 status code: 200\n",
      "page 77 status code: 200\n",
      "page 78 status code: 200\n",
      "page 79 status code: 200\n",
      "page 80 status code: 200\n",
      "page 81 status code: 200\n",
      "page 82 status code: 200\n",
      "page 83 status code: 200\n"
     ]
    }
   ],
   "source": [
    "# loop through search results and collect data\n",
    "for i in range(1, 84):  # for sake of time I'm doing only 10, you will want to put total_pages+1\n",
    "    url = (f'https://chroniclingamerica.loc.gov/search/pages/results/?state={state}&date1={start_date}'\n",
    "           f'&date2={end_date}&proxtext={search_term}&x=16&y=8&dateFilterType=yearRange&rows=20'\n",
    "           f'&searchType=basic&format=json&page={i}')  # f-string\n",
    "    response = requests.get(url)\n",
    "    raw = response.text\n",
    "    print(f'page {i} status code:', response.status_code)  # checking for errors\n",
    "    results = json.loads(raw)\n",
    "    items_ = results['items']\n",
    "    for item_ in items_:\n",
    "        row_data = {}\n",
    "        try:\n",
    "          row_data['title'] = item_['title_normal']\n",
    "        except:\n",
    "          row_data['city'] = \"none\"\n",
    "        try:\n",
    "          row_data['city'] = item_['city']\n",
    "        except:\n",
    "          row_data['city'] = \"none\"\n",
    "        try:\n",
    "          row_data['date'] = item_['date']\n",
    "        except:\n",
    "          row_data['date'] = \"none\"\n",
    "        try:\n",
    "          row_data['raw_text'] = item_['ocr_eng']\n",
    "        except:\n",
    "          row_data['raw_text'] = 'none'\n",
    "    data.append(row_data)"
   ]
  },
  {
   "cell_type": "code",
   "execution_count": 11,
   "metadata": {
    "id": "q-ctFdtSBa-u"
   },
   "outputs": [],
   "source": [
    "# put data into DataFrame\n",
    "df = pd.DataFrame.from_dict(data)"
   ]
  },
  {
   "cell_type": "code",
   "execution_count": 14,
   "metadata": {
    "id": "prL29Su_msjb"
   },
   "outputs": [
    {
     "data": {
      "text/html": [
       "<div>\n",
       "<style scoped>\n",
       "    .dataframe tbody tr th:only-of-type {\n",
       "        vertical-align: middle;\n",
       "    }\n",
       "\n",
       "    .dataframe tbody tr th {\n",
       "        vertical-align: top;\n",
       "    }\n",
       "\n",
       "    .dataframe thead th {\n",
       "        text-align: right;\n",
       "    }\n",
       "</style>\n",
       "<table border=\"1\" class=\"dataframe\">\n",
       "  <thead>\n",
       "    <tr style=\"text-align: right;\">\n",
       "      <th></th>\n",
       "      <th>title</th>\n",
       "      <th>city</th>\n",
       "      <th>date</th>\n",
       "      <th>raw_text</th>\n",
       "    </tr>\n",
       "  </thead>\n",
       "  <tbody>\n",
       "    <tr>\n",
       "      <th>0</th>\n",
       "      <td>worcester daily spy.</td>\n",
       "      <td>[Worcester]</td>\n",
       "      <td>18620811</td>\n",
       "      <td>OFFICIAL.\\nLAWS OF THE~UNITED STATES\\nPassed a...</td>\n",
       "    </tr>\n",
       "    <tr>\n",
       "      <th>1</th>\n",
       "      <td>daily spy.</td>\n",
       "      <td>[Worcester]</td>\n",
       "      <td>18480916</td>\n",
       "      <td>Elie Satin Spy.\\nWORCESTER:\\nSATURDAY, SEPTEMB...</td>\n",
       "    </tr>\n",
       "    <tr>\n",
       "      <th>2</th>\n",
       "      <td>worcester daily spy.</td>\n",
       "      <td>[Worcester]</td>\n",
       "      <td>18600117</td>\n",
       "      <td>LATEST_NEWS.\\nBY TELEGRAPH\\nTO THE WORCESTER D...</td>\n",
       "    </tr>\n",
       "    <tr>\n",
       "      <th>3</th>\n",
       "      <td>daily spy.</td>\n",
       "      <td>[Worcester]</td>\n",
       "      <td>18500327</td>\n",
       "      <td>THE DAILY SPY.\\nWO AC ESTER-\\nWEDNESDM F, 27, ...</td>\n",
       "    </tr>\n",
       "    <tr>\n",
       "      <th>4</th>\n",
       "      <td>massachusetts spy, and worcester county advert...</td>\n",
       "      <td>[Worcester]</td>\n",
       "      <td>18260329</td>\n",
       "      <td>The Constitution of this House; of the other H...</td>\n",
       "    </tr>\n",
       "  </tbody>\n",
       "</table>\n",
       "</div>"
      ],
      "text/plain": [
       "                                               title         city      date  \\\n",
       "0                               worcester daily spy.  [Worcester]  18620811   \n",
       "1                                         daily spy.  [Worcester]  18480916   \n",
       "2                               worcester daily spy.  [Worcester]  18600117   \n",
       "3                                         daily spy.  [Worcester]  18500327   \n",
       "4  massachusetts spy, and worcester county advert...  [Worcester]  18260329   \n",
       "\n",
       "                                            raw_text  \n",
       "0  OFFICIAL.\\nLAWS OF THE~UNITED STATES\\nPassed a...  \n",
       "1  Elie Satin Spy.\\nWORCESTER:\\nSATURDAY, SEPTEMB...  \n",
       "2  LATEST_NEWS.\\nBY TELEGRAPH\\nTO THE WORCESTER D...  \n",
       "3  THE DAILY SPY.\\nWO AC ESTER-\\nWEDNESDM F, 27, ...  \n",
       "4  The Constitution of this House; of the other H...  "
      ]
     },
     "execution_count": 14,
     "metadata": {},
     "output_type": "execute_result"
    }
   ],
   "source": [
    "df.head()"
   ]
  },
  {
   "cell_type": "markdown",
   "metadata": {
    "id": "z509dIQEep7G"
   },
   "source": [
    "### Change date format\n",
    "Pandas allows us to clean and edit our data easily (relatively). We can first convert the string values in the date column to properly formated dates and then sort the dataframe by date."
   ]
  },
  {
   "cell_type": "code",
   "execution_count": 15,
   "metadata": {
    "id": "z1fENcFaZJIx"
   },
   "outputs": [],
   "source": [
    "# convert date column from string to date-time object\n",
    "df['date'] = pd.to_datetime(df['date'])"
   ]
  },
  {
   "cell_type": "code",
   "execution_count": 16,
   "metadata": {
    "id": "4c0otcZIey1D"
   },
   "outputs": [
    {
     "data": {
      "text/html": [
       "<div>\n",
       "<style scoped>\n",
       "    .dataframe tbody tr th:only-of-type {\n",
       "        vertical-align: middle;\n",
       "    }\n",
       "\n",
       "    .dataframe tbody tr th {\n",
       "        vertical-align: top;\n",
       "    }\n",
       "\n",
       "    .dataframe thead th {\n",
       "        text-align: right;\n",
       "    }\n",
       "</style>\n",
       "<table border=\"1\" class=\"dataframe\">\n",
       "  <thead>\n",
       "    <tr style=\"text-align: right;\">\n",
       "      <th></th>\n",
       "      <th>title</th>\n",
       "      <th>city</th>\n",
       "      <th>date</th>\n",
       "      <th>raw_text</th>\n",
       "    </tr>\n",
       "  </thead>\n",
       "  <tbody>\n",
       "    <tr>\n",
       "      <th>0</th>\n",
       "      <td>worcester daily spy.</td>\n",
       "      <td>[Worcester]</td>\n",
       "      <td>1862-08-11</td>\n",
       "      <td>OFFICIAL.\\nLAWS OF THE~UNITED STATES\\nPassed a...</td>\n",
       "    </tr>\n",
       "    <tr>\n",
       "      <th>1</th>\n",
       "      <td>daily spy.</td>\n",
       "      <td>[Worcester]</td>\n",
       "      <td>1848-09-16</td>\n",
       "      <td>Elie Satin Spy.\\nWORCESTER:\\nSATURDAY, SEPTEMB...</td>\n",
       "    </tr>\n",
       "    <tr>\n",
       "      <th>2</th>\n",
       "      <td>worcester daily spy.</td>\n",
       "      <td>[Worcester]</td>\n",
       "      <td>1860-01-17</td>\n",
       "      <td>LATEST_NEWS.\\nBY TELEGRAPH\\nTO THE WORCESTER D...</td>\n",
       "    </tr>\n",
       "    <tr>\n",
       "      <th>3</th>\n",
       "      <td>daily spy.</td>\n",
       "      <td>[Worcester]</td>\n",
       "      <td>1850-03-27</td>\n",
       "      <td>THE DAILY SPY.\\nWO AC ESTER-\\nWEDNESDM F, 27, ...</td>\n",
       "    </tr>\n",
       "    <tr>\n",
       "      <th>4</th>\n",
       "      <td>massachusetts spy, and worcester county advert...</td>\n",
       "      <td>[Worcester]</td>\n",
       "      <td>1826-03-29</td>\n",
       "      <td>The Constitution of this House; of the other H...</td>\n",
       "    </tr>\n",
       "  </tbody>\n",
       "</table>\n",
       "</div>"
      ],
      "text/plain": [
       "                                               title         city       date  \\\n",
       "0                               worcester daily spy.  [Worcester] 1862-08-11   \n",
       "1                                         daily spy.  [Worcester] 1848-09-16   \n",
       "2                               worcester daily spy.  [Worcester] 1860-01-17   \n",
       "3                                         daily spy.  [Worcester] 1850-03-27   \n",
       "4  massachusetts spy, and worcester county advert...  [Worcester] 1826-03-29   \n",
       "\n",
       "                                            raw_text  \n",
       "0  OFFICIAL.\\nLAWS OF THE~UNITED STATES\\nPassed a...  \n",
       "1  Elie Satin Spy.\\nWORCESTER:\\nSATURDAY, SEPTEMB...  \n",
       "2  LATEST_NEWS.\\nBY TELEGRAPH\\nTO THE WORCESTER D...  \n",
       "3  THE DAILY SPY.\\nWO AC ESTER-\\nWEDNESDM F, 27, ...  \n",
       "4  The Constitution of this House; of the other H...  "
      ]
     },
     "execution_count": 16,
     "metadata": {},
     "output_type": "execute_result"
    }
   ],
   "source": [
    "df.head()"
   ]
  },
  {
   "cell_type": "code",
   "execution_count": 17,
   "metadata": {
    "id": "wjTfqq38e0XB"
   },
   "outputs": [],
   "source": [
    "# sort by date\n",
    "df = df.sort_values(by='date')"
   ]
  },
  {
   "cell_type": "code",
   "execution_count": 18,
   "metadata": {
    "id": "3XYFLmRhe7Gp"
   },
   "outputs": [
    {
     "data": {
      "text/html": [
       "<div>\n",
       "<style scoped>\n",
       "    .dataframe tbody tr th:only-of-type {\n",
       "        vertical-align: middle;\n",
       "    }\n",
       "\n",
       "    .dataframe tbody tr th {\n",
       "        vertical-align: top;\n",
       "    }\n",
       "\n",
       "    .dataframe thead th {\n",
       "        text-align: right;\n",
       "    }\n",
       "</style>\n",
       "<table border=\"1\" class=\"dataframe\">\n",
       "  <thead>\n",
       "    <tr style=\"text-align: right;\">\n",
       "      <th></th>\n",
       "      <th>title</th>\n",
       "      <th>city</th>\n",
       "      <th>date</th>\n",
       "      <th>raw_text</th>\n",
       "    </tr>\n",
       "  </thead>\n",
       "  <tbody>\n",
       "    <tr>\n",
       "      <th>4</th>\n",
       "      <td>massachusetts spy, and worcester county advert...</td>\n",
       "      <td>[Worcester]</td>\n",
       "      <td>1826-03-29</td>\n",
       "      <td>The Constitution of this House; of the other H...</td>\n",
       "    </tr>\n",
       "    <tr>\n",
       "      <th>20</th>\n",
       "      <td>massachusetts spy, and worcester county advert...</td>\n",
       "      <td>[Worcester]</td>\n",
       "      <td>1828-01-23</td>\n",
       "      <td>above Easton, to Newburg on the Hudson,\\n60 mi...</td>\n",
       "    </tr>\n",
       "    <tr>\n",
       "      <th>12</th>\n",
       "      <td>lancaster gazette.</td>\n",
       "      <td>[Lancaster]</td>\n",
       "      <td>1828-06-03</td>\n",
       "      <td>GAOTTII.\\n81. I*\\nTUESDAY EVENING, BY\\nF , &amp; J...</td>\n",
       "    </tr>\n",
       "    <tr>\n",
       "      <th>21</th>\n",
       "      <td>massachusetts spy, and worcester county advert...</td>\n",
       "      <td>[Worcester]</td>\n",
       "      <td>1831-07-20</td>\n",
       "      <td>MASONRY AND ANTI-MASONRY.\\nThe National Intell...</td>\n",
       "    </tr>\n",
       "    <tr>\n",
       "      <th>7</th>\n",
       "      <td>massachusetts spy.</td>\n",
       "      <td>[Worcester]</td>\n",
       "      <td>1832-02-15</td>\n",
       "      <td>From the Connecticut Mirror.\\nHOMEWARD BOUND.\\...</td>\n",
       "    </tr>\n",
       "  </tbody>\n",
       "</table>\n",
       "</div>"
      ],
      "text/plain": [
       "                                                title         city       date  \\\n",
       "4   massachusetts spy, and worcester county advert...  [Worcester] 1826-03-29   \n",
       "20  massachusetts spy, and worcester county advert...  [Worcester] 1828-01-23   \n",
       "12                                 lancaster gazette.  [Lancaster] 1828-06-03   \n",
       "21  massachusetts spy, and worcester county advert...  [Worcester] 1831-07-20   \n",
       "7                                  massachusetts spy.  [Worcester] 1832-02-15   \n",
       "\n",
       "                                             raw_text  \n",
       "4   The Constitution of this House; of the other H...  \n",
       "20  above Easton, to Newburg on the Hudson,\\n60 mi...  \n",
       "12  GAOTTII.\\n81. I*\\nTUESDAY EVENING, BY\\nF , & J...  \n",
       "21  MASONRY AND ANTI-MASONRY.\\nThe National Intell...  \n",
       "7   From the Connecticut Mirror.\\nHOMEWARD BOUND.\\...  "
      ]
     },
     "execution_count": 18,
     "metadata": {},
     "output_type": "execute_result"
    }
   ],
   "source": [
    "df.head()"
   ]
  },
  {
   "cell_type": "markdown",
   "metadata": {
    "id": "epH12SFJfJm6"
   },
   "source": [
    "### Process text\n",
    "We can now porcess our text for analysis. The text provded by Chronicling America comes from optical character recognition (ocr) and the accuracy of ocr can be low. Here I will remove new line characters (`\\n`), stop words, and then lemamtize the text.\n",
    "\n",
    "**Rememeber** the decisions you make in how to process your text should be based on the kind of analysis you want to do."
   ]
  },
  {
   "cell_type": "code",
   "execution_count": 19,
   "metadata": {
    "id": "m6Urrlffe8ro"
   },
   "outputs": [],
   "source": [
    "# write fuction to process text\n",
    "# load nlp model\n",
    "nlp = spacy.load(\"en_core_web_sm\")\n",
    "nlp.disable_pipes('ner', 'parser')  # these are unnecessary for the task at hand\n",
    "\n",
    "def process_text(text):\n",
    "    \"\"\"Remove new line characters and lemmatize text. Returns string of lemmas\"\"\"\n",
    "    text = text.replace('\\n', ' ')\n",
    "    doc = nlp(text)\n",
    "    tokens = [token for token in doc]\n",
    "    no_stops = [token for token in tokens if not token.is_stop]\n",
    "    no_punct = [token for token in no_stops if token.is_alpha]\n",
    "    lemmas = [token.lemma_ for token in no_punct]\n",
    "    lemmas_lower = [lemma.lower() for lemma in lemmas]\n",
    "    lemmas_string = ' '.join(lemmas_lower)\n",
    "    return lemmas_string"
   ]
  },
  {
   "cell_type": "code",
   "execution_count": 20,
   "metadata": {
    "id": "VkQk9wuXfrwM"
   },
   "outputs": [],
   "source": [
    "# apply process_text function\n",
    "# this may take a few minutes\n",
    "df['lemmas'] = df['raw_text'].apply(process_text)"
   ]
  },
  {
   "cell_type": "code",
   "execution_count": 22,
   "metadata": {
    "id": "7UU3K6rkfsRM"
   },
   "outputs": [],
   "source": [
    "# save to csv\n",
    "df.to_csv(f'../{search_term}{start_date}-{end_date}.csv', index=False)"
   ]
  },
  {
   "cell_type": "code",
   "execution_count": null,
   "metadata": {},
   "outputs": [],
   "source": []
  }
 ],
 "metadata": {
  "colab": {
   "private_outputs": true,
   "provenance": []
  },
  "kernelspec": {
   "display_name": "Python 3 (ipykernel)",
   "language": "python",
   "name": "python3"
  },
  "language_info": {
   "codemirror_mode": {
    "name": "ipython",
    "version": 3
   },
   "file_extension": ".py",
   "mimetype": "text/x-python",
   "name": "python",
   "nbconvert_exporter": "python",
   "pygments_lexer": "ipython3",
   "version": "3.11.4"
  }
 },
 "nbformat": 4,
 "nbformat_minor": 1
}

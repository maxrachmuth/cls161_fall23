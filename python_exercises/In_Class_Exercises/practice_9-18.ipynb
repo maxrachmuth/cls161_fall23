{
 "cells": [
  {
   "cell_type": "markdown",
   "id": "3de4e0b8",
   "metadata": {},
   "source": [
    "jupyter notebook!"
   ]
  },
  {
   "cell_type": "code",
   "execution_count": 1,
   "id": "098b0e02",
   "metadata": {},
   "outputs": [
    {
     "name": "stdout",
     "output_type": "stream",
     "text": [
      "Hello, World\n"
     ]
    }
   ],
   "source": [
    "print (\"Hello, World\")"
   ]
  },
  {
   "cell_type": "code",
   "execution_count": 2,
   "id": "99d6e6dc",
   "metadata": {},
   "outputs": [],
   "source": [
    "greeting = \"Hello, World\""
   ]
  },
  {
   "cell_type": "code",
   "execution_count": 3,
   "id": "fe88d54a",
   "metadata": {},
   "outputs": [
    {
     "name": "stdout",
     "output_type": "stream",
     "text": [
      "Hello, World\n"
     ]
    }
   ],
   "source": [
    "print (greeting)"
   ]
  },
  {
   "cell_type": "code",
   "execution_count": 4,
   "id": "c73a91b0",
   "metadata": {},
   "outputs": [
    {
     "ename": "NameError",
     "evalue": "name 'greating' is not defined",
     "output_type": "error",
     "traceback": [
      "\u001b[0;31m---------------------------------------------------------------------------\u001b[0m",
      "\u001b[0;31mNameError\u001b[0m                                 Traceback (most recent call last)",
      "Cell \u001b[0;32mIn[4], line 1\u001b[0m\n\u001b[0;32m----> 1\u001b[0m \u001b[38;5;28mprint\u001b[39m(greating)\n",
      "\u001b[0;31mNameError\u001b[0m: name 'greating' is not defined"
     ]
    }
   ],
   "source": [
    "print(greating)"
   ]
  },
  {
   "cell_type": "code",
   "execution_count": 5,
   "id": "423ac01c",
   "metadata": {},
   "outputs": [],
   "source": [
    "greeting = \"goodbye, world\""
   ]
  },
  {
   "cell_type": "code",
   "execution_count": 6,
   "id": "53bad328",
   "metadata": {},
   "outputs": [
    {
     "name": "stdout",
     "output_type": "stream",
     "text": [
      "goodbye, world\n"
     ]
    }
   ],
   "source": [
    "print(greeting)"
   ]
  },
  {
   "cell_type": "code",
   "execution_count": 7,
   "id": "64bc9276",
   "metadata": {},
   "outputs": [],
   "source": [
    "greEting = \"hello\""
   ]
  },
  {
   "cell_type": "code",
   "execution_count": 8,
   "id": "f7c87ec1",
   "metadata": {},
   "outputs": [
    {
     "name": "stdout",
     "output_type": "stream",
     "text": [
      "hello\n"
     ]
    }
   ],
   "source": [
    "print(greEting)"
   ]
  },
  {
   "cell_type": "code",
   "execution_count": 9,
   "id": "bfee9b02",
   "metadata": {},
   "outputs": [
    {
     "name": "stdout",
     "output_type": "stream",
     "text": [
      "goodbye, world\n"
     ]
    }
   ],
   "source": [
    "print(greeting)"
   ]
  },
  {
   "cell_type": "markdown",
   "id": "36ab64dd",
   "metadata": {},
   "source": [
    "## String"
   ]
  },
  {
   "cell_type": "code",
   "execution_count": 10,
   "id": "000b496b",
   "metadata": {},
   "outputs": [
    {
     "name": "stdout",
     "output_type": "stream",
     "text": [
      "this is a string\n"
     ]
    }
   ],
   "source": [
    "example_1 = \"this is a string\"\n",
    "print (example_1)"
   ]
  },
  {
   "cell_type": "code",
   "execution_count": 11,
   "id": "465d8c3a",
   "metadata": {},
   "outputs": [
    {
     "name": "stdout",
     "output_type": "stream",
     "text": [
      "this is also a string\n"
     ]
    }
   ],
   "source": [
    "example_2 = 'this is also a string'\n",
    "print(example_2)"
   ]
  },
  {
   "cell_type": "code",
   "execution_count": 13,
   "id": "aaa06a9e",
   "metadata": {},
   "outputs": [
    {
     "ename": "SyntaxError",
     "evalue": "invalid syntax (1700702841.py, line 1)",
     "output_type": "error",
     "traceback": [
      "\u001b[0;36m  Cell \u001b[0;32mIn[13], line 1\u001b[0;36m\u001b[0m\n\u001b[0;31m    example_3 = \"I asked, \"when should I use double quotes?\"\"\u001b[0m\n\u001b[0m                           ^\u001b[0m\n\u001b[0;31mSyntaxError\u001b[0m\u001b[0;31m:\u001b[0m invalid syntax\n"
     ]
    }
   ],
   "source": [
    "example_3 = \"I asked, \"when should I use double quotes?\"\"\n",
    "print(example_3)"
   ]
  },
  {
   "cell_type": "code",
   "execution_count": 14,
   "id": "3f20878f",
   "metadata": {},
   "outputs": [
    {
     "name": "stdout",
     "output_type": "stream",
     "text": [
      "I asked, \"when should I use double quotes?\"\n"
     ]
    }
   ],
   "source": [
    "example_4 = 'I asked, \"when should I use double quotes?\"'\n",
    "print(example_4)"
   ]
  },
  {
   "cell_type": "code",
   "execution_count": 15,
   "id": "b170b961",
   "metadata": {},
   "outputs": [
    {
     "name": "stdout",
     "output_type": "stream",
     "text": [
      "edward gibbon\n"
     ]
    }
   ],
   "source": [
    "historian = \"edward gibbon\"\n",
    "print (historian)"
   ]
  },
  {
   "cell_type": "code",
   "execution_count": 16,
   "id": "7cb39d1e",
   "metadata": {},
   "outputs": [
    {
     "name": "stdout",
     "output_type": "stream",
     "text": [
      "Edward Gibbon\n"
     ]
    }
   ],
   "source": [
    "print(historian.title())"
   ]
  },
  {
   "cell_type": "code",
   "execution_count": 17,
   "id": "293f9e9d",
   "metadata": {},
   "outputs": [
    {
     "name": "stdout",
     "output_type": "stream",
     "text": [
      "Becky Chambers\n"
     ]
    }
   ],
   "source": [
    "novelist = \"Becky Chambers\"\n",
    "print(novelist)"
   ]
  },
  {
   "cell_type": "code",
   "execution_count": 18,
   "id": "e9b7fd93",
   "metadata": {},
   "outputs": [
    {
     "name": "stdout",
     "output_type": "stream",
     "text": [
      "Becky Chambers\n",
      "BECKY CHAMBERS\n",
      "becky chambers\n"
     ]
    }
   ],
   "source": [
    "print(novelist)\n",
    "print(novelist.upper())\n",
    "print(novelist.lower())"
   ]
  },
  {
   "cell_type": "code",
   "execution_count": 1,
   "id": "5794a268",
   "metadata": {},
   "outputs": [
    {
     "name": "stdout",
     "output_type": "stream",
     "text": [
      "can you find the x in this string?\n"
     ]
    }
   ],
   "source": [
    "string_x = \"can you find the x in this string?\"\n",
    "print(string_x)"
   ]
  },
  {
   "cell_type": "code",
   "execution_count": 2,
   "id": "d1f5f7fc",
   "metadata": {},
   "outputs": [
    {
     "name": "stdout",
     "output_type": "stream",
     "text": [
      "17\n"
     ]
    }
   ],
   "source": [
    "print(string_x.find(\"x\"))"
   ]
  },
  {
   "cell_type": "markdown",
   "id": "9b57faa2",
   "metadata": {},
   "source": [
    "## Integer"
   ]
  },
  {
   "cell_type": "code",
   "execution_count": 4,
   "id": "bb1b0674",
   "metadata": {},
   "outputs": [
    {
     "data": {
      "text/plain": [
       "286320"
      ]
     },
     "execution_count": 4,
     "metadata": {},
     "output_type": "execute_result"
    }
   ],
   "source": [
    "193485+92835"
   ]
  },
  {
   "cell_type": "code",
   "execution_count": 6,
   "id": "6b9ef575",
   "metadata": {},
   "outputs": [
    {
     "data": {
      "text/plain": [
       "55556"
      ]
     },
     "execution_count": 6,
     "metadata": {},
     "output_type": "execute_result"
    }
   ],
   "source": [
    "82945-27389"
   ]
  },
  {
   "cell_type": "code",
   "execution_count": 7,
   "id": "57845a59",
   "metadata": {},
   "outputs": [
    {
     "data": {
      "text/plain": [
       "91.62891046386191"
      ]
     },
     "execution_count": 7,
     "metadata": {},
     "output_type": "execute_result"
    }
   ],
   "source": [
    "84940/927"
   ]
  },
  {
   "cell_type": "code",
   "execution_count": 9,
   "id": "486fd01f",
   "metadata": {},
   "outputs": [
    {
     "data": {
      "text/plain": [
       "10"
      ]
     },
     "execution_count": 9,
     "metadata": {},
     "output_type": "execute_result"
    }
   ],
   "source": [
    "5*2"
   ]
  },
  {
   "cell_type": "code",
   "execution_count": 10,
   "id": "0fe34980",
   "metadata": {},
   "outputs": [
    {
     "data": {
      "text/plain": [
       "25"
      ]
     },
     "execution_count": 10,
     "metadata": {},
     "output_type": "execute_result"
    }
   ],
   "source": [
    "5**2"
   ]
  },
  {
   "cell_type": "code",
   "execution_count": 13,
   "id": "4d10de1a",
   "metadata": {
    "scrolled": true
   },
   "outputs": [],
   "source": [
    "large_number = 1_000_000_000"
   ]
  },
  {
   "cell_type": "code",
   "execution_count": 14,
   "id": "dd94360a",
   "metadata": {},
   "outputs": [
    {
     "data": {
      "text/plain": [
       "1000000003"
      ]
     },
     "execution_count": 14,
     "metadata": {},
     "output_type": "execute_result"
    }
   ],
   "source": [
    "large_number + 3"
   ]
  },
  {
   "cell_type": "code",
   "execution_count": 15,
   "id": "b7f0d0b4",
   "metadata": {},
   "outputs": [],
   "source": [
    "x = 3"
   ]
  },
  {
   "cell_type": "code",
   "execution_count": 16,
   "id": "853f6d9d",
   "metadata": {},
   "outputs": [
    {
     "name": "stdout",
     "output_type": "stream",
     "text": [
      "<class 'int'>\n"
     ]
    }
   ],
   "source": [
    "print(type(x))"
   ]
  },
  {
   "cell_type": "markdown",
   "id": "75493f86",
   "metadata": {},
   "source": [
    "## Lists"
   ]
  },
  {
   "cell_type": "code",
   "execution_count": 17,
   "id": "554b9a64",
   "metadata": {},
   "outputs": [],
   "source": [
    "subjects = ['classics', 'history', 'math']"
   ]
  },
  {
   "cell_type": "code",
   "execution_count": 18,
   "id": "63cccfe4",
   "metadata": {},
   "outputs": [
    {
     "name": "stdout",
     "output_type": "stream",
     "text": [
      "['classics', 'history', 'math']\n"
     ]
    }
   ],
   "source": [
    "print(subjects)"
   ]
  },
  {
   "cell_type": "code",
   "execution_count": 19,
   "id": "7b0edf09",
   "metadata": {},
   "outputs": [
    {
     "name": "stdout",
     "output_type": "stream",
     "text": [
      "classics\n"
     ]
    }
   ],
   "source": [
    "print(subjects[0])"
   ]
  },
  {
   "cell_type": "code",
   "execution_count": null,
   "id": "e452aa30",
   "metadata": {},
   "outputs": [],
   "source": [
    "print"
   ]
  }
 ],
 "metadata": {
  "kernelspec": {
   "display_name": "Python 3 (ipykernel)",
   "language": "python",
   "name": "python3"
  },
  "language_info": {
   "codemirror_mode": {
    "name": "ipython",
    "version": 3
   },
   "file_extension": ".py",
   "mimetype": "text/x-python",
   "name": "python",
   "nbconvert_exporter": "python",
   "pygments_lexer": "ipython3",
   "version": "3.11.4"
  }
 },
 "nbformat": 4,
 "nbformat_minor": 5
}

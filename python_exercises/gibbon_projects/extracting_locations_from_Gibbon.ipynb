{
 "cells": [
  {
   "cell_type": "markdown",
   "metadata": {
    "id": "X5z4dLpxV1RR"
   },
   "source": [
    "# Extracting location names and data from Gibbon\n",
    "\n",
    "In this note book we will put together and practice a lot of skills we have learned so far this term. Starting with just the raw text files from Gibbon's Decline and Fall we will create a DataFrame containing location names, location counts, and location data.\n",
    "\n",
    "The code in this notebook may seem complex, but if you read through it carefully, you will likely understand what most of the code is doing.\n"
   ]
  },
  {
   "cell_type": "markdown",
   "metadata": {
    "id": "ePnMpLjAW7Is"
   },
   "source": [
    "## Set-up"
   ]
  },
  {
   "cell_type": "code",
   "execution_count": 2,
   "metadata": {
    "id": "bb1Ifmxs1P7z"
   },
   "outputs": [
    {
     "name": "stdout",
     "output_type": "stream",
     "text": [
      "Requirement already satisfied: stanza in /Users/Max/miniconda3/lib/python3.11/site-packages (1.6.1)\n",
      "Requirement already satisfied: emoji in /Users/Max/miniconda3/lib/python3.11/site-packages (from stanza) (2.8.0)\n",
      "Requirement already satisfied: numpy in /Users/Max/miniconda3/lib/python3.11/site-packages (from stanza) (1.26.1)\n",
      "Requirement already satisfied: protobuf>=3.15.0 in /Users/Max/miniconda3/lib/python3.11/site-packages (from stanza) (4.24.4)\n",
      "Requirement already satisfied: requests in /Users/Max/miniconda3/lib/python3.11/site-packages (from stanza) (2.29.0)\n",
      "Requirement already satisfied: torch>=1.3.0 in /Users/Max/miniconda3/lib/python3.11/site-packages (from stanza) (2.1.0)\n",
      "Requirement already satisfied: tqdm in /Users/Max/miniconda3/lib/python3.11/site-packages (from stanza) (4.65.0)\n",
      "Requirement already satisfied: filelock in /Users/Max/miniconda3/lib/python3.11/site-packages (from torch>=1.3.0->stanza) (3.12.4)\n",
      "Requirement already satisfied: typing-extensions in /Users/Max/miniconda3/lib/python3.11/site-packages (from torch>=1.3.0->stanza) (4.7.1)\n",
      "Requirement already satisfied: sympy in /Users/Max/miniconda3/lib/python3.11/site-packages (from torch>=1.3.0->stanza) (1.12)\n",
      "Requirement already satisfied: networkx in /Users/Max/miniconda3/lib/python3.11/site-packages (from torch>=1.3.0->stanza) (3.2)\n",
      "Requirement already satisfied: jinja2 in /Users/Max/miniconda3/lib/python3.11/site-packages (from torch>=1.3.0->stanza) (3.1.2)\n",
      "Requirement already satisfied: fsspec in /Users/Max/miniconda3/lib/python3.11/site-packages (from torch>=1.3.0->stanza) (2023.10.0)\n",
      "Requirement already satisfied: charset-normalizer<4,>=2 in /Users/Max/miniconda3/lib/python3.11/site-packages (from requests->stanza) (2.0.4)\n",
      "Requirement already satisfied: idna<4,>=2.5 in /Users/Max/miniconda3/lib/python3.11/site-packages (from requests->stanza) (3.4)\n",
      "Requirement already satisfied: urllib3<1.27,>=1.21.1 in /Users/Max/miniconda3/lib/python3.11/site-packages (from requests->stanza) (1.26.16)\n",
      "Requirement already satisfied: certifi>=2017.4.17 in /Users/Max/miniconda3/lib/python3.11/site-packages (from requests->stanza) (2023.7.22)\n",
      "Requirement already satisfied: MarkupSafe>=2.0 in /Users/Max/miniconda3/lib/python3.11/site-packages (from jinja2->torch>=1.3.0->stanza) (2.1.1)\n",
      "Requirement already satisfied: mpmath>=0.19 in /Users/Max/miniconda3/lib/python3.11/site-packages (from sympy->torch>=1.3.0->stanza) (1.3.0)\n"
     ]
    }
   ],
   "source": [
    "# install necessary libraries. The \"%%capture\" stops the notebook from printing\n",
    "# out all the insall output. Remove if you need to trouble shoot.\n",
    "!pip install stanza"
   ]
  },
  {
   "cell_type": "code",
   "execution_count": 3,
   "metadata": {
    "id": "f32agA_TLXZ1"
   },
   "outputs": [
    {
     "name": "stdout",
     "output_type": "stream",
     "text": [
      "Collecting wget\n",
      "  Downloading wget-3.2.zip (10 kB)\n",
      "  Preparing metadata (setup.py) ... \u001b[?25ldone\n",
      "\u001b[?25hBuilding wheels for collected packages: wget\n",
      "  Building wheel for wget (setup.py) ... \u001b[?25ldone\n",
      "\u001b[?25h  Created wheel for wget: filename=wget-3.2-py3-none-any.whl size=9656 sha256=470a3f0123b6045e15e3585aa050461c317b37775f043243efb341c6fa54da6c\n",
      "  Stored in directory: /Users/Max/Library/Caches/pip/wheels/40/b3/0f/a40dbd1c6861731779f62cc4babcb234387e11d697df70ee97\n",
      "Successfully built wget\n",
      "Installing collected packages: wget\n",
      "Successfully installed wget-3.2\n"
     ]
    }
   ],
   "source": [
    "# install necessary libraries. The \"%%capture\" stops the notebook from printing\n",
    "# out all the insall output. Remove if you need to trouble shoot.\n",
    "!pip install wget"
   ]
  },
  {
   "cell_type": "code",
   "execution_count": 20,
   "metadata": {
    "id": "2OMgFur_1HV9"
   },
   "outputs": [],
   "source": [
    "# import necessary libraries\n",
    "import os\n",
    "import pandas as pd\n",
    "import stanza\n",
    "import json\n",
    "import wget\n",
    "\n"
   ]
  },
  {
   "cell_type": "markdown",
   "metadata": {
    "id": "V4sDsirAU1RO"
   },
   "source": [
    "## NLP pipeline\n",
    "Now that all the necessary libraries have been installed and imported into our project, we need to set up our nlp pipeline. We will use [Stanza](https://stanfordnlp.github.io/stanza/)."
   ]
  },
  {
   "cell_type": "code",
   "execution_count": 27,
   "metadata": {
    "id": "ZtcNgrIo11p7"
   },
   "outputs": [
    {
     "name": "stderr",
     "output_type": "stream",
     "text": [
      "2023-11-05 17:20:31 INFO: Checking for updates to resources.json in case models have been updated.  Note: this behavior can be turned off with download_method=None or download_method=DownloadMethod.REUSE_RESOURCES\n"
     ]
    },
    {
     "data": {
      "application/vnd.jupyter.widget-view+json": {
       "model_id": "59679002d4774b649979e7a279830705",
       "version_major": 2,
       "version_minor": 0
      },
      "text/plain": [
       "Downloading https://raw.githubusercontent.com/stanfordnlp/stanza-resources/main/resources_1.6.0.json:   0%|   …"
      ]
     },
     "metadata": {},
     "output_type": "display_data"
    },
    {
     "name": "stderr",
     "output_type": "stream",
     "text": [
      "2023-11-05 17:20:32 INFO: Loading these models for language: en (English):\n",
      "================================\n",
      "| Processor | Package          |\n",
      "--------------------------------\n",
      "| tokenize  | combined         |\n",
      "| ner       | ontonotes_charlm |\n",
      "================================\n",
      "\n",
      "2023-11-05 17:20:32 INFO: Using device: cpu\n",
      "2023-11-05 17:20:32 INFO: Loading: tokenize\n",
      "2023-11-05 17:20:32 INFO: Loading: ner\n",
      "2023-11-05 17:20:33 INFO: Done loading processors!\n"
     ]
    }
   ],
   "source": [
    "# load stanza nlp pipeline that tokenizes and performs Named Entity Recognition\n",
    "nlp_ner= stanza.Pipeline(lang='en', processors='tokenize, ner')"
   ]
  },
  {
   "cell_type": "markdown",
   "metadata": {
    "id": "3RuRpqCrUkfV"
   },
   "source": [
    "## Load text data\n",
    "If you are using a **Colab Notebook** you will need to run the cell below to get the text files.\n",
    "\n",
    "Otherwise, you should have all of the text files for Gibbon's _Decline and Fall of the Roman Empire_ already downloaded from Canvas."
   ]
  },
  {
   "cell_type": "code",
   "execution_count": 28,
   "metadata": {
    "id": "f_cJWBpn1NbP"
   },
   "outputs": [
    {
     "name": "stdout",
     "output_type": "stream",
     "text": [
      "Cloning into 'Gibbon_text'...\n",
      "remote: Enumerating objects: 74, done.\u001b[K\n",
      "remote: Counting objects: 100% (3/3), done.\u001b[K\n",
      "remote: Compressing objects: 100% (3/3), done.\u001b[K\n",
      "remote: Total 74 (delta 0), reused 0 (delta 0), pack-reused 71\u001b[K\n",
      "Receiving objects: 100% (74/74), 4.20 MiB | 11.75 MiB/s, done.\n"
     ]
    }
   ],
   "source": [
    "# load text files, Colab only\n",
    "! git clone https://github.com/jdeen33/Gibbon_text.git"
   ]
  },
  {
   "cell_type": "markdown",
   "metadata": {
    "id": "asRByu0XYpxM"
   },
   "source": [
    "## Extract location infromation from text file(s)"
   ]
  },
  {
   "cell_type": "code",
   "execution_count": 29,
   "metadata": {
    "id": "-mG-vRFd2INL"
   },
   "outputs": [],
   "source": [
    "# create function that will take a text string as input and return a dictionary\n",
    "# with locations and location counts from the text string\n",
    "def get_locations_from_text(text):\n",
    "    locations_dict = {}\n",
    "    doc = nlp_ner(text)\n",
    "    for sentence in doc.sentences:\n",
    "        for token in sentence.tokens:\n",
    "            if token.ner == 'S-GPE':\n",
    "                if not token.text in locations_dict.keys():\n",
    "                    locations_dict[token.text] = 1\n",
    "                else:\n",
    "                    locations_dict[token.text] += 1\n",
    "            else:\n",
    "                continue\n",
    "    return locations_dict"
   ]
  },
  {
   "cell_type": "markdown",
   "metadata": {
    "id": "CLuZZ8pQWhzZ"
   },
   "source": [
    "You will need to choose which chapter you would like to extract locations from. For this example I will use Chapter 16.\n",
    "\n",
    "For **Colab** it will look something like this:\n",
    "`/content/Gibbon_text/gibbon_decline_volume1_chap16.txt`\n",
    "\n",
    "For **Jupyter** it will look something like this:\n",
    "`../text/gibbon_decline_and_fall/gibbon_decline_volume1_chap16.txt`"
   ]
  },
  {
   "cell_type": "code",
   "execution_count": 30,
   "metadata": {
    "id": "I8UTBqCo1ZfE"
   },
   "outputs": [],
   "source": [
    "# identify the path to the text file you want to use\n",
    "path_to_file = \"text/gibbon_decline_and_fall/gibbon_decline_volume2_chap54.txt\""
   ]
  },
  {
   "cell_type": "code",
   "execution_count": 31,
   "metadata": {
    "id": "48J1k2Y41qFf"
   },
   "outputs": [],
   "source": [
    "# read text from text file\n",
    "with open(path_to_file, encoding='utf-8', mode='r') as f:\n",
    "       text  = f.read()"
   ]
  },
  {
   "cell_type": "code",
   "execution_count": 32,
   "metadata": {
    "id": "zNQh8jQt5a0y"
   },
   "outputs": [],
   "source": [
    "# apply function to get locations and location counts\n",
    "# this will take a few minutes\n",
    "locations = get_locations_from_text(text)"
   ]
  },
  {
   "cell_type": "code",
   "execution_count": 33,
   "metadata": {
    "id": "XZ4QZ9hYCMtp"
   },
   "outputs": [
    {
     "data": {
      "text/plain": [
       "{'Armenia': 7,\n",
       " 'Syria': 2,\n",
       " 'Egypt': 2,\n",
       " 'Rome': 6,\n",
       " 'Nice': 2,\n",
       " 'Samosata': 1,\n",
       " 'Cappadocia': 2,\n",
       " 'Pontus': 2,\n",
       " 'Colonia': 2,\n",
       " 'France': 4,\n",
       " 'Siwas': 1,\n",
       " 'Trebizond': 1,\n",
       " 'Tephrice': 1,\n",
       " 'Nicomedia': 1,\n",
       " 'Ancyra': 1,\n",
       " 'Ephesus': 2,\n",
       " 'Constantinople': 2,\n",
       " 'Thrace': 1,\n",
       " 'Melitene': 1,\n",
       " 'Philippopolis': 4,\n",
       " 'Macedonia': 1,\n",
       " 'Epirus': 1,\n",
       " 'Bulgaria': 1,\n",
       " 'Croatia': 1,\n",
       " 'Dalmatia': 1,\n",
       " 'Italy': 3,\n",
       " 'Hungary': 1,\n",
       " 'Jerusalem': 1,\n",
       " 'Venice': 1,\n",
       " 'Sicily': 1,\n",
       " 'Milan': 1,\n",
       " 'Orleans': 1,\n",
       " 'Languedoc': 1,\n",
       " 'Wickliff': 1,\n",
       " 'England': 2,\n",
       " 'Huss': 1,\n",
       " 'Bohemia': 1,\n",
       " 'Smithfield': 1,\n",
       " 'Holland': 1}"
      ]
     },
     "execution_count": 33,
     "metadata": {},
     "output_type": "execute_result"
    }
   ],
   "source": [
    "# sanity check\n",
    "locations"
   ]
  },
  {
   "cell_type": "code",
   "execution_count": 115,
   "metadata": {
    "id": "WgiG4AhrYc4r"
   },
   "outputs": [],
   "source": [
    "# you may want to save the locations dictionary\n",
    "path = './' # <-- Path of your choosing\n",
    "file_name = 'locations_data.json'\n",
    "with open(file_name, encoding='utf-8', mode='w') as f:\n",
    "    json.dump(locations, f)"
   ]
  },
  {
   "cell_type": "code",
   "execution_count": 116,
   "metadata": {
    "id": "6EbPGEP7-iCU"
   },
   "outputs": [],
   "source": [
    "# convert dictionary to dataframe for easier processing\n",
    "location_count_df = pd.DataFrame.from_dict(locations, orient='index').reset_index().rename(columns={'index':'place_name', 0:'count'})\n"
   ]
  },
  {
   "cell_type": "code",
   "execution_count": 117,
   "metadata": {
    "id": "6o6gwxI-Kqe-"
   },
   "outputs": [
    {
     "data": {
      "text/html": [
       "<div>\n",
       "<style scoped>\n",
       "    .dataframe tbody tr th:only-of-type {\n",
       "        vertical-align: middle;\n",
       "    }\n",
       "\n",
       "    .dataframe tbody tr th {\n",
       "        vertical-align: top;\n",
       "    }\n",
       "\n",
       "    .dataframe thead th {\n",
       "        text-align: right;\n",
       "    }\n",
       "</style>\n",
       "<table border=\"1\" class=\"dataframe\">\n",
       "  <thead>\n",
       "    <tr style=\"text-align: right;\">\n",
       "      <th></th>\n",
       "      <th>place_name</th>\n",
       "      <th>count</th>\n",
       "    </tr>\n",
       "  </thead>\n",
       "  <tbody>\n",
       "    <tr>\n",
       "      <th>0</th>\n",
       "      <td>Armenia</td>\n",
       "      <td>7</td>\n",
       "    </tr>\n",
       "    <tr>\n",
       "      <th>1</th>\n",
       "      <td>Syria</td>\n",
       "      <td>2</td>\n",
       "    </tr>\n",
       "    <tr>\n",
       "      <th>2</th>\n",
       "      <td>Egypt</td>\n",
       "      <td>2</td>\n",
       "    </tr>\n",
       "    <tr>\n",
       "      <th>3</th>\n",
       "      <td>Rome</td>\n",
       "      <td>6</td>\n",
       "    </tr>\n",
       "    <tr>\n",
       "      <th>4</th>\n",
       "      <td>Nice</td>\n",
       "      <td>2</td>\n",
       "    </tr>\n",
       "  </tbody>\n",
       "</table>\n",
       "</div>"
      ],
      "text/plain": [
       "  place_name  count\n",
       "0    Armenia      7\n",
       "1      Syria      2\n",
       "2      Egypt      2\n",
       "3       Rome      6\n",
       "4       Nice      2"
      ]
     },
     "execution_count": 117,
     "metadata": {},
     "output_type": "execute_result"
    }
   ],
   "source": [
    "# preview DataFrame\n",
    "location_count_df.head()"
   ]
  },
  {
   "cell_type": "markdown",
   "metadata": {
    "id": "u4eApj2FY5Bh"
   },
   "source": [
    "## Load data from Pleiades"
   ]
  },
  {
   "cell_type": "code",
   "execution_count": 118,
   "metadata": {
    "id": "IZgTGV3n_Wds"
   },
   "outputs": [],
   "source": [
    "# data from Pleiades, thanks to Peter Nadel!\n",
    "if not os.path.isfile('places.csv'):  # checkin to see if we have this file or not\n",
    "    wget.download('https://raw.githubusercontent.com/pnadelofficial/FallDHCourseMaterials/main/places.csv')\n",
    "if not os.path.isfile('names.csv'):\n",
    "    wget.download('https://raw.githubusercontent.com/pnadelofficial/FallDHCourseMaterials/main/names.csv')"
   ]
  },
  {
   "cell_type": "code",
   "execution_count": 119,
   "metadata": {
    "id": "CDkKvWOmLwYB"
   },
   "outputs": [
    {
     "data": {
      "text/html": [
       "<div>\n",
       "<style scoped>\n",
       "    .dataframe tbody tr th:only-of-type {\n",
       "        vertical-align: middle;\n",
       "    }\n",
       "\n",
       "    .dataframe tbody tr th {\n",
       "        vertical-align: top;\n",
       "    }\n",
       "\n",
       "    .dataframe thead th {\n",
       "        text-align: right;\n",
       "    }\n",
       "</style>\n",
       "<table border=\"1\" class=\"dataframe\">\n",
       "  <thead>\n",
       "    <tr style=\"text-align: right;\">\n",
       "      <th></th>\n",
       "      <th>created</th>\n",
       "      <th>description</th>\n",
       "      <th>details</th>\n",
       "      <th>provenance</th>\n",
       "      <th>title</th>\n",
       "      <th>uri</th>\n",
       "      <th>id</th>\n",
       "      <th>representative_latitude</th>\n",
       "      <th>representative_longitude</th>\n",
       "      <th>bounding_box_wkt</th>\n",
       "    </tr>\n",
       "  </thead>\n",
       "  <tbody>\n",
       "    <tr>\n",
       "      <th>0</th>\n",
       "      <td>2010-06-24T14:11:06Z</td>\n",
       "      <td>The ancient region known to the Romans as \"Gal...</td>\n",
       "      <td>&lt;p&gt;The Barrington Atlas Directory notes: FRA&lt;/p&gt;</td>\n",
       "      <td>Barrington Atlas: BAtlas 1 D1 Gallia</td>\n",
       "      <td>Gallia</td>\n",
       "      <td>https://pleiades.stoa.org/places/993</td>\n",
       "      <td>993</td>\n",
       "      <td>46.705437</td>\n",
       "      <td>1.013706</td>\n",
       "      <td>POLYGON ((8.672222 42.4395125, 8.672222 51.981...</td>\n",
       "    </tr>\n",
       "    <tr>\n",
       "      <th>1</th>\n",
       "      <td>2020-01-10T20:52:00Z</td>\n",
       "      <td>A Roman house in Pompeii (I, 6, 15), also know...</td>\n",
       "      <td>&lt;p&gt;The house was excavated in 1913 and 1914. T...</td>\n",
       "      <td>Pleiades</td>\n",
       "      <td>House of the Ceii</td>\n",
       "      <td>https://pleiades.stoa.org/places/999909607</td>\n",
       "      <td>999909607</td>\n",
       "      <td>40.750010</td>\n",
       "      <td>14.489506</td>\n",
       "      <td>POLYGON ((14.4895058 40.7500099, 14.4895058 40...</td>\n",
       "    </tr>\n",
       "    <tr>\n",
       "      <th>2</th>\n",
       "      <td>2015-05-28T11:48:45Z</td>\n",
       "      <td>The so-called \"House of the Lararium of Achill...</td>\n",
       "      <td>NaN</td>\n",
       "      <td>Pleiades</td>\n",
       "      <td>House of the Lararium of Achilles</td>\n",
       "      <td>https://pleiades.stoa.org/places/999909608</td>\n",
       "      <td>999909608</td>\n",
       "      <td>40.750362</td>\n",
       "      <td>14.489286</td>\n",
       "      <td>POLYGON ((14.489286 40.750362, 14.489286 40.75...</td>\n",
       "    </tr>\n",
       "    <tr>\n",
       "      <th>3</th>\n",
       "      <td>2020-03-20T15:26:53Z</td>\n",
       "      <td>A necropolis with inhumations dating to the fi...</td>\n",
       "      <td>&lt;p&gt;A necropolis located close to Monte Bibele ...</td>\n",
       "      <td>Pleiades</td>\n",
       "      <td>Monte Tamburino necropolis</td>\n",
       "      <td>https://pleiades.stoa.org/places/999917206</td>\n",
       "      <td>999917206</td>\n",
       "      <td>44.272322</td>\n",
       "      <td>11.375880</td>\n",
       "      <td>POLYGON ((11.3758803 44.2723222, 11.3758803 44...</td>\n",
       "    </tr>\n",
       "    <tr>\n",
       "      <th>4</th>\n",
       "      <td>2018-05-30T03:08:22Z</td>\n",
       "      <td>The megalithic defensive circuit of Rusellae d...</td>\n",
       "      <td>NaN</td>\n",
       "      <td>Pleiades</td>\n",
       "      <td>Circuit wall of Rusellae</td>\n",
       "      <td>https://pleiades.stoa.org/places/999951524</td>\n",
       "      <td>999951524</td>\n",
       "      <td>42.829089</td>\n",
       "      <td>11.163588</td>\n",
       "      <td>POLYGON ((11.1635884 42.8290888, 11.1635884 42...</td>\n",
       "    </tr>\n",
       "  </tbody>\n",
       "</table>\n",
       "</div>"
      ],
      "text/plain": [
       "                created                                        description  \\\n",
       "0  2010-06-24T14:11:06Z  The ancient region known to the Romans as \"Gal...   \n",
       "1  2020-01-10T20:52:00Z  A Roman house in Pompeii (I, 6, 15), also know...   \n",
       "2  2015-05-28T11:48:45Z  The so-called \"House of the Lararium of Achill...   \n",
       "3  2020-03-20T15:26:53Z  A necropolis with inhumations dating to the fi...   \n",
       "4  2018-05-30T03:08:22Z  The megalithic defensive circuit of Rusellae d...   \n",
       "\n",
       "                                             details  \\\n",
       "0   <p>The Barrington Atlas Directory notes: FRA</p>   \n",
       "1  <p>The house was excavated in 1913 and 1914. T...   \n",
       "2                                                NaN   \n",
       "3  <p>A necropolis located close to Monte Bibele ...   \n",
       "4                                                NaN   \n",
       "\n",
       "                             provenance                              title  \\\n",
       "0  Barrington Atlas: BAtlas 1 D1 Gallia                             Gallia   \n",
       "1                              Pleiades                  House of the Ceii   \n",
       "2                              Pleiades  House of the Lararium of Achilles   \n",
       "3                              Pleiades         Monte Tamburino necropolis   \n",
       "4                              Pleiades           Circuit wall of Rusellae   \n",
       "\n",
       "                                          uri         id  \\\n",
       "0        https://pleiades.stoa.org/places/993        993   \n",
       "1  https://pleiades.stoa.org/places/999909607  999909607   \n",
       "2  https://pleiades.stoa.org/places/999909608  999909608   \n",
       "3  https://pleiades.stoa.org/places/999917206  999917206   \n",
       "4  https://pleiades.stoa.org/places/999951524  999951524   \n",
       "\n",
       "   representative_latitude  representative_longitude  \\\n",
       "0                46.705437                  1.013706   \n",
       "1                40.750010                 14.489506   \n",
       "2                40.750362                 14.489286   \n",
       "3                44.272322                 11.375880   \n",
       "4                42.829089                 11.163588   \n",
       "\n",
       "                                    bounding_box_wkt  \n",
       "0  POLYGON ((8.672222 42.4395125, 8.672222 51.981...  \n",
       "1  POLYGON ((14.4895058 40.7500099, 14.4895058 40...  \n",
       "2  POLYGON ((14.489286 40.750362, 14.489286 40.75...  \n",
       "3  POLYGON ((11.3758803 44.2723222, 11.3758803 44...  \n",
       "4  POLYGON ((11.1635884 42.8290888, 11.1635884 42...  "
      ]
     },
     "execution_count": 119,
     "metadata": {},
     "output_type": "execute_result"
    }
   ],
   "source": [
    "# load and preview places DataFrame\n",
    "places_df = pd.read_csv('places.csv')\n",
    "places_df.head()"
   ]
  },
  {
   "cell_type": "code",
   "execution_count": 120,
   "metadata": {
    "id": "OUfxtGYVL7WQ"
   },
   "outputs": [
    {
     "data": {
      "text/html": [
       "<div>\n",
       "<style scoped>\n",
       "    .dataframe tbody tr th:only-of-type {\n",
       "        vertical-align: middle;\n",
       "    }\n",
       "\n",
       "    .dataframe tbody tr th {\n",
       "        vertical-align: top;\n",
       "    }\n",
       "\n",
       "    .dataframe thead th {\n",
       "        text-align: right;\n",
       "    }\n",
       "</style>\n",
       "<table border=\"1\" class=\"dataframe\">\n",
       "  <thead>\n",
       "    <tr style=\"text-align: right;\">\n",
       "      <th></th>\n",
       "      <th>created</th>\n",
       "      <th>description</th>\n",
       "      <th>details</th>\n",
       "      <th>provenance</th>\n",
       "      <th>title</th>\n",
       "      <th>uri</th>\n",
       "      <th>id</th>\n",
       "      <th>place_id</th>\n",
       "      <th>name_type</th>\n",
       "      <th>language_tag</th>\n",
       "      <th>attested_form</th>\n",
       "      <th>romanized_form_1</th>\n",
       "      <th>romanized_form_2</th>\n",
       "      <th>romanized_form_3</th>\n",
       "      <th>association_certainty</th>\n",
       "      <th>transcription_accuracy</th>\n",
       "      <th>transcription_completeness</th>\n",
       "      <th>year_after_which</th>\n",
       "      <th>year_before_which</th>\n",
       "    </tr>\n",
       "  </thead>\n",
       "  <tbody>\n",
       "    <tr>\n",
       "      <th>0</th>\n",
       "      <td>2010-06-24T14:11:06Z</td>\n",
       "      <td>NaN</td>\n",
       "      <td>NaN</td>\n",
       "      <td>Barrington Atlas: BAtlas 1 D1 Gallia</td>\n",
       "      <td>Gallia</td>\n",
       "      <td>https://pleiades.stoa.org/places/993/gallia</td>\n",
       "      <td>gallia</td>\n",
       "      <td>993</td>\n",
       "      <td>geographic</td>\n",
       "      <td>NaN</td>\n",
       "      <td>NaN</td>\n",
       "      <td>Gallia</td>\n",
       "      <td>NaN</td>\n",
       "      <td>NaN</td>\n",
       "      <td>certain</td>\n",
       "      <td>accurate</td>\n",
       "      <td>complete</td>\n",
       "      <td>NaN</td>\n",
       "      <td>NaN</td>\n",
       "    </tr>\n",
       "    <tr>\n",
       "      <th>1</th>\n",
       "      <td>2010-06-24T14:11:07Z</td>\n",
       "      <td>NaN</td>\n",
       "      <td>NaN</td>\n",
       "      <td>Barrington Atlas: BAtlas 1 D1 Gallia</td>\n",
       "      <td>Galli</td>\n",
       "      <td>https://pleiades.stoa.org/places/993/galli</td>\n",
       "      <td>galli</td>\n",
       "      <td>993</td>\n",
       "      <td>geographic</td>\n",
       "      <td>NaN</td>\n",
       "      <td>NaN</td>\n",
       "      <td>Galli</td>\n",
       "      <td>NaN</td>\n",
       "      <td>NaN</td>\n",
       "      <td>certain</td>\n",
       "      <td>accurate</td>\n",
       "      <td>complete</td>\n",
       "      <td>NaN</td>\n",
       "      <td>NaN</td>\n",
       "    </tr>\n",
       "    <tr>\n",
       "      <th>2</th>\n",
       "      <td>2015-06-23T17:19:22Z</td>\n",
       "      <td>NaN</td>\n",
       "      <td>NaN</td>\n",
       "      <td>Pleiades</td>\n",
       "      <td>House of the Ceii</td>\n",
       "      <td>https://pleiades.stoa.org/places/999909607/nam...</td>\n",
       "      <td>name.2015-06-23.9071239510</td>\n",
       "      <td>999909607</td>\n",
       "      <td>geographic</td>\n",
       "      <td>en</td>\n",
       "      <td>House of the Ceii</td>\n",
       "      <td>House of the Ceii</td>\n",
       "      <td>NaN</td>\n",
       "      <td>NaN</td>\n",
       "      <td>certain</td>\n",
       "      <td>accurate</td>\n",
       "      <td>complete</td>\n",
       "      <td>1700.0</td>\n",
       "      <td>2100.0</td>\n",
       "    </tr>\n",
       "    <tr>\n",
       "      <th>3</th>\n",
       "      <td>2017-06-26T23:54:15Z</td>\n",
       "      <td>NaN</td>\n",
       "      <td>NaN</td>\n",
       "      <td>Pleiades</td>\n",
       "      <td>Casa dei Ceii</td>\n",
       "      <td>https://pleiades.stoa.org/places/999909607/nam...</td>\n",
       "      <td>name.2017-06-26.2201864114</td>\n",
       "      <td>999909607</td>\n",
       "      <td>geographic</td>\n",
       "      <td>it</td>\n",
       "      <td>Casa dei Ceii</td>\n",
       "      <td>Casa dei Ceii</td>\n",
       "      <td>NaN</td>\n",
       "      <td>NaN</td>\n",
       "      <td>certain</td>\n",
       "      <td>accurate</td>\n",
       "      <td>complete</td>\n",
       "      <td>1700.0</td>\n",
       "      <td>2100.0</td>\n",
       "    </tr>\n",
       "    <tr>\n",
       "      <th>4</th>\n",
       "      <td>2020-12-26T17:59:50Z</td>\n",
       "      <td>NaN</td>\n",
       "      <td>NaN</td>\n",
       "      <td>Pleiades</td>\n",
       "      <td>House of L. Ceius Secundus</td>\n",
       "      <td>https://pleiades.stoa.org/places/999909607/hou...</td>\n",
       "      <td>house-of-l-ceius-secundus</td>\n",
       "      <td>999909607</td>\n",
       "      <td>geographic</td>\n",
       "      <td>en</td>\n",
       "      <td>House of L. Ceius Secundus</td>\n",
       "      <td>House of L. Ceius Secundus</td>\n",
       "      <td>NaN</td>\n",
       "      <td>NaN</td>\n",
       "      <td>certain</td>\n",
       "      <td>accurate</td>\n",
       "      <td>complete</td>\n",
       "      <td>NaN</td>\n",
       "      <td>NaN</td>\n",
       "    </tr>\n",
       "  </tbody>\n",
       "</table>\n",
       "</div>"
      ],
      "text/plain": [
       "                created description details  \\\n",
       "0  2010-06-24T14:11:06Z         NaN     NaN   \n",
       "1  2010-06-24T14:11:07Z         NaN     NaN   \n",
       "2  2015-06-23T17:19:22Z         NaN     NaN   \n",
       "3  2017-06-26T23:54:15Z         NaN     NaN   \n",
       "4  2020-12-26T17:59:50Z         NaN     NaN   \n",
       "\n",
       "                             provenance                       title  \\\n",
       "0  Barrington Atlas: BAtlas 1 D1 Gallia                      Gallia   \n",
       "1  Barrington Atlas: BAtlas 1 D1 Gallia                       Galli   \n",
       "2                              Pleiades           House of the Ceii   \n",
       "3                              Pleiades               Casa dei Ceii   \n",
       "4                              Pleiades  House of L. Ceius Secundus   \n",
       "\n",
       "                                                 uri  \\\n",
       "0        https://pleiades.stoa.org/places/993/gallia   \n",
       "1         https://pleiades.stoa.org/places/993/galli   \n",
       "2  https://pleiades.stoa.org/places/999909607/nam...   \n",
       "3  https://pleiades.stoa.org/places/999909607/nam...   \n",
       "4  https://pleiades.stoa.org/places/999909607/hou...   \n",
       "\n",
       "                           id   place_id   name_type language_tag  \\\n",
       "0                      gallia        993  geographic          NaN   \n",
       "1                       galli        993  geographic          NaN   \n",
       "2  name.2015-06-23.9071239510  999909607  geographic           en   \n",
       "3  name.2017-06-26.2201864114  999909607  geographic           it   \n",
       "4   house-of-l-ceius-secundus  999909607  geographic           en   \n",
       "\n",
       "                attested_form            romanized_form_1 romanized_form_2  \\\n",
       "0                         NaN                      Gallia              NaN   \n",
       "1                         NaN                       Galli              NaN   \n",
       "2           House of the Ceii           House of the Ceii              NaN   \n",
       "3               Casa dei Ceii               Casa dei Ceii              NaN   \n",
       "4  House of L. Ceius Secundus  House of L. Ceius Secundus              NaN   \n",
       "\n",
       "  romanized_form_3 association_certainty transcription_accuracy  \\\n",
       "0              NaN               certain               accurate   \n",
       "1              NaN               certain               accurate   \n",
       "2              NaN               certain               accurate   \n",
       "3              NaN               certain               accurate   \n",
       "4              NaN               certain               accurate   \n",
       "\n",
       "  transcription_completeness  year_after_which  year_before_which  \n",
       "0                   complete               NaN                NaN  \n",
       "1                   complete               NaN                NaN  \n",
       "2                   complete            1700.0             2100.0  \n",
       "3                   complete            1700.0             2100.0  \n",
       "4                   complete               NaN                NaN  "
      ]
     },
     "execution_count": 120,
     "metadata": {},
     "output_type": "execute_result"
    }
   ],
   "source": [
    "# load and preview names DataFrame\n",
    "names_df = pd.read_csv('names.csv')\n",
    "names_df.head()"
   ]
  },
  {
   "cell_type": "code",
   "execution_count": 121,
   "metadata": {
    "id": "GBd8KpGkMJJa"
   },
   "outputs": [
    {
     "data": {
      "text/html": [
       "<div>\n",
       "<style scoped>\n",
       "    .dataframe tbody tr th:only-of-type {\n",
       "        vertical-align: middle;\n",
       "    }\n",
       "\n",
       "    .dataframe tbody tr th {\n",
       "        vertical-align: top;\n",
       "    }\n",
       "\n",
       "    .dataframe thead th {\n",
       "        text-align: right;\n",
       "    }\n",
       "</style>\n",
       "<table border=\"1\" class=\"dataframe\">\n",
       "  <thead>\n",
       "    <tr style=\"text-align: right;\">\n",
       "      <th></th>\n",
       "      <th>created</th>\n",
       "      <th>description</th>\n",
       "      <th>details</th>\n",
       "      <th>provenance</th>\n",
       "      <th>title</th>\n",
       "      <th>uri</th>\n",
       "      <th>id</th>\n",
       "      <th>representative_latitude</th>\n",
       "      <th>representative_longitude</th>\n",
       "      <th>bounding_box_wkt</th>\n",
       "    </tr>\n",
       "  </thead>\n",
       "  <tbody>\n",
       "    <tr>\n",
       "      <th>21483</th>\n",
       "      <td>2018-06-07T19:48:13Z</td>\n",
       "      <td>The capital of the Roman Republic and Empire.</td>\n",
       "      <td>&lt;p&gt;The Barrington Atlas Directory notes: Roma/...</td>\n",
       "      <td>Barrington Atlas: BAtlas 43 B2 Roma</td>\n",
       "      <td>Roma</td>\n",
       "      <td>https://pleiades.stoa.org/places/423025</td>\n",
       "      <td>423025</td>\n",
       "      <td>41.891775</td>\n",
       "      <td>12.486137</td>\n",
       "      <td>POLYGON ((12.486137 41.891775, 12.486137 41.89...</td>\n",
       "    </tr>\n",
       "  </tbody>\n",
       "</table>\n",
       "</div>"
      ],
      "text/plain": [
       "                    created                                    description  \\\n",
       "21483  2018-06-07T19:48:13Z  The capital of the Roman Republic and Empire.   \n",
       "\n",
       "                                                 details  \\\n",
       "21483  <p>The Barrington Atlas Directory notes: Roma/...   \n",
       "\n",
       "                                provenance title  \\\n",
       "21483  Barrington Atlas: BAtlas 43 B2 Roma  Roma   \n",
       "\n",
       "                                           uri      id  \\\n",
       "21483  https://pleiades.stoa.org/places/423025  423025   \n",
       "\n",
       "       representative_latitude  representative_longitude  \\\n",
       "21483                41.891775                 12.486137   \n",
       "\n",
       "                                        bounding_box_wkt  \n",
       "21483  POLYGON ((12.486137 41.891775, 12.486137 41.89...  "
      ]
     },
     "execution_count": 121,
     "metadata": {},
     "output_type": "execute_result"
    }
   ],
   "source": [
    "# quick example: find 'Roma' in places DataFrame\n",
    "places_df.loc[places_df['title'] == 'Roma']"
   ]
  },
  {
   "cell_type": "code",
   "execution_count": 122,
   "metadata": {
    "id": "5sZJttfMMddx"
   },
   "outputs": [
    {
     "data": {
      "text/html": [
       "<div>\n",
       "<style scoped>\n",
       "    .dataframe tbody tr th:only-of-type {\n",
       "        vertical-align: middle;\n",
       "    }\n",
       "\n",
       "    .dataframe tbody tr th {\n",
       "        vertical-align: top;\n",
       "    }\n",
       "\n",
       "    .dataframe thead th {\n",
       "        text-align: right;\n",
       "    }\n",
       "</style>\n",
       "<table border=\"1\" class=\"dataframe\">\n",
       "  <thead>\n",
       "    <tr style=\"text-align: right;\">\n",
       "      <th></th>\n",
       "      <th>created</th>\n",
       "      <th>description</th>\n",
       "      <th>details</th>\n",
       "      <th>provenance</th>\n",
       "      <th>title</th>\n",
       "      <th>uri</th>\n",
       "      <th>id</th>\n",
       "      <th>place_id</th>\n",
       "      <th>name_type</th>\n",
       "      <th>language_tag</th>\n",
       "      <th>attested_form</th>\n",
       "      <th>romanized_form_1</th>\n",
       "      <th>romanized_form_2</th>\n",
       "      <th>romanized_form_3</th>\n",
       "      <th>association_certainty</th>\n",
       "      <th>transcription_accuracy</th>\n",
       "      <th>transcription_completeness</th>\n",
       "      <th>year_after_which</th>\n",
       "      <th>year_before_which</th>\n",
       "    </tr>\n",
       "  </thead>\n",
       "  <tbody>\n",
       "    <tr>\n",
       "      <th>20810</th>\n",
       "      <td>2012-02-04T23:39:48Z</td>\n",
       "      <td>The modern English appellation</td>\n",
       "      <td>NaN</td>\n",
       "      <td>Barrington Atlas: BAtlas 43 B2 Roma</td>\n",
       "      <td>Rome</td>\n",
       "      <td>https://pleiades.stoa.org/places/423025/rome</td>\n",
       "      <td>rome</td>\n",
       "      <td>423025</td>\n",
       "      <td>geographic</td>\n",
       "      <td>en</td>\n",
       "      <td>Rome</td>\n",
       "      <td>Rome</td>\n",
       "      <td>NaN</td>\n",
       "      <td>NaN</td>\n",
       "      <td>certain</td>\n",
       "      <td>accurate</td>\n",
       "      <td>complete</td>\n",
       "      <td>1700.0</td>\n",
       "      <td>2100.0</td>\n",
       "    </tr>\n",
       "  </tbody>\n",
       "</table>\n",
       "</div>"
      ],
      "text/plain": [
       "                    created                     description details  \\\n",
       "20810  2012-02-04T23:39:48Z  The modern English appellation     NaN   \n",
       "\n",
       "                                provenance title  \\\n",
       "20810  Barrington Atlas: BAtlas 43 B2 Roma  Rome   \n",
       "\n",
       "                                                uri    id  place_id  \\\n",
       "20810  https://pleiades.stoa.org/places/423025/rome  rome    423025   \n",
       "\n",
       "        name_type language_tag attested_form romanized_form_1  \\\n",
       "20810  geographic           en          Rome             Rome   \n",
       "\n",
       "      romanized_form_2 romanized_form_3 association_certainty  \\\n",
       "20810              NaN              NaN               certain   \n",
       "\n",
       "      transcription_accuracy transcription_completeness  year_after_which  \\\n",
       "20810               accurate                   complete            1700.0   \n",
       "\n",
       "       year_before_which  \n",
       "20810             2100.0  "
      ]
     },
     "execution_count": 122,
     "metadata": {},
     "output_type": "execute_result"
    }
   ],
   "source": [
    "# quick example: find 'Rome' in names DataFrame\n",
    "names_df.loc[names_df['romanized_form_1'] == 'Rome']"
   ]
  },
  {
   "cell_type": "markdown",
   "metadata": {
    "id": "xNRABy-1cQeD"
   },
   "source": [
    "## Extract data from Pleiades data\n",
    "For each location in we identified from the text, we will extract extract the longitude, latitude, and a description. First we need to find each location in the Pleiades data."
   ]
  },
  {
   "cell_type": "code",
   "execution_count": 123,
   "metadata": {
    "id": "liMoqMCrMuj0"
   },
   "outputs": [],
   "source": [
    "def get_pleiades_id(location):\n",
    "    \"\"\"\n",
    "    Iterates through all of the possible names in the names.csv file\n",
    "    Returns None if no matched names\n",
    "    \"\"\"\n",
    "    name_row = names_df.loc[names_df['attested_form'] == location]\n",
    "    if len(name_row) == 1:\n",
    "        return int(name_row.place_id.iloc[0])\n",
    "    else:\n",
    "        name_row = names_df.loc[names_df['romanized_form_1'] == location]\n",
    "        if len(name_row) == 1:\n",
    "            return int(name_row.place_id.iloc[0])\n",
    "        else:\n",
    "            name_row = names_df.loc[names_df['romanized_form_2'] == location]\n",
    "            if len(name_row) == 1:\n",
    "                return int(name_row.place_id.iloc[0])\n",
    "            else:\n",
    "                name_row = names_df.loc[names_df['romanized_form_3'] == location]\n",
    "                if len(name_row) == 1:\n",
    "                    return int(name_row.place_id.iloc[0])\n",
    "                else:\n",
    "                    return None"
   ]
  },
  {
   "cell_type": "code",
   "execution_count": 124,
   "metadata": {
    "id": "p7Myaj-ANa1K"
   },
   "outputs": [],
   "source": [
    "# apply the above founction to each row in our location count DataFrame and then\n",
    "# add a new colum with the Pleiades id\n",
    "location_count_df['pleiades_id'] = location_count_df['place_name'].apply(get_pleiades_id)"
   ]
  },
  {
   "cell_type": "code",
   "execution_count": 125,
   "metadata": {
    "id": "ot1yzqFXN15c"
   },
   "outputs": [
    {
     "data": {
      "text/html": [
       "<div>\n",
       "<style scoped>\n",
       "    .dataframe tbody tr th:only-of-type {\n",
       "        vertical-align: middle;\n",
       "    }\n",
       "\n",
       "    .dataframe tbody tr th {\n",
       "        vertical-align: top;\n",
       "    }\n",
       "\n",
       "    .dataframe thead th {\n",
       "        text-align: right;\n",
       "    }\n",
       "</style>\n",
       "<table border=\"1\" class=\"dataframe\">\n",
       "  <thead>\n",
       "    <tr style=\"text-align: right;\">\n",
       "      <th></th>\n",
       "      <th>place_name</th>\n",
       "      <th>count</th>\n",
       "      <th>pleiades_id</th>\n",
       "    </tr>\n",
       "  </thead>\n",
       "  <tbody>\n",
       "    <tr>\n",
       "      <th>0</th>\n",
       "      <td>Armenia</td>\n",
       "      <td>7</td>\n",
       "      <td>NaN</td>\n",
       "    </tr>\n",
       "    <tr>\n",
       "      <th>1</th>\n",
       "      <td>Syria</td>\n",
       "      <td>2</td>\n",
       "      <td>NaN</td>\n",
       "    </tr>\n",
       "    <tr>\n",
       "      <th>2</th>\n",
       "      <td>Egypt</td>\n",
       "      <td>2</td>\n",
       "      <td>NaN</td>\n",
       "    </tr>\n",
       "    <tr>\n",
       "      <th>3</th>\n",
       "      <td>Rome</td>\n",
       "      <td>6</td>\n",
       "      <td>423025.0</td>\n",
       "    </tr>\n",
       "    <tr>\n",
       "      <th>4</th>\n",
       "      <td>Nice</td>\n",
       "      <td>2</td>\n",
       "      <td>NaN</td>\n",
       "    </tr>\n",
       "  </tbody>\n",
       "</table>\n",
       "</div>"
      ],
      "text/plain": [
       "  place_name  count  pleiades_id\n",
       "0    Armenia      7          NaN\n",
       "1      Syria      2          NaN\n",
       "2      Egypt      2          NaN\n",
       "3       Rome      6     423025.0\n",
       "4       Nice      2          NaN"
      ]
     },
     "execution_count": 125,
     "metadata": {},
     "output_type": "execute_result"
    }
   ],
   "source": [
    "# preview new location count DataFrame.\n",
    "# the NaN means we were unable to find the location in the Pleiades data.\n",
    "location_count_df.head()"
   ]
  },
  {
   "cell_type": "code",
   "execution_count": 126,
   "metadata": {
    "id": "HRvsWJAmN6H8"
   },
   "outputs": [],
   "source": [
    "# we can drop the rows with NaN values\n",
    "location_count_df = location_count_df.dropna().reset_index(drop=True)"
   ]
  },
  {
   "cell_type": "code",
   "execution_count": 127,
   "metadata": {
    "id": "Cw5FlATnO2VS"
   },
   "outputs": [
    {
     "data": {
      "text/html": [
       "<div>\n",
       "<style scoped>\n",
       "    .dataframe tbody tr th:only-of-type {\n",
       "        vertical-align: middle;\n",
       "    }\n",
       "\n",
       "    .dataframe tbody tr th {\n",
       "        vertical-align: top;\n",
       "    }\n",
       "\n",
       "    .dataframe thead th {\n",
       "        text-align: right;\n",
       "    }\n",
       "</style>\n",
       "<table border=\"1\" class=\"dataframe\">\n",
       "  <thead>\n",
       "    <tr style=\"text-align: right;\">\n",
       "      <th></th>\n",
       "      <th>place_name</th>\n",
       "      <th>count</th>\n",
       "      <th>pleiades_id</th>\n",
       "    </tr>\n",
       "  </thead>\n",
       "  <tbody>\n",
       "    <tr>\n",
       "      <th>0</th>\n",
       "      <td>Rome</td>\n",
       "      <td>6</td>\n",
       "      <td>423025.0</td>\n",
       "    </tr>\n",
       "    <tr>\n",
       "      <th>1</th>\n",
       "      <td>Pontus</td>\n",
       "      <td>2</td>\n",
       "      <td>857287.0</td>\n",
       "    </tr>\n",
       "    <tr>\n",
       "      <th>2</th>\n",
       "      <td>Siwas</td>\n",
       "      <td>1</td>\n",
       "      <td>629075.0</td>\n",
       "    </tr>\n",
       "    <tr>\n",
       "      <th>3</th>\n",
       "      <td>Trebizond</td>\n",
       "      <td>1</td>\n",
       "      <td>857359.0</td>\n",
       "    </tr>\n",
       "    <tr>\n",
       "      <th>4</th>\n",
       "      <td>Nicomedia</td>\n",
       "      <td>1</td>\n",
       "      <td>511337.0</td>\n",
       "    </tr>\n",
       "  </tbody>\n",
       "</table>\n",
       "</div>"
      ],
      "text/plain": [
       "  place_name  count  pleiades_id\n",
       "0       Rome      6     423025.0\n",
       "1     Pontus      2     857287.0\n",
       "2      Siwas      1     629075.0\n",
       "3  Trebizond      1     857359.0\n",
       "4  Nicomedia      1     511337.0"
      ]
     },
     "execution_count": 127,
     "metadata": {},
     "output_type": "execute_result"
    }
   ],
   "source": [
    "# preview updated location count DataFrame\n",
    "location_count_df.head()"
   ]
  },
  {
   "cell_type": "markdown",
   "metadata": {
    "id": "I_HTV57PcuZz"
   },
   "source": [
    "Now that we have a `pleiades_id` for each location from names.csv, we can use that information to get more data from the places.csv. It would be possible to combine the functions below into one, but I have seperated them out for clarity."
   ]
  },
  {
   "cell_type": "code",
   "execution_count": 128,
   "metadata": {
    "id": "Bxf8pDtjgYHY"
   },
   "outputs": [],
   "source": [
    "def get_description(pleiades_id):\n",
    "    \"\"\"return description from a pleiades id\"\"\"\n",
    "    places_row = places_df.loc[places_df['id'] == pleiades_id]\n",
    "    if len(places_row) == 1:\n",
    "        return places_row.description.iloc[0]"
   ]
  },
  {
   "cell_type": "code",
   "execution_count": 129,
   "metadata": {
    "id": "m0oV9bldghzs"
   },
   "outputs": [],
   "source": [
    "def get_uri(pleiades_id):\n",
    "    \"\"\"return uri from a pleiades id\"\"\"\n",
    "    places_row = places_df.loc[places_df['id'] == pleiades_id]\n",
    "    if len(places_row) == 1:\n",
    "        return places_row.uri.iloc[0]"
   ]
  },
  {
   "cell_type": "code",
   "execution_count": 130,
   "metadata": {
    "id": "kMyIbdJEO5es"
   },
   "outputs": [],
   "source": [
    "def get_latitude(pleiades_id):\n",
    "    \"\"\"return latitude from a pleiades id\"\"\"\n",
    "    places_row = places_df.loc[places_df['id'] == pleiades_id]\n",
    "    if len(places_row) == 1:\n",
    "        return places_row.representative_latitude.iloc[0]"
   ]
  },
  {
   "cell_type": "code",
   "execution_count": 131,
   "metadata": {
    "id": "85k0-1CJP9Et"
   },
   "outputs": [],
   "source": [
    "# Challenge: Can you write a function to get the longitude data?\n",
    "def get_longitude(pleiades_id):\n",
    "    \"\"\"return longitude from a pleiades id\"\"\"\n",
    "    places_row = places_df.loc[places_df['id'] == pleiades_id]\n",
    "    if len(places_row) == 1:\n",
    "        return places_row.representative_longitude.iloc[0]\n",
    "\n",
    "\n"
   ]
  },
  {
   "cell_type": "code",
   "execution_count": 132,
   "metadata": {
    "id": "BzV32_kjhA73"
   },
   "outputs": [],
   "source": [
    "# add new column for description\n",
    "location_count_df['description'] = location_count_df['pleiades_id'].apply(get_description)"
   ]
  },
  {
   "cell_type": "code",
   "execution_count": 133,
   "metadata": {
    "id": "nnxXBkIDhRCQ"
   },
   "outputs": [],
   "source": [
    "# Challenge: can you write the code to add a colmn for the uri?\n",
    "location_count_df['uri'] = location_count_df['pleiades_id'].apply(get_uri)"
   ]
  },
  {
   "cell_type": "code",
   "execution_count": 134,
   "metadata": {
    "id": "6QxWuRo3QaV9"
   },
   "outputs": [],
   "source": [
    "# add new column for latitude\n",
    "location_count_df['latitude'] = location_count_df['pleiades_id'].apply(get_latitude)"
   ]
  },
  {
   "cell_type": "code",
   "execution_count": 135,
   "metadata": {
    "id": "Ado4zh2qQkm0"
   },
   "outputs": [],
   "source": [
    "# Challenge: can you write the code to add a colmn for the longitude?\n",
    "location_count_df['longitude'] = location_count_df['pleiades_id'].apply(get_longitude)"
   ]
  },
  {
   "cell_type": "markdown",
   "metadata": {
    "id": "2523qXQRiDMV"
   },
   "source": [
    "Now that we have all the data we need, I am going to make a few little changes to the DataFrame."
   ]
  },
  {
   "cell_type": "code",
   "execution_count": 136,
   "metadata": {
    "id": "2w0BBrQLiLCy"
   },
   "outputs": [],
   "source": [
    "# now that we have a uri we don't need the pleiades_id\n",
    "location_count_df = location_count_df.drop(columns=['pleiades_id'])"
   ]
  },
  {
   "cell_type": "code",
   "execution_count": 137,
   "metadata": {
    "id": "oAcuS3FJhzgO"
   },
   "outputs": [],
   "source": [
    "# for our purposes we don't really need an index, so I will make the place_name column the index\n",
    "location_count_df.set_index('place_name', inplace=True)"
   ]
  },
  {
   "cell_type": "code",
   "execution_count": 138,
   "metadata": {
    "id": "sv3-iw1ummBm"
   },
   "outputs": [
    {
     "data": {
      "text/html": [
       "<div>\n",
       "<style scoped>\n",
       "    .dataframe tbody tr th:only-of-type {\n",
       "        vertical-align: middle;\n",
       "    }\n",
       "\n",
       "    .dataframe tbody tr th {\n",
       "        vertical-align: top;\n",
       "    }\n",
       "\n",
       "    .dataframe thead th {\n",
       "        text-align: right;\n",
       "    }\n",
       "</style>\n",
       "<table border=\"1\" class=\"dataframe\">\n",
       "  <thead>\n",
       "    <tr style=\"text-align: right;\">\n",
       "      <th></th>\n",
       "      <th>count</th>\n",
       "      <th>description</th>\n",
       "      <th>uri</th>\n",
       "      <th>latitude</th>\n",
       "      <th>longitude</th>\n",
       "    </tr>\n",
       "    <tr>\n",
       "      <th>place_name</th>\n",
       "      <th></th>\n",
       "      <th></th>\n",
       "      <th></th>\n",
       "      <th></th>\n",
       "      <th></th>\n",
       "    </tr>\n",
       "  </thead>\n",
       "  <tbody>\n",
       "    <tr>\n",
       "      <th>Rome</th>\n",
       "      <td>6</td>\n",
       "      <td>The capital of the Roman Republic and Empire.</td>\n",
       "      <td>https://pleiades.stoa.org/places/423025</td>\n",
       "      <td>41.891775</td>\n",
       "      <td>12.486137</td>\n",
       "    </tr>\n",
       "    <tr>\n",
       "      <th>Pontus</th>\n",
       "      <td>2</td>\n",
       "      <td>A region of northeastern Anatolia consisting o...</td>\n",
       "      <td>https://pleiades.stoa.org/places/857287</td>\n",
       "      <td>43.078685</td>\n",
       "      <td>34.742551</td>\n",
       "    </tr>\n",
       "    <tr>\n",
       "      <th>Siwas</th>\n",
       "      <td>1</td>\n",
       "      <td>An ancient place, cited: BAtlas 64 E1 Sebastei...</td>\n",
       "      <td>https://pleiades.stoa.org/places/629075</td>\n",
       "      <td>39.749020</td>\n",
       "      <td>37.016607</td>\n",
       "    </tr>\n",
       "    <tr>\n",
       "      <th>Trebizond</th>\n",
       "      <td>1</td>\n",
       "      <td>An ancient settlement of Asia Minor on the sou...</td>\n",
       "      <td>https://pleiades.stoa.org/places/857359</td>\n",
       "      <td>41.004269</td>\n",
       "      <td>39.723312</td>\n",
       "    </tr>\n",
       "    <tr>\n",
       "      <th>Nicomedia</th>\n",
       "      <td>1</td>\n",
       "      <td>Nicomedia was founded in 712/11 BC as a Megari...</td>\n",
       "      <td>https://pleiades.stoa.org/places/511337</td>\n",
       "      <td>40.765191</td>\n",
       "      <td>29.919887</td>\n",
       "    </tr>\n",
       "    <tr>\n",
       "      <th>Ancyra</th>\n",
       "      <td>1</td>\n",
       "      <td>An ancient place, cited: BAtlas 63 B1 Ancyra</td>\n",
       "      <td>https://pleiades.stoa.org/places/619103</td>\n",
       "      <td>39.943793</td>\n",
       "      <td>32.859333</td>\n",
       "    </tr>\n",
       "    <tr>\n",
       "      <th>Constantinople</th>\n",
       "      <td>2</td>\n",
       "      <td>Capital city of the Eastern Roman Empire, the ...</td>\n",
       "      <td>https://pleiades.stoa.org/places/520998</td>\n",
       "      <td>41.006371</td>\n",
       "      <td>28.965352</td>\n",
       "    </tr>\n",
       "    <tr>\n",
       "      <th>Melitene</th>\n",
       "      <td>1</td>\n",
       "      <td>Melitene was an ancient city on the Tohma Rive...</td>\n",
       "      <td>https://pleiades.stoa.org/places/629040</td>\n",
       "      <td>38.382217</td>\n",
       "      <td>38.361152</td>\n",
       "    </tr>\n",
       "    <tr>\n",
       "      <th>Macedonia</th>\n",
       "      <td>1</td>\n",
       "      <td>The region of ancient Macedonia in the Balkan ...</td>\n",
       "      <td>https://pleiades.stoa.org/places/491656</td>\n",
       "      <td>41.250000</td>\n",
       "      <td>21.750000</td>\n",
       "    </tr>\n",
       "    <tr>\n",
       "      <th>Epirus</th>\n",
       "      <td>1</td>\n",
       "      <td>An ancient region that included northwest part...</td>\n",
       "      <td>https://pleiades.stoa.org/places/530871</td>\n",
       "      <td>39.546484</td>\n",
       "      <td>20.787702</td>\n",
       "    </tr>\n",
       "    <tr>\n",
       "      <th>Sicily</th>\n",
       "      <td>1</td>\n",
       "      <td>Sicily is the largest island in the Mediterran...</td>\n",
       "      <td>https://pleiades.stoa.org/places/462492</td>\n",
       "      <td>37.643297</td>\n",
       "      <td>13.932018</td>\n",
       "    </tr>\n",
       "    <tr>\n",
       "      <th>Milan</th>\n",
       "      <td>1</td>\n",
       "      <td>A Celtic settlement and crossroads, later a We...</td>\n",
       "      <td>https://pleiades.stoa.org/places/383706</td>\n",
       "      <td>45.463746</td>\n",
       "      <td>9.188060</td>\n",
       "    </tr>\n",
       "  </tbody>\n",
       "</table>\n",
       "</div>"
      ],
      "text/plain": [
       "                count                                        description  \\\n",
       "place_name                                                                 \n",
       "Rome                6      The capital of the Roman Republic and Empire.   \n",
       "Pontus              2  A region of northeastern Anatolia consisting o...   \n",
       "Siwas               1  An ancient place, cited: BAtlas 64 E1 Sebastei...   \n",
       "Trebizond           1  An ancient settlement of Asia Minor on the sou...   \n",
       "Nicomedia           1  Nicomedia was founded in 712/11 BC as a Megari...   \n",
       "Ancyra              1       An ancient place, cited: BAtlas 63 B1 Ancyra   \n",
       "Constantinople      2  Capital city of the Eastern Roman Empire, the ...   \n",
       "Melitene            1  Melitene was an ancient city on the Tohma Rive...   \n",
       "Macedonia           1  The region of ancient Macedonia in the Balkan ...   \n",
       "Epirus              1  An ancient region that included northwest part...   \n",
       "Sicily              1  Sicily is the largest island in the Mediterran...   \n",
       "Milan               1  A Celtic settlement and crossroads, later a We...   \n",
       "\n",
       "                                                    uri   latitude  longitude  \n",
       "place_name                                                                     \n",
       "Rome            https://pleiades.stoa.org/places/423025  41.891775  12.486137  \n",
       "Pontus          https://pleiades.stoa.org/places/857287  43.078685  34.742551  \n",
       "Siwas           https://pleiades.stoa.org/places/629075  39.749020  37.016607  \n",
       "Trebizond       https://pleiades.stoa.org/places/857359  41.004269  39.723312  \n",
       "Nicomedia       https://pleiades.stoa.org/places/511337  40.765191  29.919887  \n",
       "Ancyra          https://pleiades.stoa.org/places/619103  39.943793  32.859333  \n",
       "Constantinople  https://pleiades.stoa.org/places/520998  41.006371  28.965352  \n",
       "Melitene        https://pleiades.stoa.org/places/629040  38.382217  38.361152  \n",
       "Macedonia       https://pleiades.stoa.org/places/491656  41.250000  21.750000  \n",
       "Epirus          https://pleiades.stoa.org/places/530871  39.546484  20.787702  \n",
       "Sicily          https://pleiades.stoa.org/places/462492  37.643297  13.932018  \n",
       "Milan           https://pleiades.stoa.org/places/383706  45.463746   9.188060  "
      ]
     },
     "execution_count": 138,
     "metadata": {},
     "output_type": "execute_result"
    }
   ],
   "source": [
    "# final sanity check\n",
    "location_count_df"
   ]
  },
  {
   "cell_type": "markdown",
   "metadata": {
    "id": "scDoF2Ducjjd"
   },
   "source": [
    "## Save location data for further use"
   ]
  },
  {
   "cell_type": "code",
   "execution_count": 141,
   "metadata": {
    "id": "nnACM1L7QyEa"
   },
   "outputs": [],
   "source": [
    "# create path and file name variables\n",
    "path = \"../code\"# <-- set path variable (not necessary for Colab)\n",
    "file_name = \"Gibbon_Chapter_54_Locations\" # <-- set file_name variable"
   ]
  },
  {
   "cell_type": "code",
   "execution_count": 145,
   "metadata": {
    "id": "Uq8zPWQ8RKEf"
   },
   "outputs": [
    {
     "ename": "OSError",
     "evalue": "Cannot save file into a non-existent directory: 'Gibbon_Chapter_54_Locations..'",
     "output_type": "error",
     "traceback": [
      "\u001b[0;31m---------------------------------------------------------------------------\u001b[0m",
      "\u001b[0;31mOSError\u001b[0m                                   Traceback (most recent call last)",
      "Cell \u001b[0;32mIn[145], line 2\u001b[0m\n\u001b[1;32m      1\u001b[0m \u001b[38;5;66;03m# save DataFrame to a .csv file\u001b[39;00m\n\u001b[0;32m----> 2\u001b[0m location_count_df\u001b[38;5;241m.\u001b[39mto_csv(file_name \u001b[38;5;241m+\u001b[39m path)\n",
      "File \u001b[0;32m~/miniconda3/lib/python3.11/site-packages/pandas/core/generic.py:3902\u001b[0m, in \u001b[0;36mNDFrame.to_csv\u001b[0;34m(self, path_or_buf, sep, na_rep, float_format, columns, header, index, index_label, mode, encoding, compression, quoting, quotechar, lineterminator, chunksize, date_format, doublequote, escapechar, decimal, errors, storage_options)\u001b[0m\n\u001b[1;32m   3891\u001b[0m df \u001b[38;5;241m=\u001b[39m \u001b[38;5;28mself\u001b[39m \u001b[38;5;28;01mif\u001b[39;00m \u001b[38;5;28misinstance\u001b[39m(\u001b[38;5;28mself\u001b[39m, ABCDataFrame) \u001b[38;5;28;01melse\u001b[39;00m \u001b[38;5;28mself\u001b[39m\u001b[38;5;241m.\u001b[39mto_frame()\n\u001b[1;32m   3893\u001b[0m formatter \u001b[38;5;241m=\u001b[39m DataFrameFormatter(\n\u001b[1;32m   3894\u001b[0m     frame\u001b[38;5;241m=\u001b[39mdf,\n\u001b[1;32m   3895\u001b[0m     header\u001b[38;5;241m=\u001b[39mheader,\n\u001b[0;32m   (...)\u001b[0m\n\u001b[1;32m   3899\u001b[0m     decimal\u001b[38;5;241m=\u001b[39mdecimal,\n\u001b[1;32m   3900\u001b[0m )\n\u001b[0;32m-> 3902\u001b[0m \u001b[38;5;28;01mreturn\u001b[39;00m DataFrameRenderer(formatter)\u001b[38;5;241m.\u001b[39mto_csv(\n\u001b[1;32m   3903\u001b[0m     path_or_buf,\n\u001b[1;32m   3904\u001b[0m     lineterminator\u001b[38;5;241m=\u001b[39mlineterminator,\n\u001b[1;32m   3905\u001b[0m     sep\u001b[38;5;241m=\u001b[39msep,\n\u001b[1;32m   3906\u001b[0m     encoding\u001b[38;5;241m=\u001b[39mencoding,\n\u001b[1;32m   3907\u001b[0m     errors\u001b[38;5;241m=\u001b[39merrors,\n\u001b[1;32m   3908\u001b[0m     compression\u001b[38;5;241m=\u001b[39mcompression,\n\u001b[1;32m   3909\u001b[0m     quoting\u001b[38;5;241m=\u001b[39mquoting,\n\u001b[1;32m   3910\u001b[0m     columns\u001b[38;5;241m=\u001b[39mcolumns,\n\u001b[1;32m   3911\u001b[0m     index_label\u001b[38;5;241m=\u001b[39mindex_label,\n\u001b[1;32m   3912\u001b[0m     mode\u001b[38;5;241m=\u001b[39mmode,\n\u001b[1;32m   3913\u001b[0m     chunksize\u001b[38;5;241m=\u001b[39mchunksize,\n\u001b[1;32m   3914\u001b[0m     quotechar\u001b[38;5;241m=\u001b[39mquotechar,\n\u001b[1;32m   3915\u001b[0m     date_format\u001b[38;5;241m=\u001b[39mdate_format,\n\u001b[1;32m   3916\u001b[0m     doublequote\u001b[38;5;241m=\u001b[39mdoublequote,\n\u001b[1;32m   3917\u001b[0m     escapechar\u001b[38;5;241m=\u001b[39mescapechar,\n\u001b[1;32m   3918\u001b[0m     storage_options\u001b[38;5;241m=\u001b[39mstorage_options,\n\u001b[1;32m   3919\u001b[0m )\n",
      "File \u001b[0;32m~/miniconda3/lib/python3.11/site-packages/pandas/io/formats/format.py:1152\u001b[0m, in \u001b[0;36mDataFrameRenderer.to_csv\u001b[0;34m(self, path_or_buf, encoding, sep, columns, index_label, mode, compression, quoting, quotechar, lineterminator, chunksize, date_format, doublequote, escapechar, errors, storage_options)\u001b[0m\n\u001b[1;32m   1131\u001b[0m     created_buffer \u001b[38;5;241m=\u001b[39m \u001b[38;5;28;01mFalse\u001b[39;00m\n\u001b[1;32m   1133\u001b[0m csv_formatter \u001b[38;5;241m=\u001b[39m CSVFormatter(\n\u001b[1;32m   1134\u001b[0m     path_or_buf\u001b[38;5;241m=\u001b[39mpath_or_buf,\n\u001b[1;32m   1135\u001b[0m     lineterminator\u001b[38;5;241m=\u001b[39mlineterminator,\n\u001b[0;32m   (...)\u001b[0m\n\u001b[1;32m   1150\u001b[0m     formatter\u001b[38;5;241m=\u001b[39m\u001b[38;5;28mself\u001b[39m\u001b[38;5;241m.\u001b[39mfmt,\n\u001b[1;32m   1151\u001b[0m )\n\u001b[0;32m-> 1152\u001b[0m csv_formatter\u001b[38;5;241m.\u001b[39msave()\n\u001b[1;32m   1154\u001b[0m \u001b[38;5;28;01mif\u001b[39;00m created_buffer:\n\u001b[1;32m   1155\u001b[0m     \u001b[38;5;28;01massert\u001b[39;00m \u001b[38;5;28misinstance\u001b[39m(path_or_buf, StringIO)\n",
      "File \u001b[0;32m~/miniconda3/lib/python3.11/site-packages/pandas/io/formats/csvs.py:247\u001b[0m, in \u001b[0;36mCSVFormatter.save\u001b[0;34m(self)\u001b[0m\n\u001b[1;32m    243\u001b[0m \u001b[38;5;250m\u001b[39m\u001b[38;5;124;03m\"\"\"\u001b[39;00m\n\u001b[1;32m    244\u001b[0m \u001b[38;5;124;03mCreate the writer & save.\u001b[39;00m\n\u001b[1;32m    245\u001b[0m \u001b[38;5;124;03m\"\"\"\u001b[39;00m\n\u001b[1;32m    246\u001b[0m \u001b[38;5;66;03m# apply compression and byte/text conversion\u001b[39;00m\n\u001b[0;32m--> 247\u001b[0m \u001b[38;5;28;01mwith\u001b[39;00m get_handle(\n\u001b[1;32m    248\u001b[0m     \u001b[38;5;28mself\u001b[39m\u001b[38;5;241m.\u001b[39mfilepath_or_buffer,\n\u001b[1;32m    249\u001b[0m     \u001b[38;5;28mself\u001b[39m\u001b[38;5;241m.\u001b[39mmode,\n\u001b[1;32m    250\u001b[0m     encoding\u001b[38;5;241m=\u001b[39m\u001b[38;5;28mself\u001b[39m\u001b[38;5;241m.\u001b[39mencoding,\n\u001b[1;32m    251\u001b[0m     errors\u001b[38;5;241m=\u001b[39m\u001b[38;5;28mself\u001b[39m\u001b[38;5;241m.\u001b[39merrors,\n\u001b[1;32m    252\u001b[0m     compression\u001b[38;5;241m=\u001b[39m\u001b[38;5;28mself\u001b[39m\u001b[38;5;241m.\u001b[39mcompression,\n\u001b[1;32m    253\u001b[0m     storage_options\u001b[38;5;241m=\u001b[39m\u001b[38;5;28mself\u001b[39m\u001b[38;5;241m.\u001b[39mstorage_options,\n\u001b[1;32m    254\u001b[0m ) \u001b[38;5;28;01mas\u001b[39;00m handles:\n\u001b[1;32m    255\u001b[0m     \u001b[38;5;66;03m# Note: self.encoding is irrelevant here\u001b[39;00m\n\u001b[1;32m    256\u001b[0m     \u001b[38;5;28mself\u001b[39m\u001b[38;5;241m.\u001b[39mwriter \u001b[38;5;241m=\u001b[39m csvlib\u001b[38;5;241m.\u001b[39mwriter(\n\u001b[1;32m    257\u001b[0m         handles\u001b[38;5;241m.\u001b[39mhandle,\n\u001b[1;32m    258\u001b[0m         lineterminator\u001b[38;5;241m=\u001b[39m\u001b[38;5;28mself\u001b[39m\u001b[38;5;241m.\u001b[39mlineterminator,\n\u001b[0;32m   (...)\u001b[0m\n\u001b[1;32m    263\u001b[0m         quotechar\u001b[38;5;241m=\u001b[39m\u001b[38;5;28mself\u001b[39m\u001b[38;5;241m.\u001b[39mquotechar,\n\u001b[1;32m    264\u001b[0m     )\n\u001b[1;32m    266\u001b[0m     \u001b[38;5;28mself\u001b[39m\u001b[38;5;241m.\u001b[39m_save()\n",
      "File \u001b[0;32m~/miniconda3/lib/python3.11/site-packages/pandas/io/common.py:739\u001b[0m, in \u001b[0;36mget_handle\u001b[0;34m(path_or_buf, mode, encoding, compression, memory_map, is_text, errors, storage_options)\u001b[0m\n\u001b[1;32m    737\u001b[0m \u001b[38;5;66;03m# Only for write methods\u001b[39;00m\n\u001b[1;32m    738\u001b[0m \u001b[38;5;28;01mif\u001b[39;00m \u001b[38;5;124m\"\u001b[39m\u001b[38;5;124mr\u001b[39m\u001b[38;5;124m\"\u001b[39m \u001b[38;5;129;01mnot\u001b[39;00m \u001b[38;5;129;01min\u001b[39;00m mode \u001b[38;5;129;01mand\u001b[39;00m is_path:\n\u001b[0;32m--> 739\u001b[0m     check_parent_directory(\u001b[38;5;28mstr\u001b[39m(handle))\n\u001b[1;32m    741\u001b[0m \u001b[38;5;28;01mif\u001b[39;00m compression:\n\u001b[1;32m    742\u001b[0m     \u001b[38;5;28;01mif\u001b[39;00m compression \u001b[38;5;241m!=\u001b[39m \u001b[38;5;124m\"\u001b[39m\u001b[38;5;124mzstd\u001b[39m\u001b[38;5;124m\"\u001b[39m:\n\u001b[1;32m    743\u001b[0m         \u001b[38;5;66;03m# compression libraries do not like an explicit text-mode\u001b[39;00m\n",
      "File \u001b[0;32m~/miniconda3/lib/python3.11/site-packages/pandas/io/common.py:604\u001b[0m, in \u001b[0;36mcheck_parent_directory\u001b[0;34m(path)\u001b[0m\n\u001b[1;32m    602\u001b[0m parent \u001b[38;5;241m=\u001b[39m Path(path)\u001b[38;5;241m.\u001b[39mparent\n\u001b[1;32m    603\u001b[0m \u001b[38;5;28;01mif\u001b[39;00m \u001b[38;5;129;01mnot\u001b[39;00m parent\u001b[38;5;241m.\u001b[39mis_dir():\n\u001b[0;32m--> 604\u001b[0m     \u001b[38;5;28;01mraise\u001b[39;00m \u001b[38;5;167;01mOSError\u001b[39;00m(\u001b[38;5;124mrf\u001b[39m\u001b[38;5;124m\"\u001b[39m\u001b[38;5;124mCannot save file into a non-existent directory: \u001b[39m\u001b[38;5;124m'\u001b[39m\u001b[38;5;132;01m{\u001b[39;00mparent\u001b[38;5;132;01m}\u001b[39;00m\u001b[38;5;124m'\u001b[39m\u001b[38;5;124m\"\u001b[39m)\n",
      "\u001b[0;31mOSError\u001b[0m: Cannot save file into a non-existent directory: 'Gibbon_Chapter_54_Locations..'"
     ]
    }
   ],
   "source": [
    "# save DataFrame to a .csv file\n",
    "location_count_df.to_csv(file_name) # <-- For Jupyter you may want to add path"
   ]
  },
  {
   "cell_type": "code",
   "execution_count": null,
   "metadata": {
    "id": "O8fjepPdRR07"
   },
   "outputs": [],
   "source": [
    "# Colab only\n",
    "files.download(file_name)"
   ]
  }
 ],
 "metadata": {
  "colab": {
   "provenance": []
  },
  "kernelspec": {
   "display_name": "Python 3 (ipykernel)",
   "language": "python",
   "name": "python3"
  },
  "language_info": {
   "codemirror_mode": {
    "name": "ipython",
    "version": 3
   },
   "file_extension": ".py",
   "mimetype": "text/x-python",
   "name": "python",
   "nbconvert_exporter": "python",
   "pygments_lexer": "ipython3",
   "version": "3.11.4"
  }
 },
 "nbformat": 4,
 "nbformat_minor": 1
}
